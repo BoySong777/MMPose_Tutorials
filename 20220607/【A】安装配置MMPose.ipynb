{
 "cells": [
  {
   "cell_type": "markdown",
   "id": "bc3d1961-9081-49c9-be56-ad0c748decf1",
   "metadata": {},
   "source": [
    "# 安装配置MMPose"
   ]
  },
  {
   "cell_type": "markdown",
   "id": "0fc8ebd8-db6e-4a17-895f-2f87fc98ca79",
   "metadata": {},
   "source": [
    "按照顺序逐行运行本代码，即可安装配置 MMCV、MMPose环境\n",
    "\n",
    "代码测试[云GPU环境](https://featurize.cn?s=d7ce99f842414bfcaea5662a97581bd1)：GPU RTX 3060、CUDA v11.2\n",
    "\n",
    "OpenMMLab主页：https://openmmlab.com/\n",
    "\n",
    "MMPose主页：https://github.com/open-mmlab/mmpose\n",
    "\n",
    "作者：同济子豪兄 2022-6-6"
   ]
  },
  {
   "cell_type": "markdown",
   "id": "63d0dc47-4601-49a3-8d25-12b4d24fa6f0",
   "metadata": {},
   "source": [
    "> 提示：以下代码运行时，若长时间运行卡着不动，可重启 kernel 后重新运行一遍"
   ]
  },
  {
   "cell_type": "markdown",
   "id": "6fc1c686-1267-4503-b9e4-bcb188a7f974",
   "metadata": {
    "tags": []
   },
   "source": [
    "## 下载安装Pytorch（大约需要两分钟）"
   ]
  },
  {
   "cell_type": "code",
   "execution_count": 1,
   "id": "ebac87ae-6b96-417f-88f2-5016e8860bb5",
   "metadata": {},
   "outputs": [
    {
     "name": "stdout",
     "output_type": "stream",
     "text": [
      "Looking in indexes: https://pypi.tuna.tsinghua.edu.cn/simple, https://download.pytorch.org/whl/cu113\n",
      "Requirement already satisfied: torch in /environment/miniconda3/lib/python3.7/site-packages (1.10.0+cu113)\n",
      "Requirement already satisfied: torchvision in /environment/miniconda3/lib/python3.7/site-packages (0.11.1+cu113)\n",
      "Requirement already satisfied: torchaudio in /environment/miniconda3/lib/python3.7/site-packages (0.10.0+cu113)\n",
      "Requirement already satisfied: typing-extensions in /environment/miniconda3/lib/python3.7/site-packages (from torch) (4.0.1)\n",
      "Requirement already satisfied: numpy in /environment/miniconda3/lib/python3.7/site-packages (from torchvision) (1.21.4)\n",
      "Requirement already satisfied: pillow!=8.3.0,>=5.3.0 in /environment/miniconda3/lib/python3.7/site-packages (from torchvision) (8.4.0)\n"
     ]
    }
   ],
   "source": [
    "!pip3 install torch torchvision torchaudio --extra-index-url https://download.pytorch.org/whl/cu113"
   ]
  },
  {
   "cell_type": "markdown",
   "id": "30ca00a2-4f39-44f3-9379-8889e3a24b39",
   "metadata": {},
   "source": [
    "## 下载安装 mmcv-full（大约需要两分钟）"
   ]
  },
  {
   "cell_type": "code",
   "execution_count": 2,
   "id": "69d80570-7eb5-4bf4-a84d-39106d23f73b",
   "metadata": {},
   "outputs": [
    {
     "name": "stdout",
     "output_type": "stream",
     "text": [
      "Looking in indexes: https://pypi.tuna.tsinghua.edu.cn/simple\n",
      "Looking in links: https://download.openmmlab.com/mmcv/dist/cu113/torch1.10.0/index.html\n",
      "Collecting mmcv-full\n",
      "  Downloading https://download.openmmlab.com/mmcv/dist/cu113/torch1.10.0/mmcv_full-1.5.2-cp37-cp37m-manylinux1_x86_64.whl (47.9 MB)\n",
      "\u001b[K     |████████████████████████████████| 47.9 MB 28.6 MB/s eta 0:00:01\n",
      "\u001b[?25hRequirement already satisfied: Pillow in /environment/miniconda3/lib/python3.7/site-packages (from mmcv-full) (8.4.0)\n",
      "Requirement already satisfied: numpy in /environment/miniconda3/lib/python3.7/site-packages (from mmcv-full) (1.21.4)\n",
      "Collecting addict\n",
      "  Downloading https://pypi.tuna.tsinghua.edu.cn/packages/6a/00/b08f23b7d7e1e14ce01419a467b583edbb93c6cdb8654e54a9cc579cd61f/addict-2.4.0-py3-none-any.whl (3.8 kB)\n",
      "Requirement already satisfied: packaging in /environment/miniconda3/lib/python3.7/site-packages (from mmcv-full) (21.3)\n",
      "Requirement already satisfied: yapf in /environment/miniconda3/lib/python3.7/site-packages (from mmcv-full) (0.31.0)\n",
      "Requirement already satisfied: pyyaml in /environment/miniconda3/lib/python3.7/site-packages (from mmcv-full) (6.0)\n",
      "Requirement already satisfied: opencv-python>=3 in /environment/miniconda3/lib/python3.7/site-packages (from mmcv-full) (4.5.4.60)\n",
      "Requirement already satisfied: pyparsing!=3.0.5,>=2.0.2 in /environment/miniconda3/lib/python3.7/site-packages (from packaging->mmcv-full) (3.0.6)\n",
      "Installing collected packages: addict, mmcv-full\n",
      "Successfully installed addict-2.4.0 mmcv-full-1.5.2\n"
     ]
    }
   ],
   "source": [
    "# 安装mmcv -full\n",
    "!pip install mmcv-full -f https://download.openmmlab.com/mmcv/dist/cu113/torch1.10.0/index.html"
   ]
  },
  {
   "cell_type": "markdown",
   "id": "38c55520-071b-41de-91f4-3ec78e16bf27",
   "metadata": {},
   "source": [
    "## 安装其它工具包（大约需要一分钟）"
   ]
  },
  {
   "cell_type": "code",
   "execution_count": 3,
   "id": "eb4b3373-f117-46a9-ab43-e67753eb7c61",
   "metadata": {},
   "outputs": [
    {
     "name": "stdout",
     "output_type": "stream",
     "text": [
      "Looking in indexes: https://pypi.tuna.tsinghua.edu.cn/simple\n",
      "Collecting mmdet\n",
      "  Downloading https://pypi.tuna.tsinghua.edu.cn/packages/b0/11/52ad3563ccb589269a559b8b52b4ce0c6ee5e701a0483baa267f25d88416/mmdet-2.25.0-py3-none-any.whl (1.4 MB)\n",
      "\u001b[K     |████████████████████████████████| 1.4 MB 53.9 MB/s eta 0:00:01\n",
      "\u001b[?25hCollecting seaborn\n",
      "  Downloading https://pypi.tuna.tsinghua.edu.cn/packages/10/5b/0479d7d845b5ba410ca702ffcd7f2cd95a14a4dfff1fde2637802b258b9b/seaborn-0.11.2-py3-none-any.whl (292 kB)\n",
      "\u001b[K     |████████████████████████████████| 292 kB 59.0 MB/s eta 0:00:01\n",
      "\u001b[?25hRequirement already satisfied: tqdm in /environment/miniconda3/lib/python3.7/site-packages (4.61.2)\n",
      "Collecting imageio-ffmpeg\n",
      "  Downloading https://pypi.tuna.tsinghua.edu.cn/packages/e5/3b/fdf3e75462e93b7806ffecad6c5aa35f2cc76b9f2faaedf5e43194ceff09/imageio_ffmpeg-0.4.7-py3-none-manylinux2010_x86_64.whl (26.9 MB)\n",
      "\u001b[K     |████████████████████████████████| 26.9 MB 63.9 MB/s eta 0:00:01     |███████████████                 | 12.7 MB 63.9 MB/s eta 0:00:01\n",
      "\u001b[?25hRequirement already satisfied: numpy in /environment/miniconda3/lib/python3.7/site-packages (from mmdet) (1.21.4)\n",
      "Collecting pycocotools\n",
      "  Downloading https://pypi.tuna.tsinghua.edu.cn/packages/75/5c/ac61ea715d7a89ecc31c090753bde28810238225ca8b71778dfe3e6a68bc/pycocotools-2.0.4.tar.gz (106 kB)\n",
      "\u001b[K     |████████████████████████████████| 106 kB 37.2 MB/s eta 0:00:01\n",
      "\u001b[?25h  Installing build dependencies ... \u001b[?25ldone\n",
      "\u001b[?25h  Getting requirements to build wheel ... \u001b[?25ldone\n",
      "\u001b[?25h    Preparing wheel metadata ... \u001b[?25ldone\n",
      "\u001b[?25hCollecting terminaltables\n",
      "  Downloading https://pypi.tuna.tsinghua.edu.cn/packages/c4/fb/ea621e0a19733e01fe4005d46087d383693c0f4a8f824b47d8d4122c87e0/terminaltables-3.1.10-py2.py3-none-any.whl (15 kB)\n",
      "Requirement already satisfied: six in /environment/miniconda3/lib/python3.7/site-packages (from mmdet) (1.16.0)\n",
      "Requirement already satisfied: matplotlib in /environment/miniconda3/lib/python3.7/site-packages (from mmdet) (3.5.0)\n",
      "Requirement already satisfied: pandas>=0.23 in /environment/miniconda3/lib/python3.7/site-packages (from seaborn) (1.3.4)\n",
      "Requirement already satisfied: scipy>=1.0 in /environment/miniconda3/lib/python3.7/site-packages (from seaborn) (1.7.3)\n",
      "Requirement already satisfied: kiwisolver>=1.0.1 in /environment/miniconda3/lib/python3.7/site-packages (from matplotlib->mmdet) (1.3.2)\n",
      "Requirement already satisfied: packaging>=20.0 in /environment/miniconda3/lib/python3.7/site-packages (from matplotlib->mmdet) (21.3)\n",
      "Requirement already satisfied: pillow>=6.2.0 in /environment/miniconda3/lib/python3.7/site-packages (from matplotlib->mmdet) (8.4.0)\n",
      "Requirement already satisfied: setuptools-scm>=4 in /environment/miniconda3/lib/python3.7/site-packages (from matplotlib->mmdet) (6.3.2)\n",
      "Requirement already satisfied: pyparsing>=2.2.1 in /environment/miniconda3/lib/python3.7/site-packages (from matplotlib->mmdet) (3.0.6)\n",
      "Requirement already satisfied: cycler>=0.10 in /environment/miniconda3/lib/python3.7/site-packages (from matplotlib->mmdet) (0.11.0)\n",
      "Requirement already satisfied: python-dateutil>=2.7 in /environment/miniconda3/lib/python3.7/site-packages (from matplotlib->mmdet) (2.8.2)\n",
      "Requirement already satisfied: fonttools>=4.22.0 in /environment/miniconda3/lib/python3.7/site-packages (from matplotlib->mmdet) (4.28.3)\n",
      "Requirement already satisfied: pytz>=2017.3 in /environment/miniconda3/lib/python3.7/site-packages (from pandas>=0.23->seaborn) (2021.3)\n",
      "Requirement already satisfied: tomli>=1.0.0 in /environment/miniconda3/lib/python3.7/site-packages (from setuptools-scm>=4->matplotlib->mmdet) (1.2.2)\n",
      "Requirement already satisfied: setuptools in /environment/miniconda3/lib/python3.7/site-packages (from setuptools-scm>=4->matplotlib->mmdet) (52.0.0.post20210125)\n",
      "Building wheels for collected packages: pycocotools\n",
      "  Building wheel for pycocotools (PEP 517) ... \u001b[?25ldone\n",
      "\u001b[?25h  Created wheel for pycocotools: filename=pycocotools-2.0.4-cp37-cp37m-linux_x86_64.whl size=370201 sha256=b099aa92578f5c43cf5a935b0ef82a8698574d99912ebfe5bd6193506cb6c970\n",
      "  Stored in directory: /home/featurize/.cache/pip/wheels/c0/01/5f/670dfd20204fc9cc6bf843db4e014acb998f411922e3abc49f\n",
      "Successfully built pycocotools\n",
      "Installing collected packages: terminaltables, pycocotools, seaborn, mmdet, imageio-ffmpeg\n",
      "Successfully installed imageio-ffmpeg-0.4.7 mmdet-2.25.0 pycocotools-2.0.4 seaborn-0.11.2 terminaltables-3.1.10\n"
     ]
    }
   ],
   "source": [
    "!pip install mmdet seaborn tqdm imageio-ffmpeg -i https://pypi.tuna.tsinghua.edu.cn/simple"
   ]
  },
  {
   "cell_type": "markdown",
   "id": "0defb2f8-d5ab-4ee4-a66f-85cc17c221de",
   "metadata": {
    "tags": []
   },
   "source": [
    "## 下载 MMPose"
   ]
  },
  {
   "cell_type": "code",
   "execution_count": 4,
   "id": "89026868-58b1-4755-aca3-ded98451e906",
   "metadata": {},
   "outputs": [],
   "source": [
    "# 删掉原有的 mmpose 文件夹（如有）\n",
    "!rm -rf mmpose"
   ]
  },
  {
   "cell_type": "code",
   "execution_count": 5,
   "id": "09c51fee-d040-46cf-8d86-c0248ab7fe84",
   "metadata": {},
   "outputs": [
    {
     "name": "stdout",
     "output_type": "stream",
     "text": [
      "Cloning into 'mmpose'...\n",
      "remote: Enumerating objects: 19528, done.\u001b[K\n",
      "remote: Counting objects: 100% (44/44), done.\u001b[K\n",
      "remote: Compressing objects: 100% (37/37), done.\u001b[K\n",
      "remote: Total 19528 (delta 10), reused 19 (delta 7), pack-reused 19484\u001b[K\n",
      "Receiving objects: 100% (19528/19528), 24.82 MiB | 9.70 MiB/s, done.\n",
      "Resolving deltas: 100% (13866/13866), done.\n",
      "Updating files: 100% (1590/1590), done.\n"
     ]
    }
   ],
   "source": [
    "# 从 github 上下载最新的 mmpose 源代码\n",
    "!git clone https://github.com/open-mmlab/mmpose.git"
   ]
  },
  {
   "cell_type": "markdown",
   "id": "b847e71f-8d93-4204-ac23-0ae97ae2094d",
   "metadata": {},
   "source": [
    "## 安装 MMTracking 依赖包（大约需要2分钟）"
   ]
  },
  {
   "cell_type": "code",
   "execution_count": 6,
   "id": "21f59cb9-bcd6-4d00-93f2-e533c406d484",
   "metadata": {},
   "outputs": [],
   "source": [
    "# 进入 mmpose 主目录\n",
    "import os\n",
    "os.chdir('mmpose')"
   ]
  },
  {
   "cell_type": "code",
   "execution_count": 7,
   "id": "1703a0a7-453e-4414-a14e-c452a8c64fba",
   "metadata": {},
   "outputs": [
    {
     "name": "stdout",
     "output_type": "stream",
     "text": [
      "Looking in indexes: https://pypi.tuna.tsinghua.edu.cn/simple\n",
      "Obtaining file:///home/featurize/work/MMPose%E6%95%99%E7%A8%8B/mmpose\n",
      "Collecting chumpy\n",
      "  Downloading https://pypi.tuna.tsinghua.edu.cn/packages/01/f7/865755c8bdb837841938de622e6c8b5cb6b1c933bde3bd3332f0cd4574f1/chumpy-0.70.tar.gz (50 kB)\n",
      "\u001b[K     |████████████████████████████████| 50 kB 45.7 MB/s eta 0:00:01\n",
      "\u001b[?25hCollecting json_tricks\n",
      "  Downloading https://pypi.tuna.tsinghua.edu.cn/packages/41/ab/f778a61e3195e656da5a6b9a5392d52b5ed4447fcfbb6413bf1077e60fd1/json_tricks-3.15.5-py2.py3-none-any.whl (26 kB)\n",
      "Requirement already satisfied: matplotlib in /environment/miniconda3/lib/python3.7/site-packages (from mmpose==0.27.0) (3.5.0)\n",
      "Collecting munkres\n",
      "  Downloading https://pypi.tuna.tsinghua.edu.cn/packages/90/ab/0301c945a704218bc9435f0e3c88884f6b19ef234d8899fb47ce1ccfd0c9/munkres-1.1.4-py2.py3-none-any.whl (7.0 kB)\n",
      "Requirement already satisfied: numpy in /environment/miniconda3/lib/python3.7/site-packages (from mmpose==0.27.0) (1.21.4)\n",
      "Requirement already satisfied: opencv-python in /environment/miniconda3/lib/python3.7/site-packages (from mmpose==0.27.0) (4.5.4.60)\n",
      "Requirement already satisfied: pillow in /environment/miniconda3/lib/python3.7/site-packages (from mmpose==0.27.0) (8.4.0)\n",
      "Requirement already satisfied: scipy in /environment/miniconda3/lib/python3.7/site-packages (from mmpose==0.27.0) (1.7.3)\n",
      "Requirement already satisfied: torchvision in /environment/miniconda3/lib/python3.7/site-packages (from mmpose==0.27.0) (0.11.1+cu113)\n",
      "Collecting xtcocotools>=1.12\n",
      "  Downloading https://pypi.tuna.tsinghua.edu.cn/packages/ce/58/952ff2cc4d923d985c10a1f4c322bbd283b354ba68633a3242881445d4a3/xtcocotools-1.12-cp37-cp37m-manylinux1_x86_64.whl (276 kB)\n",
      "\u001b[K     |████████████████████████████████| 276 kB 29.9 MB/s eta 0:00:01\n",
      "\u001b[?25hRequirement already satisfied: setuptools>=18.0 in /environment/miniconda3/lib/python3.7/site-packages (from xtcocotools>=1.12->mmpose==0.27.0) (52.0.0.post20210125)\n",
      "Collecting cython>=0.27.3\n",
      "  Downloading https://pypi.tuna.tsinghua.edu.cn/packages/db/de/5e1a3f20487b6ae400f1b40a5a056be37da62239488d92fa29318f9a8755/Cython-0.29.30-cp37-cp37m-manylinux_2_17_x86_64.manylinux2014_x86_64.manylinux_2_24_x86_64.whl (1.9 MB)\n",
      "\u001b[K     |████████████████████████████████| 1.9 MB 61.7 MB/s eta 0:00:01\n",
      "\u001b[?25hRequirement already satisfied: pyparsing>=2.2.1 in /environment/miniconda3/lib/python3.7/site-packages (from matplotlib->mmpose==0.27.0) (3.0.6)\n",
      "Requirement already satisfied: fonttools>=4.22.0 in /environment/miniconda3/lib/python3.7/site-packages (from matplotlib->mmpose==0.27.0) (4.28.3)\n",
      "Requirement already satisfied: packaging>=20.0 in /environment/miniconda3/lib/python3.7/site-packages (from matplotlib->mmpose==0.27.0) (21.3)\n",
      "Requirement already satisfied: python-dateutil>=2.7 in /environment/miniconda3/lib/python3.7/site-packages (from matplotlib->mmpose==0.27.0) (2.8.2)\n",
      "Requirement already satisfied: cycler>=0.10 in /environment/miniconda3/lib/python3.7/site-packages (from matplotlib->mmpose==0.27.0) (0.11.0)\n",
      "Requirement already satisfied: setuptools-scm>=4 in /environment/miniconda3/lib/python3.7/site-packages (from matplotlib->mmpose==0.27.0) (6.3.2)\n",
      "Requirement already satisfied: kiwisolver>=1.0.1 in /environment/miniconda3/lib/python3.7/site-packages (from matplotlib->mmpose==0.27.0) (1.3.2)\n",
      "Requirement already satisfied: six>=1.5 in /environment/miniconda3/lib/python3.7/site-packages (from python-dateutil>=2.7->matplotlib->mmpose==0.27.0) (1.16.0)\n",
      "Requirement already satisfied: tomli>=1.0.0 in /environment/miniconda3/lib/python3.7/site-packages (from setuptools-scm>=4->matplotlib->mmpose==0.27.0) (1.2.2)\n",
      "Requirement already satisfied: torch==1.10.0 in /environment/miniconda3/lib/python3.7/site-packages (from torchvision->mmpose==0.27.0) (1.10.0+cu113)\n",
      "Requirement already satisfied: typing-extensions in /environment/miniconda3/lib/python3.7/site-packages (from torch==1.10.0->torchvision->mmpose==0.27.0) (4.0.1)\n",
      "Building wheels for collected packages: chumpy\n",
      "  Building wheel for chumpy (setup.py) ... \u001b[?25ldone\n",
      "\u001b[?25h  Created wheel for chumpy: filename=chumpy-0.70-py3-none-any.whl size=58285 sha256=97ccd256c860c3a80017d68c219eecd39effb9b49ca79bd7c4f0342f3071a10c\n",
      "  Stored in directory: /home/featurize/.cache/pip/wheels/2f/ff/a6/ddb75bc3aa8fa8ba036634f428f414ed87f966d7e1ad33c514\n",
      "Successfully built chumpy\n",
      "Installing collected packages: cython, xtcocotools, munkres, json-tricks, chumpy, mmpose\n",
      "  Running setup.py develop for mmpose\n",
      "Successfully installed chumpy-0.70 cython-0.29.30 json-tricks-3.15.5 mmpose-0.27.0 munkres-1.1.4 xtcocotools-1.12\n"
     ]
    }
   ],
   "source": [
    "!pip3 install -e ."
   ]
  },
  {
   "cell_type": "markdown",
   "id": "a828bfe4-82e5-497a-9bda-cb9837df2cb3",
   "metadata": {},
   "source": [
    "## 下载预训练模型权重文件和视频素材"
   ]
  },
  {
   "cell_type": "code",
   "execution_count": 8,
   "id": "5aac1d0c-dbf5-478c-ab80-7e2aa0ab0f01",
   "metadata": {},
   "outputs": [],
   "source": [
    "import os\n",
    "\n",
    "# 创建 checkpoints 文件夹，用于存放预训练模型权重文件\n",
    "os.mkdir('checkpoints')\n",
    "\n",
    "# 创建 outputs 文件夹，用于存放预测结果\n",
    "os.mkdir('outputs')\n",
    "\n",
    "# 创建 data 文件夹，用于存放视频\n",
    "os.mkdir('data')"
   ]
  },
  {
   "cell_type": "markdown",
   "id": "e4fb1cb6-2b9b-418c-9230-6b413c748095",
   "metadata": {},
   "source": [
    "## 下载素材\n",
    "\n",
    "如果报错`Unable to establish SSL connection.`，重新运行代码块即可。"
   ]
  },
  {
   "cell_type": "code",
   "execution_count": 9,
   "id": "53116869-a25e-4219-ae38-00ae0b54f7f9",
   "metadata": {},
   "outputs": [
    {
     "name": "stdout",
     "output_type": "stream",
     "text": [
      "--2022-06-07 13:25:57--  https://zihao-download.obs.cn-east-3.myhuaweicloud.com/detectron2/TongjiDancerClub.MOV\n",
      "Connecting to 172.16.0.13:5848... connected.\n",
      "Proxy request sent, awaiting response... 200 OK\n",
      "Length: 5052215 (4.8M) [binary/octet-stream]\n",
      "Saving to: ‘data/TongjiDancerClub.MOV’\n",
      "\n",
      "data/TongjiDancerCl 100%[===================>]   4.82M  9.62MB/s    in 0.5s    \n",
      "\n",
      "2022-06-07 13:25:58 (9.62 MB/s) - ‘data/TongjiDancerClub.MOV’ saved [5052215/5052215]\n",
      "\n",
      "--2022-06-07 13:25:58--  https://zihao-download.obs.cn-east-3.myhuaweicloud.com/detectron2/TongjiDancer.png\n",
      "Connecting to 172.16.0.13:5848... connected.\n",
      "Proxy request sent, awaiting response... 200 OK\n",
      "Length: 10777141 (10M) [image/png]\n",
      "Saving to: ‘data/TongjiDancer.png’\n",
      "\n",
      "data/TongjiDancer.p 100%[===================>]  10.28M  16.2MB/s    in 0.6s    \n",
      "\n",
      "2022-06-07 13:25:59 (16.2 MB/s) - ‘data/TongjiDancer.png’ saved [10777141/10777141]\n",
      "\n"
     ]
    }
   ],
   "source": [
    "# 同济大学多人舞蹈视频，视频来源：同济大学C4Family舞蹈社\n",
    "!wget https://zihao-download.obs.cn-east-3.myhuaweicloud.com/detectron2/TongjiDancerClub.MOV -O data/TongjiDancerClub.MOV\n",
    "!wget https://zihao-download.obs.cn-east-3.myhuaweicloud.com/detectron2/TongjiDancer.png -O data/TongjiDancer.png"
   ]
  },
  {
   "cell_type": "markdown",
   "id": "fa97e1da-f245-4d32-892d-dec07a6b2c16",
   "metadata": {},
   "source": [
    "## 检查是否安装成功"
   ]
  },
  {
   "cell_type": "code",
   "execution_count": 10,
   "id": "6be5098e-e5e7-402b-841a-4006e9e7cd25",
   "metadata": {},
   "outputs": [
    {
     "name": "stdout",
     "output_type": "stream",
     "text": [
      "Pytorch 版本 1.10.0+cu113\n",
      "CUDA 是否可用 True\n"
     ]
    }
   ],
   "source": [
    "# 检查 Pytorch\n",
    "import torch, torchvision\n",
    "print('Pytorch 版本', torch.__version__)\n",
    "print('CUDA 是否可用',torch.cuda.is_available())"
   ]
  },
  {
   "cell_type": "code",
   "execution_count": 11,
   "id": "e4ffef5d-eb49-4785-8d06-2d8f88298014",
   "metadata": {},
   "outputs": [
    {
     "name": "stdout",
     "output_type": "stream",
     "text": [
      "CUDA版本 11.3\n",
      "编译器版本 GCC 7.3\n"
     ]
    }
   ],
   "source": [
    "# 检查 mmcv\n",
    "from mmcv.ops import get_compiling_cuda_version, get_compiler_version\n",
    "print('CUDA版本', get_compiling_cuda_version())\n",
    "print('编译器版本', get_compiler_version())"
   ]
  },
  {
   "cell_type": "code",
   "execution_count": 12,
   "id": "fbd8c8dd-07d2-4c32-9a22-2cdb59e79b26",
   "metadata": {},
   "outputs": [
    {
     "name": "stdout",
     "output_type": "stream",
     "text": [
      "mmpose版本 0.27.0\n"
     ]
    }
   ],
   "source": [
    "# 检查 mmpose\n",
    "import mmpose\n",
    "print('mmpose版本', mmpose.__version__)"
   ]
  },
  {
   "cell_type": "markdown",
   "id": "89716d32-b021-40f7-bb8b-72f6b9df6157",
   "metadata": {},
   "source": [
    "## 小试牛刀"
   ]
  },
  {
   "cell_type": "markdown",
   "id": "6ea9b94f-0222-4986-96aa-d0bf3bdfcdd4",
   "metadata": {},
   "source": [
    "使用预训练的“自顶向下“（top down）对`data` 目录下的图像进行预测。"
   ]
  },
  {
   "cell_type": "code",
   "execution_count": 13,
   "id": "b68f4286-542e-4457-aaf9-1d1f9b7cdb11",
   "metadata": {},
   "outputs": [
    {
     "name": "stdout",
     "output_type": "stream",
     "text": [
      "load checkpoint from http path: https://download.openmmlab.com/mmdetection/v2.0/faster_rcnn/faster_rcnn_r50_fpn_1x_coco/faster_rcnn_r50_fpn_1x_coco_20200130-047c8118.pth\n",
      "Downloading: \"https://download.openmmlab.com/mmdetection/v2.0/faster_rcnn/faster_rcnn_r50_fpn_1x_coco/faster_rcnn_r50_fpn_1x_coco_20200130-047c8118.pth\" to /home/featurize/.cache/torch/hub/checkpoints/faster_rcnn_r50_fpn_1x_coco_20200130-047c8118.pth\n",
      "100%|█████████████████████████████████████████| 160M/160M [00:01<00:00, 112MB/s]\n",
      "load checkpoint from http path: https://download.openmmlab.com/mmpose/top_down/hrnet/hrnet_w48_coco_256x192-b9e0b3ab_20200708.pth\n",
      "Downloading: \"https://download.openmmlab.com/mmpose/top_down/hrnet/hrnet_w48_coco_256x192-b9e0b3ab_20200708.pth\" to /home/featurize/.cache/torch/hub/checkpoints/hrnet_w48_coco_256x192-b9e0b3ab_20200708.pth\n",
      "100%|█████████████████████████████████████████| 243M/243M [00:02<00:00, 111MB/s]\n"
     ]
    }
   ],
   "source": [
    "!python demo/top_down_img_demo_with_mmdet.py \\\n",
    "        demo/mmdetection_cfg/faster_rcnn_r50_fpn_coco.py \\\n",
    "        https://download.openmmlab.com/mmdetection/v2.0/faster_rcnn/faster_rcnn_r50_fpn_1x_coco/faster_rcnn_r50_fpn_1x_coco_20200130-047c8118.pth \\\n",
    "        configs/body/2d_kpt_sview_rgb_img/topdown_heatmap/coco/hrnet_w48_coco_256x192.py \\\n",
    "        https://download.openmmlab.com/mmpose/top_down/hrnet/hrnet_w48_coco_256x192-b9e0b3ab_20200708.pth \\\n",
    "        --img data/TongjiDancer.png \\\n",
    "        --out-img-root outputs/A"
   ]
  },
  {
   "cell_type": "code",
   "execution_count": null,
   "id": "fd9aa6b4-5d8d-4d85-86c7-ea84b579fb19",
   "metadata": {},
   "outputs": [],
   "source": []
  }
 ],
 "metadata": {
  "kernelspec": {
   "display_name": "Python 3 (ipykernel)",
   "language": "python",
   "name": "python3"
  },
  "language_info": {
   "codemirror_mode": {
    "name": "ipython",
    "version": 3
   },
   "file_extension": ".py",
   "mimetype": "text/x-python",
   "name": "python",
   "nbconvert_exporter": "python",
   "pygments_lexer": "ipython3",
   "version": "3.7.10"
  }
 },
 "nbformat": 4,
 "nbformat_minor": 5
}
