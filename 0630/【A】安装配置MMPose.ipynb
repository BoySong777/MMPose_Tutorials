{
 "cells": [
  {
   "cell_type": "markdown",
   "id": "bc3d1961-9081-49c9-be56-ad0c748decf1",
   "metadata": {},
   "source": [
    "# 安装配置MMPose"
   ]
  },
  {
   "cell_type": "markdown",
   "id": "0fc8ebd8-db6e-4a17-895f-2f87fc98ca79",
   "metadata": {},
   "source": [
    "按照顺序逐行运行本代码，即可安装配置 MMCV、MMPose环境\n",
    "\n",
    "代码测试[云GPU环境](https://featurize.cn?s=d7ce99f842414bfcaea5662a97581bd1)：GPU RTX 3060、CUDA v11.2\n",
    "\n",
    "OpenMMLab主页：https://openmmlab.com/\n",
    "\n",
    "MMPose主页：https://github.com/open-mmlab/mmpose\n",
    "\n",
    "作者：同济子豪兄 2022-6-6"
   ]
  },
  {
   "cell_type": "markdown",
   "id": "63d0dc47-4601-49a3-8d25-12b4d24fa6f0",
   "metadata": {},
   "source": [
    "> 提示：以下代码运行时，若长时间运行卡着不动，可重启 kernel 后重新运行一遍"
   ]
  },
  {
   "cell_type": "markdown",
   "id": "6fc1c686-1267-4503-b9e4-bcb188a7f974",
   "metadata": {
    "tags": []
   },
   "source": [
    "## 下载安装Pytorch（大约需要两分钟）"
   ]
  },
  {
   "cell_type": "code",
   "execution_count": 1,
   "id": "ebac87ae-6b96-417f-88f2-5016e8860bb5",
   "metadata": {},
   "outputs": [
    {
     "name": "stdout",
     "output_type": "stream",
     "text": [
      "Looking in indexes: https://pypi.tuna.tsinghua.edu.cn/simple, https://download.pytorch.org/whl/cu113\n",
      "Requirement already satisfied: torch in /environment/miniconda3/lib/python3.7/site-packages (1.10.0+cu113)\n",
      "Requirement already satisfied: torchvision in /environment/miniconda3/lib/python3.7/site-packages (0.11.1+cu113)\n",
      "Requirement already satisfied: torchaudio in /environment/miniconda3/lib/python3.7/site-packages (0.10.0+cu113)\n",
      "Requirement already satisfied: typing-extensions in /environment/miniconda3/lib/python3.7/site-packages (from torch) (4.0.1)\n",
      "Requirement already satisfied: pillow!=8.3.0,>=5.3.0 in /environment/miniconda3/lib/python3.7/site-packages (from torchvision) (8.4.0)\n",
      "Requirement already satisfied: numpy in /environment/miniconda3/lib/python3.7/site-packages (from torchvision) (1.21.4)\n"
     ]
    }
   ],
   "source": [
    "!pip3 install torch torchvision torchaudio --extra-index-url https://download.pytorch.org/whl/cu113"
   ]
  },
  {
   "cell_type": "markdown",
   "id": "30ca00a2-4f39-44f3-9379-8889e3a24b39",
   "metadata": {},
   "source": [
    "## 下载安装 mmcv-full（大约需要两分钟）"
   ]
  },
  {
   "cell_type": "code",
   "execution_count": 2,
   "id": "69d80570-7eb5-4bf4-a84d-39106d23f73b",
   "metadata": {},
   "outputs": [
    {
     "name": "stdout",
     "output_type": "stream",
     "text": [
      "Looking in indexes: https://pypi.tuna.tsinghua.edu.cn/simple\n",
      "Looking in links: https://download.openmmlab.com/mmcv/dist/cu113/torch1.10.0/index.html\n",
      "Requirement already satisfied: mmcv-full in /environment/miniconda3/lib/python3.7/site-packages (1.5.3)\n",
      "Requirement already satisfied: numpy in /environment/miniconda3/lib/python3.7/site-packages (from mmcv-full) (1.21.4)\n",
      "Requirement already satisfied: pyyaml in /environment/miniconda3/lib/python3.7/site-packages (from mmcv-full) (6.0)\n",
      "Requirement already satisfied: Pillow in /environment/miniconda3/lib/python3.7/site-packages (from mmcv-full) (8.4.0)\n",
      "Requirement already satisfied: yapf in /environment/miniconda3/lib/python3.7/site-packages (from mmcv-full) (0.31.0)\n",
      "Requirement already satisfied: opencv-python>=3 in /environment/miniconda3/lib/python3.7/site-packages (from mmcv-full) (4.5.4.60)\n",
      "Requirement already satisfied: packaging in /environment/miniconda3/lib/python3.7/site-packages (from mmcv-full) (21.3)\n",
      "Requirement already satisfied: addict in /environment/miniconda3/lib/python3.7/site-packages (from mmcv-full) (2.4.0)\n",
      "Requirement already satisfied: pyparsing!=3.0.5,>=2.0.2 in /environment/miniconda3/lib/python3.7/site-packages (from packaging->mmcv-full) (3.0.6)\n"
     ]
    }
   ],
   "source": [
    "# 安装mmcv -full\n",
    "!pip install mmcv-full -f https://download.openmmlab.com/mmcv/dist/cu113/torch1.10.0/index.html"
   ]
  },
  {
   "cell_type": "markdown",
   "id": "38c55520-071b-41de-91f4-3ec78e16bf27",
   "metadata": {},
   "source": [
    "## 安装其它工具包（大约需要一分钟）"
   ]
  },
  {
   "cell_type": "code",
   "execution_count": 3,
   "id": "eb4b3373-f117-46a9-ab43-e67753eb7c61",
   "metadata": {},
   "outputs": [
    {
     "name": "stdout",
     "output_type": "stream",
     "text": [
      "Looking in indexes: https://pypi.tuna.tsinghua.edu.cn/simple\n",
      "Requirement already satisfied: mmdet in /environment/miniconda3/lib/python3.7/site-packages (2.25.0)\n",
      "Requirement already satisfied: seaborn in /environment/miniconda3/lib/python3.7/site-packages (0.11.2)\n",
      "Requirement already satisfied: tqdm in /environment/miniconda3/lib/python3.7/site-packages (4.61.2)\n",
      "Requirement already satisfied: imageio-ffmpeg in /environment/miniconda3/lib/python3.7/site-packages (0.4.7)\n",
      "Requirement already satisfied: terminaltables in /environment/miniconda3/lib/python3.7/site-packages (from mmdet) (3.1.10)\n",
      "Requirement already satisfied: matplotlib in /environment/miniconda3/lib/python3.7/site-packages (from mmdet) (3.5.0)\n",
      "Requirement already satisfied: six in /environment/miniconda3/lib/python3.7/site-packages (from mmdet) (1.16.0)\n",
      "Requirement already satisfied: numpy in /environment/miniconda3/lib/python3.7/site-packages (from mmdet) (1.21.4)\n",
      "Requirement already satisfied: pycocotools in /environment/miniconda3/lib/python3.7/site-packages (from mmdet) (2.0.2)\n",
      "Requirement already satisfied: pandas>=0.23 in /environment/miniconda3/lib/python3.7/site-packages (from seaborn) (1.3.4)\n",
      "Requirement already satisfied: scipy>=1.0 in /environment/miniconda3/lib/python3.7/site-packages (from seaborn) (1.7.3)\n",
      "Requirement already satisfied: python-dateutil>=2.7 in /environment/miniconda3/lib/python3.7/site-packages (from matplotlib->mmdet) (2.8.2)\n",
      "Requirement already satisfied: kiwisolver>=1.0.1 in /environment/miniconda3/lib/python3.7/site-packages (from matplotlib->mmdet) (1.3.2)\n",
      "Requirement already satisfied: cycler>=0.10 in /environment/miniconda3/lib/python3.7/site-packages (from matplotlib->mmdet) (0.11.0)\n",
      "Requirement already satisfied: pyparsing>=2.2.1 in /environment/miniconda3/lib/python3.7/site-packages (from matplotlib->mmdet) (3.0.6)\n",
      "Requirement already satisfied: packaging>=20.0 in /environment/miniconda3/lib/python3.7/site-packages (from matplotlib->mmdet) (21.3)\n",
      "Requirement already satisfied: pillow>=6.2.0 in /environment/miniconda3/lib/python3.7/site-packages (from matplotlib->mmdet) (8.4.0)\n",
      "Requirement already satisfied: setuptools-scm>=4 in /environment/miniconda3/lib/python3.7/site-packages (from matplotlib->mmdet) (6.3.2)\n",
      "Requirement already satisfied: fonttools>=4.22.0 in /environment/miniconda3/lib/python3.7/site-packages (from matplotlib->mmdet) (4.28.3)\n",
      "Requirement already satisfied: pytz>=2017.3 in /environment/miniconda3/lib/python3.7/site-packages (from pandas>=0.23->seaborn) (2021.3)\n",
      "Requirement already satisfied: tomli>=1.0.0 in /environment/miniconda3/lib/python3.7/site-packages (from setuptools-scm>=4->matplotlib->mmdet) (1.2.2)\n",
      "Requirement already satisfied: setuptools in /environment/miniconda3/lib/python3.7/site-packages (from setuptools-scm>=4->matplotlib->mmdet) (52.0.0.post20210125)\n",
      "Requirement already satisfied: cython>=0.27.3 in /environment/miniconda3/lib/python3.7/site-packages (from pycocotools->mmdet) (0.29.30)\n"
     ]
    }
   ],
   "source": [
    "!pip install mmdet seaborn tqdm imageio-ffmpeg -i https://pypi.tuna.tsinghua.edu.cn/simple"
   ]
  },
  {
   "cell_type": "markdown",
   "id": "0defb2f8-d5ab-4ee4-a66f-85cc17c221de",
   "metadata": {
    "tags": []
   },
   "source": [
    "## 下载安装 MMPose"
   ]
  },
  {
   "cell_type": "code",
   "execution_count": 4,
   "id": "89026868-58b1-4755-aca3-ded98451e906",
   "metadata": {},
   "outputs": [],
   "source": [
    "# 删掉原有的 mmpose 文件夹（如有）\n",
    "!rm -rf mmpose"
   ]
  },
  {
   "cell_type": "code",
   "execution_count": 5,
   "id": "09c51fee-d040-46cf-8d86-c0248ab7fe84",
   "metadata": {},
   "outputs": [
    {
     "name": "stdout",
     "output_type": "stream",
     "text": [
      "Cloning into 'mmpose'...\n",
      "remote: Enumerating objects: 19183, done.\u001b[K\n",
      "remote: Counting objects: 100% (259/259), done.\u001b[K\n",
      "remote: Compressing objects: 100% (188/188), done.\u001b[K\n",
      "remote: Total 19183 (delta 97), reused 173 (delta 70), pack-reused 18924\u001b[K\n",
      "Receiving objects: 100% (19183/19183), 24.88 MiB | 5.09 MiB/s, done.\n",
      "Resolving deltas: 100% (13565/13565), done.\n",
      "Updating files: 100% (1591/1591), done.\n"
     ]
    }
   ],
   "source": [
    "# 从 github 上下载最新的 mmpose 源代码\n",
    "!git clone https://github.com/open-mmlab/mmpose.git"
   ]
  },
  {
   "cell_type": "code",
   "execution_count": 6,
   "id": "21f59cb9-bcd6-4d00-93f2-e533c406d484",
   "metadata": {},
   "outputs": [],
   "source": [
    "# 进入 mmpose 主目录\n",
    "import os\n",
    "os.chdir('mmpose')"
   ]
  },
  {
   "cell_type": "code",
   "execution_count": 7,
   "id": "1703a0a7-453e-4414-a14e-c452a8c64fba",
   "metadata": {},
   "outputs": [
    {
     "name": "stdout",
     "output_type": "stream",
     "text": [
      "Looking in indexes: https://pypi.tuna.tsinghua.edu.cn/simple\n",
      "Ignoring dataclasses: markers 'python_version == \"3.6\"' don't match your environment\n",
      "Collecting poseval@ git+https://github.com/svenkreiss/poseval.git\n",
      "  Cloning https://github.com/svenkreiss/poseval.git to /tmp/pip-install-09hin5kr/poseval_ea96ce63b66b4bd493b82b34756c9296\n",
      "  Running command git clone -q https://github.com/svenkreiss/poseval.git /tmp/pip-install-09hin5kr/poseval_ea96ce63b66b4bd493b82b34756c9296\n",
      "  Running command git submodule update --init --recursive -q\n",
      "Requirement already satisfied: numpy in /environment/miniconda3/lib/python3.7/site-packages (from -r requirements/build.txt (line 2)) (1.21.4)\n",
      "Requirement already satisfied: torch>=1.3 in /environment/miniconda3/lib/python3.7/site-packages (from -r requirements/build.txt (line 3)) (1.10.0+cu113)\n",
      "Requirement already satisfied: chumpy in /environment/miniconda3/lib/python3.7/site-packages (from -r requirements/runtime.txt (line 1)) (0.70)\n",
      "Requirement already satisfied: json_tricks in /environment/miniconda3/lib/python3.7/site-packages (from -r requirements/runtime.txt (line 3)) (3.15.5)\n",
      "Requirement already satisfied: matplotlib in /environment/miniconda3/lib/python3.7/site-packages (from -r requirements/runtime.txt (line 4)) (3.5.0)\n",
      "Requirement already satisfied: munkres in /environment/miniconda3/lib/python3.7/site-packages (from -r requirements/runtime.txt (line 5)) (1.1.4)\n",
      "Requirement already satisfied: opencv-python in /environment/miniconda3/lib/python3.7/site-packages (from -r requirements/runtime.txt (line 7)) (4.5.4.60)\n",
      "Requirement already satisfied: pillow in /environment/miniconda3/lib/python3.7/site-packages (from -r requirements/runtime.txt (line 8)) (8.4.0)\n",
      "Requirement already satisfied: scipy in /environment/miniconda3/lib/python3.7/site-packages (from -r requirements/runtime.txt (line 9)) (1.7.3)\n",
      "Requirement already satisfied: torchvision in /environment/miniconda3/lib/python3.7/site-packages (from -r requirements/runtime.txt (line 10)) (0.11.1+cu113)\n",
      "Requirement already satisfied: xtcocotools>=1.12 in /environment/miniconda3/lib/python3.7/site-packages (from -r requirements/runtime.txt (line 11)) (1.12)\n",
      "Requirement already satisfied: coverage in /environment/miniconda3/lib/python3.7/site-packages (from -r requirements/tests.txt (line 1)) (6.4.1)\n",
      "Requirement already satisfied: flake8 in /environment/miniconda3/lib/python3.7/site-packages (from -r requirements/tests.txt (line 2)) (3.8.4)\n",
      "Requirement already satisfied: interrogate in /environment/miniconda3/lib/python3.7/site-packages (from -r requirements/tests.txt (line 3)) (1.5.0)\n",
      "Requirement already satisfied: isort==4.3.21 in /environment/miniconda3/lib/python3.7/site-packages (from -r requirements/tests.txt (line 4)) (4.3.21)\n",
      "Requirement already satisfied: pytest in /environment/miniconda3/lib/python3.7/site-packages (from -r requirements/tests.txt (line 5)) (7.1.2)\n",
      "Requirement already satisfied: pytest-runner in /environment/miniconda3/lib/python3.7/site-packages (from -r requirements/tests.txt (line 6)) (6.0.0)\n",
      "Requirement already satisfied: smplx>=0.1.28 in /environment/miniconda3/lib/python3.7/site-packages (from -r requirements/tests.txt (line 7)) (0.1.28)\n",
      "Requirement already satisfied: xdoctest>=0.10.0 in /environment/miniconda3/lib/python3.7/site-packages (from -r requirements/tests.txt (line 8)) (1.0.0)\n",
      "Requirement already satisfied: yapf in /environment/miniconda3/lib/python3.7/site-packages (from -r requirements/tests.txt (line 9)) (0.31.0)\n",
      "Requirement already satisfied: albumentations>=0.3.2 in /environment/miniconda3/lib/python3.7/site-packages (from -r requirements/optional.txt (line 1)) (1.1.0)\n",
      "Requirement already satisfied: onnx in /environment/miniconda3/lib/python3.7/site-packages (from -r requirements/optional.txt (line 2)) (1.12.0)\n",
      "Requirement already satisfied: onnxruntime in /environment/miniconda3/lib/python3.7/site-packages (from -r requirements/optional.txt (line 3)) (1.11.1)\n",
      "Requirement already satisfied: pyrender in /environment/miniconda3/lib/python3.7/site-packages (from -r requirements/optional.txt (line 5)) (0.1.45)\n",
      "Requirement already satisfied: requests in /environment/miniconda3/lib/python3.7/site-packages (from -r requirements/optional.txt (line 6)) (2.24.0)\n",
      "Requirement already satisfied: trimesh in /environment/miniconda3/lib/python3.7/site-packages (from -r requirements/optional.txt (line 8)) (3.12.6)\n",
      "Requirement already satisfied: click in /environment/miniconda3/lib/python3.7/site-packages (from poseval@ git+https://github.com/svenkreiss/poseval.git->-r requirements/optional.txt (line 4)) (7.1.2)\n",
      "Requirement already satisfied: motmetrics>=1.2 in /environment/miniconda3/lib/python3.7/site-packages (from poseval@ git+https://github.com/svenkreiss/poseval.git->-r requirements/optional.txt (line 4)) (1.2.5)\n",
      "Requirement already satisfied: shapely in /environment/miniconda3/lib/python3.7/site-packages (from poseval@ git+https://github.com/svenkreiss/poseval.git->-r requirements/optional.txt (line 4)) (1.8.2)\n",
      "Requirement already satisfied: tqdm in /environment/miniconda3/lib/python3.7/site-packages (from poseval@ git+https://github.com/svenkreiss/poseval.git->-r requirements/optional.txt (line 4)) (4.61.2)\n",
      "Requirement already satisfied: typing-extensions in /environment/miniconda3/lib/python3.7/site-packages (from torch>=1.3->-r requirements/build.txt (line 3)) (4.0.1)\n",
      "Requirement already satisfied: cython>=0.27.3 in /environment/miniconda3/lib/python3.7/site-packages (from xtcocotools>=1.12->-r requirements/runtime.txt (line 11)) (0.29.30)\n",
      "Requirement already satisfied: setuptools>=18.0 in /environment/miniconda3/lib/python3.7/site-packages (from xtcocotools>=1.12->-r requirements/runtime.txt (line 11)) (52.0.0.post20210125)\n",
      "Requirement already satisfied: python-dateutil>=2.7 in /environment/miniconda3/lib/python3.7/site-packages (from matplotlib->-r requirements/runtime.txt (line 4)) (2.8.2)\n",
      "Requirement already satisfied: cycler>=0.10 in /environment/miniconda3/lib/python3.7/site-packages (from matplotlib->-r requirements/runtime.txt (line 4)) (0.11.0)\n",
      "Requirement already satisfied: kiwisolver>=1.0.1 in /environment/miniconda3/lib/python3.7/site-packages (from matplotlib->-r requirements/runtime.txt (line 4)) (1.3.2)\n",
      "Requirement already satisfied: fonttools>=4.22.0 in /environment/miniconda3/lib/python3.7/site-packages (from matplotlib->-r requirements/runtime.txt (line 4)) (4.28.3)\n",
      "Requirement already satisfied: pyparsing>=2.2.1 in /environment/miniconda3/lib/python3.7/site-packages (from matplotlib->-r requirements/runtime.txt (line 4)) (3.0.6)\n",
      "Requirement already satisfied: packaging>=20.0 in /environment/miniconda3/lib/python3.7/site-packages (from matplotlib->-r requirements/runtime.txt (line 4)) (21.3)\n",
      "Requirement already satisfied: setuptools-scm>=4 in /environment/miniconda3/lib/python3.7/site-packages (from matplotlib->-r requirements/runtime.txt (line 4)) (6.3.2)\n",
      "Requirement already satisfied: six in /environment/miniconda3/lib/python3.7/site-packages (from xdoctest>=0.10.0->-r requirements/tests.txt (line 8)) (1.16.0)\n",
      "Requirement already satisfied: PyYAML in /environment/miniconda3/lib/python3.7/site-packages (from albumentations>=0.3.2->-r requirements/optional.txt (line 1)) (6.0)\n",
      "Requirement already satisfied: scikit-image>=0.16.1 in /environment/miniconda3/lib/python3.7/site-packages (from albumentations>=0.3.2->-r requirements/optional.txt (line 1)) (0.19.0)\n",
      "Requirement already satisfied: opencv-python-headless>=4.1.1 in /environment/miniconda3/lib/python3.7/site-packages (from albumentations>=0.3.2->-r requirements/optional.txt (line 1)) (4.5.4.60)\n",
      "Requirement already satisfied: qudida>=0.0.4 in /environment/miniconda3/lib/python3.7/site-packages (from albumentations>=0.3.2->-r requirements/optional.txt (line 1)) (0.0.4)\n",
      "Requirement already satisfied: pandas>=0.23.1 in /environment/miniconda3/lib/python3.7/site-packages (from motmetrics>=1.2->poseval@ git+https://github.com/svenkreiss/poseval.git->-r requirements/optional.txt (line 4)) (1.3.4)\n",
      "Requirement already satisfied: xmltodict>=0.12.0 in /environment/miniconda3/lib/python3.7/site-packages (from motmetrics>=1.2->poseval@ git+https://github.com/svenkreiss/poseval.git->-r requirements/optional.txt (line 4)) (0.13.0)\n",
      "Requirement already satisfied: pytz>=2017.3 in /environment/miniconda3/lib/python3.7/site-packages (from pandas>=0.23.1->motmetrics>=1.2->poseval@ git+https://github.com/svenkreiss/poseval.git->-r requirements/optional.txt (line 4)) (2021.3)\n",
      "Requirement already satisfied: scikit-learn>=0.19.1 in /environment/miniconda3/lib/python3.7/site-packages (from qudida>=0.0.4->albumentations>=0.3.2->-r requirements/optional.txt (line 1)) (1.0.1)\n",
      "Requirement already satisfied: networkx>=2.2 in /environment/miniconda3/lib/python3.7/site-packages (from scikit-image>=0.16.1->albumentations>=0.3.2->-r requirements/optional.txt (line 1)) (2.6.3)\n",
      "Requirement already satisfied: tifffile>=2019.7.26 in /environment/miniconda3/lib/python3.7/site-packages (from scikit-image>=0.16.1->albumentations>=0.3.2->-r requirements/optional.txt (line 1)) (2021.11.2)\n",
      "Requirement already satisfied: PyWavelets>=1.1.1 in /environment/miniconda3/lib/python3.7/site-packages (from scikit-image>=0.16.1->albumentations>=0.3.2->-r requirements/optional.txt (line 1)) (1.2.0)\n",
      "Requirement already satisfied: imageio>=2.4.1 in /environment/miniconda3/lib/python3.7/site-packages (from scikit-image>=0.16.1->albumentations>=0.3.2->-r requirements/optional.txt (line 1)) (2.13.3)\n",
      "Requirement already satisfied: joblib>=0.11 in /environment/miniconda3/lib/python3.7/site-packages (from scikit-learn>=0.19.1->qudida>=0.0.4->albumentations>=0.3.2->-r requirements/optional.txt (line 1)) (1.1.0)\n",
      "Requirement already satisfied: threadpoolctl>=2.0.0 in /environment/miniconda3/lib/python3.7/site-packages (from scikit-learn>=0.19.1->qudida>=0.0.4->albumentations>=0.3.2->-r requirements/optional.txt (line 1)) (3.0.0)\n",
      "Requirement already satisfied: tomli>=1.0.0 in /environment/miniconda3/lib/python3.7/site-packages (from setuptools-scm>=4->matplotlib->-r requirements/runtime.txt (line 4)) (1.2.2)\n",
      "Requirement already satisfied: mccabe<0.7.0,>=0.6.0 in /environment/miniconda3/lib/python3.7/site-packages (from flake8->-r requirements/tests.txt (line 2)) (0.6.1)\n",
      "Requirement already satisfied: importlib-metadata in /environment/miniconda3/lib/python3.7/site-packages (from flake8->-r requirements/tests.txt (line 2)) (4.8.2)\n",
      "Requirement already satisfied: pyflakes<2.3.0,>=2.2.0 in /environment/miniconda3/lib/python3.7/site-packages (from flake8->-r requirements/tests.txt (line 2)) (2.2.0)\n",
      "Requirement already satisfied: pycodestyle<2.7.0,>=2.6.0a1 in /environment/miniconda3/lib/python3.7/site-packages (from flake8->-r requirements/tests.txt (line 2)) (2.6.0)\n",
      "Requirement already satisfied: tabulate in /environment/miniconda3/lib/python3.7/site-packages (from interrogate->-r requirements/tests.txt (line 3)) (0.8.7)\n",
      "Requirement already satisfied: colorama in /environment/miniconda3/lib/python3.7/site-packages (from interrogate->-r requirements/tests.txt (line 3)) (0.4.4)\n",
      "Requirement already satisfied: attrs in /environment/miniconda3/lib/python3.7/site-packages (from interrogate->-r requirements/tests.txt (line 3)) (21.2.0)\n",
      "Requirement already satisfied: toml in /environment/miniconda3/lib/python3.7/site-packages (from interrogate->-r requirements/tests.txt (line 3)) (0.10.2)\n",
      "Requirement already satisfied: py in /environment/miniconda3/lib/python3.7/site-packages (from interrogate->-r requirements/tests.txt (line 3)) (1.11.0)\n",
      "Requirement already satisfied: pluggy<2.0,>=0.12 in /environment/miniconda3/lib/python3.7/site-packages (from pytest->-r requirements/tests.txt (line 5)) (1.0.0)\n",
      "Requirement already satisfied: iniconfig in /environment/miniconda3/lib/python3.7/site-packages (from pytest->-r requirements/tests.txt (line 5)) (1.1.1)\n",
      "Requirement already satisfied: zipp>=0.5 in /environment/miniconda3/lib/python3.7/site-packages (from importlib-metadata->flake8->-r requirements/tests.txt (line 2)) (3.6.0)\n",
      "Requirement already satisfied: protobuf<=3.20.1,>=3.12.2 in /environment/miniconda3/lib/python3.7/site-packages (from onnx->-r requirements/optional.txt (line 2)) (3.19.1)\n",
      "Requirement already satisfied: flatbuffers in /environment/miniconda3/lib/python3.7/site-packages (from onnxruntime->-r requirements/optional.txt (line 3)) (2.0)\n",
      "Requirement already satisfied: PyOpenGL==3.1.0 in /environment/miniconda3/lib/python3.7/site-packages (from pyrender->-r requirements/optional.txt (line 5)) (3.1.0)\n",
      "Requirement already satisfied: freetype-py in /environment/miniconda3/lib/python3.7/site-packages (from pyrender->-r requirements/optional.txt (line 5)) (2.3.0)\n",
      "Requirement already satisfied: pyglet>=1.4.10 in /environment/miniconda3/lib/python3.7/site-packages (from pyrender->-r requirements/optional.txt (line 5)) (1.5.26)\n",
      "Requirement already satisfied: idna<3,>=2.5 in /environment/miniconda3/lib/python3.7/site-packages (from requests->-r requirements/optional.txt (line 6)) (2.10)\n",
      "Requirement already satisfied: urllib3!=1.25.0,!=1.25.1,<1.26,>=1.21.1 in /environment/miniconda3/lib/python3.7/site-packages (from requests->-r requirements/optional.txt (line 6)) (1.25.11)\n",
      "Requirement already satisfied: certifi>=2017.4.17 in /environment/miniconda3/lib/python3.7/site-packages (from requests->-r requirements/optional.txt (line 6)) (2021.5.30)\n",
      "Requirement already satisfied: chardet<4,>=3.0.2 in /environment/miniconda3/lib/python3.7/site-packages (from requests->-r requirements/optional.txt (line 6)) (3.0.4)\n",
      "Looking in indexes: https://pypi.tuna.tsinghua.edu.cn/simple\n",
      "Obtaining file:///home/featurize/work/MMPose%E6%95%99%E7%A8%8B/mmpose\n",
      "Requirement already satisfied: chumpy in /environment/miniconda3/lib/python3.7/site-packages (from mmpose==0.27.0) (0.70)\n",
      "Requirement already satisfied: json_tricks in /environment/miniconda3/lib/python3.7/site-packages (from mmpose==0.27.0) (3.15.5)\n",
      "Requirement already satisfied: matplotlib in /environment/miniconda3/lib/python3.7/site-packages (from mmpose==0.27.0) (3.5.0)\n",
      "Requirement already satisfied: munkres in /environment/miniconda3/lib/python3.7/site-packages (from mmpose==0.27.0) (1.1.4)\n",
      "Requirement already satisfied: numpy in /environment/miniconda3/lib/python3.7/site-packages (from mmpose==0.27.0) (1.21.4)\n",
      "Requirement already satisfied: opencv-python in /environment/miniconda3/lib/python3.7/site-packages (from mmpose==0.27.0) (4.5.4.60)\n",
      "Requirement already satisfied: pillow in /environment/miniconda3/lib/python3.7/site-packages (from mmpose==0.27.0) (8.4.0)\n",
      "Requirement already satisfied: scipy in /environment/miniconda3/lib/python3.7/site-packages (from mmpose==0.27.0) (1.7.3)\n",
      "Requirement already satisfied: torchvision in /environment/miniconda3/lib/python3.7/site-packages (from mmpose==0.27.0) (0.11.1+cu113)\n",
      "Requirement already satisfied: xtcocotools>=1.12 in /environment/miniconda3/lib/python3.7/site-packages (from mmpose==0.27.0) (1.12)\n",
      "Requirement already satisfied: cython>=0.27.3 in /environment/miniconda3/lib/python3.7/site-packages (from xtcocotools>=1.12->mmpose==0.27.0) (0.29.30)\n",
      "Requirement already satisfied: setuptools>=18.0 in /environment/miniconda3/lib/python3.7/site-packages (from xtcocotools>=1.12->mmpose==0.27.0) (52.0.0.post20210125)\n",
      "Requirement already satisfied: setuptools-scm>=4 in /environment/miniconda3/lib/python3.7/site-packages (from matplotlib->mmpose==0.27.0) (6.3.2)\n",
      "Requirement already satisfied: kiwisolver>=1.0.1 in /environment/miniconda3/lib/python3.7/site-packages (from matplotlib->mmpose==0.27.0) (1.3.2)\n",
      "Requirement already satisfied: python-dateutil>=2.7 in /environment/miniconda3/lib/python3.7/site-packages (from matplotlib->mmpose==0.27.0) (2.8.2)\n",
      "Requirement already satisfied: cycler>=0.10 in /environment/miniconda3/lib/python3.7/site-packages (from matplotlib->mmpose==0.27.0) (0.11.0)\n",
      "Requirement already satisfied: fonttools>=4.22.0 in /environment/miniconda3/lib/python3.7/site-packages (from matplotlib->mmpose==0.27.0) (4.28.3)\n",
      "Requirement already satisfied: packaging>=20.0 in /environment/miniconda3/lib/python3.7/site-packages (from matplotlib->mmpose==0.27.0) (21.3)\n",
      "Requirement already satisfied: pyparsing>=2.2.1 in /environment/miniconda3/lib/python3.7/site-packages (from matplotlib->mmpose==0.27.0) (3.0.6)\n",
      "Requirement already satisfied: six>=1.5 in /environment/miniconda3/lib/python3.7/site-packages (from python-dateutil>=2.7->matplotlib->mmpose==0.27.0) (1.16.0)\n",
      "Requirement already satisfied: tomli>=1.0.0 in /environment/miniconda3/lib/python3.7/site-packages (from setuptools-scm>=4->matplotlib->mmpose==0.27.0) (1.2.2)\n",
      "Requirement already satisfied: torch==1.10.0 in /environment/miniconda3/lib/python3.7/site-packages (from torchvision->mmpose==0.27.0) (1.10.0+cu113)\n",
      "Requirement already satisfied: typing-extensions in /environment/miniconda3/lib/python3.7/site-packages (from torch==1.10.0->torchvision->mmpose==0.27.0) (4.0.1)\n",
      "Installing collected packages: mmpose\n",
      "  Running setup.py develop for mmpose\n",
      "Successfully installed mmpose-0.27.0\n"
     ]
    }
   ],
   "source": [
    "!pip install -r requirements.txt\n",
    "\n",
    "!pip3 install -e ."
   ]
  },
  {
   "cell_type": "markdown",
   "id": "57588840-d990-44c6-a1e2-151d869dab8d",
   "metadata": {},
   "source": [
    "## 安装MMTracking"
   ]
  },
  {
   "cell_type": "code",
   "execution_count": 8,
   "id": "a448d99e-068b-4e68-a66c-21423daa087e",
   "metadata": {},
   "outputs": [],
   "source": [
    "os.chdir('../')"
   ]
  },
  {
   "cell_type": "code",
   "execution_count": 9,
   "id": "78babbeb-f833-48e5-a038-e8bdfa143a00",
   "metadata": {},
   "outputs": [],
   "source": [
    "# 删掉原有的 mmtracking 文件夹（如有）\n",
    "!rm -rf mmtracking"
   ]
  },
  {
   "cell_type": "code",
   "execution_count": 10,
   "id": "cf386ad1-86c4-4ecb-bcaa-bd808742145f",
   "metadata": {},
   "outputs": [
    {
     "name": "stdout",
     "output_type": "stream",
     "text": [
      "Cloning into 'mmtracking'...\n",
      "remote: Enumerating objects: 4504, done.\u001b[K\n",
      "remote: Counting objects: 100% (230/230), done.\u001b[K\n",
      "remote: Compressing objects: 100% (186/186), done.\u001b[K\n",
      "remote: Total 4504 (delta 74), reused 147 (delta 41), pack-reused 4274\u001b[K\n",
      "Receiving objects: 100% (4504/4504), 1.92 MiB | 6.75 MiB/s, done.\n",
      "Resolving deltas: 100% (2633/2633), done.\n"
     ]
    }
   ],
   "source": [
    "# 从 github 上下载最新的 mmtracking 源代码\n",
    "!git clone https://github.com/open-mmlab/mmtracking.git"
   ]
  },
  {
   "cell_type": "code",
   "execution_count": 11,
   "id": "855da0dc-006a-4c58-a68b-7431e6dc0d8f",
   "metadata": {},
   "outputs": [],
   "source": [
    "# 进入 mmtracking 主目录\n",
    "os.chdir('mmtracking')"
   ]
  },
  {
   "cell_type": "code",
   "execution_count": 12,
   "id": "09d4f839-01a5-4a92-b813-c751e42b9ab9",
   "metadata": {},
   "outputs": [
    {
     "name": "stdout",
     "output_type": "stream",
     "text": [
      "Looking in indexes: https://pypi.tuna.tsinghua.edu.cn/simple\n",
      "Requirement already satisfied: cython in /environment/miniconda3/lib/python3.7/site-packages (from -r requirements/build.txt (line 1)) (0.29.30)\n",
      "Requirement already satisfied: numba==0.53.0 in /environment/miniconda3/lib/python3.7/site-packages (from -r requirements/build.txt (line 2)) (0.53.0)\n",
      "Requirement already satisfied: numpy in /environment/miniconda3/lib/python3.7/site-packages (from -r requirements/build.txt (line 3)) (1.21.4)\n",
      "Requirement already satisfied: llvmlite<0.37,>=0.36.0rc1 in /environment/miniconda3/lib/python3.7/site-packages (from numba==0.53.0->-r requirements/build.txt (line 2)) (0.36.0)\n",
      "Requirement already satisfied: setuptools in /environment/miniconda3/lib/python3.7/site-packages (from numba==0.53.0->-r requirements/build.txt (line 2)) (52.0.0.post20210125)\n",
      "Using pip 21.1.3 from /environment/miniconda3/lib/python3.7/site-packages/pip (python 3.7)\n",
      "Non-user install because site-packages writeable\n",
      "Created temporary directory: /tmp/pip-ephem-wheel-cache-vegdf4ei\n",
      "Created temporary directory: /tmp/pip-req-tracker-w8w4kugs\n",
      "Initialized build tracking at /tmp/pip-req-tracker-w8w4kugs\n",
      "Created build tracker: /tmp/pip-req-tracker-w8w4kugs\n",
      "Entered build tracker: /tmp/pip-req-tracker-w8w4kugs\n",
      "Created temporary directory: /tmp/pip-install-wt4v5pas\n",
      "Looking in indexes: https://pypi.tuna.tsinghua.edu.cn/simple\n",
      "Obtaining file:///home/featurize/work/MMPose%E6%95%99%E7%A8%8B/mmtracking\n",
      "  Added file:///home/featurize/work/MMPose%E6%95%99%E7%A8%8B/mmtracking to build tracker '/tmp/pip-req-tracker-w8w4kugs'\n",
      "    Running setup.py (path:/home/featurize/work/MMPose教程/mmtracking/setup.py) egg_info for package from file:///home/featurize/work/MMPose%E6%95%99%E7%A8%8B/mmtracking\n",
      "    Created temporary directory: /tmp/pip-pip-egg-info-vbs66zbx\n",
      "    Running command python setup.py egg_info\n",
      "    running egg_info\n",
      "    creating /tmp/pip-pip-egg-info-vbs66zbx/mmtrack.egg-info\n",
      "    writing /tmp/pip-pip-egg-info-vbs66zbx/mmtrack.egg-info/PKG-INFO\n",
      "    writing dependency_links to /tmp/pip-pip-egg-info-vbs66zbx/mmtrack.egg-info/dependency_links.txt\n",
      "    writing requirements to /tmp/pip-pip-egg-info-vbs66zbx/mmtrack.egg-info/requires.txt\n",
      "    writing top-level names to /tmp/pip-pip-egg-info-vbs66zbx/mmtrack.egg-info/top_level.txt\n",
      "    writing manifest file '/tmp/pip-pip-egg-info-vbs66zbx/mmtrack.egg-info/SOURCES.txt'\n",
      "    reading manifest template 'MANIFEST.in'\n",
      "    warning: no files found matching 'mmtrack/.mim/model-index.yml'\n",
      "    warning: no files found matching '*.py' under directory 'mmtrack/.mim/configs'\n",
      "    warning: no files found matching '*.yml' under directory 'mmtrack/.mim/configs'\n",
      "    warning: no files found matching '*.sh' under directory 'mmtrack/.mim/tools'\n",
      "    warning: no files found matching '*.py' under directory 'mmtrack/.mim/tools'\n",
      "    writing manifest file '/tmp/pip-pip-egg-info-vbs66zbx/mmtrack.egg-info/SOURCES.txt'\n",
      "  Source in /home/featurize/work/MMPose教程/mmtracking has version 0.13.0, which satisfies requirement mmtrack==0.13.0 from file:///home/featurize/work/MMPose%E6%95%99%E7%A8%8B/mmtracking\n",
      "  Removed mmtrack==0.13.0 from file:///home/featurize/work/MMPose%E6%95%99%E7%A8%8B/mmtracking from build tracker '/tmp/pip-req-tracker-w8w4kugs'\n",
      "Requirement already satisfied: attributee==0.1.5 in /environment/miniconda3/lib/python3.7/site-packages (from mmtrack==0.13.0) (0.1.5)\n",
      "Requirement already satisfied: dotty_dict in /environment/miniconda3/lib/python3.7/site-packages (from mmtrack==0.13.0) (1.3.0)\n",
      "Requirement already satisfied: lap in /environment/miniconda3/lib/python3.7/site-packages (from mmtrack==0.13.0) (0.4.0)\n",
      "Requirement already satisfied: matplotlib in /environment/miniconda3/lib/python3.7/site-packages (from mmtrack==0.13.0) (3.5.0)\n",
      "Requirement already satisfied: mmcls>=0.16.0 in /environment/miniconda3/lib/python3.7/site-packages (from mmtrack==0.13.0) (0.23.1)\n",
      "Requirement already satisfied: motmetrics in /environment/miniconda3/lib/python3.7/site-packages (from mmtrack==0.13.0) (1.2.5)\n",
      "Requirement already satisfied: packaging in /environment/miniconda3/lib/python3.7/site-packages (from mmtrack==0.13.0) (21.3)\n",
      "Requirement already satisfied: pandas<=1.3.5 in /environment/miniconda3/lib/python3.7/site-packages (from mmtrack==0.13.0) (1.3.4)\n",
      "Requirement already satisfied: pycocotools<=2.0.2 in /environment/miniconda3/lib/python3.7/site-packages (from mmtrack==0.13.0) (2.0.2)\n",
      "Requirement already satisfied: scipy<=1.7.3 in /environment/miniconda3/lib/python3.7/site-packages (from mmtrack==0.13.0) (1.7.3)\n",
      "Requirement already satisfied: seaborn in /environment/miniconda3/lib/python3.7/site-packages (from mmtrack==0.13.0) (0.11.2)\n",
      "Requirement already satisfied: terminaltables in /environment/miniconda3/lib/python3.7/site-packages (from mmtrack==0.13.0) (3.1.10)\n",
      "Requirement already satisfied: tqdm in /environment/miniconda3/lib/python3.7/site-packages (from mmtrack==0.13.0) (4.61.2)\n",
      "Requirement already satisfied: numpy in /environment/miniconda3/lib/python3.7/site-packages (from mmcls>=0.16.0->mmtrack==0.13.0) (1.21.4)\n",
      "Requirement already satisfied: python-dateutil>=2.7.3 in /environment/miniconda3/lib/python3.7/site-packages (from pandas<=1.3.5->mmtrack==0.13.0) (2.8.2)\n",
      "Requirement already satisfied: pytz>=2017.3 in /environment/miniconda3/lib/python3.7/site-packages (from pandas<=1.3.5->mmtrack==0.13.0) (2021.3)\n",
      "Requirement already satisfied: setuptools>=18.0 in /environment/miniconda3/lib/python3.7/site-packages (from pycocotools<=2.0.2->mmtrack==0.13.0) (52.0.0.post20210125)\n",
      "Requirement already satisfied: cython>=0.27.3 in /environment/miniconda3/lib/python3.7/site-packages (from pycocotools<=2.0.2->mmtrack==0.13.0) (0.29.30)\n",
      "Requirement already satisfied: setuptools-scm>=4 in /environment/miniconda3/lib/python3.7/site-packages (from matplotlib->mmtrack==0.13.0) (6.3.2)\n",
      "Requirement already satisfied: cycler>=0.10 in /environment/miniconda3/lib/python3.7/site-packages (from matplotlib->mmtrack==0.13.0) (0.11.0)\n",
      "Requirement already satisfied: fonttools>=4.22.0 in /environment/miniconda3/lib/python3.7/site-packages (from matplotlib->mmtrack==0.13.0) (4.28.3)\n",
      "Requirement already satisfied: pillow>=6.2.0 in /environment/miniconda3/lib/python3.7/site-packages (from matplotlib->mmtrack==0.13.0) (8.4.0)\n",
      "Requirement already satisfied: kiwisolver>=1.0.1 in /environment/miniconda3/lib/python3.7/site-packages (from matplotlib->mmtrack==0.13.0) (1.3.2)\n",
      "Requirement already satisfied: pyparsing>=2.2.1 in /environment/miniconda3/lib/python3.7/site-packages (from matplotlib->mmtrack==0.13.0) (3.0.6)\n",
      "Requirement already satisfied: six>=1.5 in /environment/miniconda3/lib/python3.7/site-packages (from python-dateutil>=2.7.3->pandas<=1.3.5->mmtrack==0.13.0) (1.16.0)\n",
      "Requirement already satisfied: tomli>=1.0.0 in /environment/miniconda3/lib/python3.7/site-packages (from setuptools-scm>=4->matplotlib->mmtrack==0.13.0) (1.2.2)\n",
      "Requirement already satisfied: xmltodict>=0.12.0 in /environment/miniconda3/lib/python3.7/site-packages (from motmetrics->mmtrack==0.13.0) (0.13.0)\n",
      "Created temporary directory: /tmp/pip-unpack-2f4hg0tf\n",
      "Installing collected packages: mmtrack\n",
      "  Running setup.py develop for mmtrack\n",
      "    Running command /environment/miniconda3/bin/python -c 'import io, os, sys, setuptools, tokenize; sys.argv[0] = '\"'\"'/home/featurize/work/MMPose教程/mmtracking/setup.py'\"'\"'; __file__='\"'\"'/home/featurize/work/MMPose教程/mmtracking/setup.py'\"'\"';f = getattr(tokenize, '\"'\"'open'\"'\"', open)(__file__) if os.path.exists(__file__) else io.StringIO('\"'\"'from setuptools import setup; setup()'\"'\"');code = f.read().replace('\"'\"'\\r\\n'\"'\"', '\"'\"'\\n'\"'\"');f.close();exec(compile(code, __file__, '\"'\"'exec'\"'\"'))' develop --no-deps\n",
      "    running develop\n",
      "    running egg_info\n",
      "    creating mmtrack.egg-info\n",
      "    writing mmtrack.egg-info/PKG-INFO\n",
      "    writing dependency_links to mmtrack.egg-info/dependency_links.txt\n",
      "    writing requirements to mmtrack.egg-info/requires.txt\n",
      "    writing top-level names to mmtrack.egg-info/top_level.txt\n",
      "    writing manifest file 'mmtrack.egg-info/SOURCES.txt'\n",
      "    reading manifest template 'MANIFEST.in'\n",
      "    writing manifest file 'mmtrack.egg-info/SOURCES.txt'\n",
      "    /environment/miniconda3/lib/python3.7/site-packages/torch/utils/cpp_extension.py:381: UserWarning: Attempted to use ninja as the BuildExtension backend but we could not find ninja.. Falling back to using the slow distutils backend.\n",
      "      warnings.warn(msg.format('we could not find ninja.'))\n",
      "    running build_ext\n",
      "    Creating /environment/miniconda3/lib/python3.7/site-packages/mmtrack.egg-link (link to .)\n",
      "    mmtrack 0.13.0 is already the active version in easy-install.pth\n",
      "\n",
      "    Installed /home/featurize/work/MMPose教程/mmtracking\n",
      "Successfully installed mmtrack-0.13.0\n",
      "Removed build tracker: '/tmp/pip-req-tracker-w8w4kugs'\n"
     ]
    }
   ],
   "source": [
    "# 安装 mmtracking\n",
    "!pip install -r requirements/build.txt\n",
    "!pip install -v -e ."
   ]
  },
  {
   "cell_type": "code",
   "execution_count": 13,
   "id": "eac85003-df21-4178-b7b0-bab7a927cf9d",
   "metadata": {},
   "outputs": [],
   "source": [
    "os.chdir('../')"
   ]
  },
  {
   "cell_type": "markdown",
   "id": "a828bfe4-82e5-497a-9bda-cb9837df2cb3",
   "metadata": {},
   "source": [
    "## 下载预训练模型权重文件和视频素材"
   ]
  },
  {
   "cell_type": "code",
   "execution_count": 14,
   "id": "bd9f5185-e124-4436-8d38-a83456760147",
   "metadata": {},
   "outputs": [],
   "source": [
    "os.chdir('mmpose')"
   ]
  },
  {
   "cell_type": "code",
   "execution_count": 15,
   "id": "5aac1d0c-dbf5-478c-ab80-7e2aa0ab0f01",
   "metadata": {},
   "outputs": [],
   "source": [
    "# 创建 checkpoints 文件夹，用于存放预训练模型权重文件\n",
    "os.mkdir('checkpoints')\n",
    "\n",
    "# 创建 outputs 文件夹，用于存放预测结果\n",
    "os.mkdir('outputs')\n",
    "\n",
    "# 创建 data 文件夹，用于存放视频\n",
    "os.mkdir('data')"
   ]
  },
  {
   "cell_type": "markdown",
   "id": "e4fb1cb6-2b9b-418c-9230-6b413c748095",
   "metadata": {},
   "source": [
    "## 下载素材\n",
    "\n",
    "如果报错`Unable to establish SSL connection.`，重新运行代码块即可。"
   ]
  },
  {
   "cell_type": "code",
   "execution_count": 37,
   "id": "6382a904-219e-42c2-982f-7ddecac79881",
   "metadata": {},
   "outputs": [
    {
     "name": "stdout",
     "output_type": "stream",
     "text": [
      "--2022-06-30 16:58:57--  https://zihao-openmmlab.obs.cn-east-3.myhuaweicloud.com/20220610-mmpose/videos/play_piano.mp4\n",
      "Connecting to 172.16.0.13:5848... connected.\n",
      "Proxy request sent, awaiting response... 200 OK\n",
      "Length: 27143412 (26M) [video/mp4]\n",
      "Saving to: ‘data/play_piano.mp4’\n",
      "\n",
      "data/play_piano.mp4 100%[===================>]  25.89M  18.9MB/s    in 1.4s    \n",
      "\n",
      "2022-06-30 16:58:58 (18.9 MB/s) - ‘data/play_piano.mp4’ saved [27143412/27143412]\n",
      "\n"
     ]
    }
   ],
   "source": [
    "# 弹钢琴视频，来源：https://mixkit.co/free-stock-video/hands-of-a-pianist-performing-a-song-on-a-piano-41667/\n",
    "!wget https://zihao-openmmlab.obs.cn-east-3.myhuaweicloud.com/20220610-mmpose/videos/play_piano.mp4 -O data/play_piano.mp4\n"
   ]
  },
  {
   "cell_type": "code",
   "execution_count": 36,
   "id": "39099cc6-8727-43ab-9249-69758fa7879c",
   "metadata": {},
   "outputs": [
    {
     "name": "stdout",
     "output_type": "stream",
     "text": [
      "--2022-06-30 16:52:35--  https://zihao-openmmlab.obs.cn-east-3.myhuaweicloud.com/20220610-mmpose/images/piano.jpeg\n",
      "Connecting to 172.16.0.13:5848... connected.\n",
      "Proxy request sent, awaiting response... 200 OK\n",
      "Length: 167767 (164K) [image/jpeg]\n",
      "Saving to: ‘data/piano.jpeg’\n",
      "\n",
      "data/piano.jpeg     100%[===================>] 163.83K  --.-KB/s    in 0.1s    \n",
      "\n",
      "2022-06-30 16:52:36 (1.07 MB/s) - ‘data/piano.jpeg’ saved [167767/167767]\n",
      "\n"
     ]
    }
   ],
   "source": [
    "# 弹钢琴图片，来源：https://www.pexels.com/zh-cn/photo/6671953/\n",
    "!wget https://zihao-openmmlab.obs.cn-east-3.myhuaweicloud.com/20220610-mmpose/images/piano.jpeg -O data/piano.jpeg\n"
   ]
  },
  {
   "cell_type": "code",
   "execution_count": 35,
   "id": "77dd4509-54a8-4e89-99cc-35373007e107",
   "metadata": {},
   "outputs": [
    {
     "name": "stdout",
     "output_type": "stream",
     "text": [
      "--2022-06-30 16:24:33--  https://zihao-openmmlab.obs.cn-east-3.myhuaweicloud.com/20220610-mmpose/videos/face_child.mp4\n",
      "Connecting to 172.16.0.13:5848... connected.\n",
      "Proxy request sent, awaiting response... 200 OK\n",
      "Length: 815897 (797K) [video/mp4]\n",
      "Saving to: ‘data/face_child.mp4’\n",
      "\n",
      "data/face_child.mp4 100%[===================>] 796.77K  3.10MB/s    in 0.3s    \n",
      "\n",
      "2022-06-30 16:24:33 (3.10 MB/s) - ‘data/face_child.mp4’ saved [815897/815897]\n",
      "\n"
     ]
    }
   ],
   "source": [
    "# 孩子的笑脸视频，来源：https://mixkit.co/free-stock-video/teacher-and-students-waving-with-painted-hands-36029/\n",
    "!wget https://zihao-openmmlab.obs.cn-east-3.myhuaweicloud.com/20220610-mmpose/videos/face_child.mp4 -O data/face_child.mp4\n"
   ]
  },
  {
   "cell_type": "code",
   "execution_count": 32,
   "id": "1d2a1d6a-1b02-4565-ab68-0151be8e3854",
   "metadata": {},
   "outputs": [
    {
     "name": "stdout",
     "output_type": "stream",
     "text": [
      "--2022-06-30 16:02:54--  https://zihao-openmmlab.obs.cn-east-3.myhuaweicloud.com/20220610-mmpose/videos/mother.mp4\n",
      "Connecting to 172.16.0.13:5848... connected.\n",
      "Proxy request sent, awaiting response... 200 OK\n",
      "Length: 19442142 (19M) [video/mp4]\n",
      "Saving to: ‘data/mother.mp4’\n",
      "\n",
      "data/mother.mp4     100%[===================>]  18.54M  20.9MB/s    in 0.9s    \n",
      "\n",
      "2022-06-30 16:02:55 (20.9 MB/s) - ‘data/mother.mp4’ saved [19442142/19442142]\n",
      "\n"
     ]
    }
   ],
   "source": [
    "# 妈妈和女儿跳舞，视频来源：https://mixkit.co/free-stock-video/mother-and-daughters-in-a-kitchen-dancing-4565/\n",
    "!wget https://zihao-openmmlab.obs.cn-east-3.myhuaweicloud.com/20220610-mmpose/videos/mother.mp4 -O data/mother.mp4"
   ]
  },
  {
   "cell_type": "code",
   "execution_count": 31,
   "id": "fca377e2-26e9-4b40-a660-fd6429841e86",
   "metadata": {},
   "outputs": [
    {
     "name": "stdout",
     "output_type": "stream",
     "text": [
      "--2022-06-30 15:53:23--  https://zihao-openmmlab.obs.cn-east-3.myhuaweicloud.com/20220610-mmpose/images/multi-person.jpeg\n",
      "Connecting to 172.16.0.13:5848... connected.\n",
      "Proxy request sent, awaiting response... 200 OK\n",
      "Length: 604280 (590K) [image/jpeg]\n",
      "Saving to: ‘data/multi-person.jpeg’\n",
      "\n",
      "data/multi-person.j 100%[===================>] 590.12K  2.50MB/s    in 0.2s    \n",
      "\n",
      "2022-06-30 15:53:23 (2.50 MB/s) - ‘data/multi-person.jpeg’ saved [604280/604280]\n",
      "\n"
     ]
    }
   ],
   "source": [
    "# 多人，图片来源：https://www.pexels.com/zh-cn/photo/2168292/\n",
    "!wget https://zihao-openmmlab.obs.cn-east-3.myhuaweicloud.com/20220610-mmpose/images/multi-person.jpeg -O data/multi-person.jpeg\n"
   ]
  },
  {
   "cell_type": "code",
   "execution_count": 22,
   "id": "53116869-a25e-4219-ae38-00ae0b54f7f9",
   "metadata": {},
   "outputs": [
    {
     "name": "stdout",
     "output_type": "stream",
     "text": [
      "--2022-06-30 14:05:33--  https://zihao-download.obs.cn-east-3.myhuaweicloud.com/detectron2/TongjiDancerClub.MOV\n",
      "Connecting to 172.16.0.13:5848... connected.\n",
      "Proxy request sent, awaiting response... 200 OK\n",
      "Length: 5052215 (4.8M) [binary/octet-stream]\n",
      "Saving to: ‘data/TongjiDancerClub.MOV’\n",
      "\n",
      "data/TongjiDancerCl 100%[===================>]   4.82M  13.7MB/s    in 0.4s    \n",
      "\n",
      "2022-06-30 14:05:34 (13.7 MB/s) - ‘data/TongjiDancerClub.MOV’ saved [5052215/5052215]\n",
      "\n",
      "--2022-06-30 14:05:34--  https://zihao-download.obs.cn-east-3.myhuaweicloud.com/detectron2/TongjiDancer.png\n",
      "Connecting to 172.16.0.13:5848... connected.\n",
      "Proxy request sent, awaiting response... 200 OK\n",
      "Length: 10777141 (10M) [image/png]\n",
      "Saving to: ‘data/TongjiDancer.png’\n",
      "\n",
      "data/TongjiDancer.p 100%[===================>]  10.28M  23.9MB/s    in 0.4s    \n",
      "\n",
      "2022-06-30 14:05:35 (23.9 MB/s) - ‘data/TongjiDancer.png’ saved [10777141/10777141]\n",
      "\n",
      "--2022-06-30 14:05:35--  https://zihao-openmmlab.obs.cn-east-3.myhuaweicloud.com/20220610-mmpose/videos/horse1.mp4\n",
      "Connecting to 172.16.0.13:5848... connected.\n",
      "Proxy request sent, awaiting response... 200 OK\n",
      "Length: 69970895 (67M) [video/mp4]\n",
      "Saving to: ‘data/horse1.mp4’\n",
      "\n",
      "data/horse1.mp4     100%[===================>]  66.73M  40.0MB/s    in 1.7s    \n",
      "\n",
      "2022-06-30 14:05:37 (40.0 MB/s) - ‘data/horse1.mp4’ saved [69970895/69970895]\n",
      "\n",
      "--2022-06-30 14:05:37--  https://zihao-openmmlab.obs.cn-east-3.myhuaweicloud.com/20220610-mmpose/videos/macaque1.mp4\n",
      "Connecting to 172.16.0.13:5848... connected.\n",
      "Proxy request sent, awaiting response... 200 OK\n",
      "Length: 191585627 (183M) [video/mp4]\n",
      "Saving to: ‘data/macaque1.mp4’\n",
      "\n",
      "data/macaque1.mp4   100%[===================>] 182.71M  49.2MB/s    in 4.2s    \n",
      "\n",
      "2022-06-30 14:05:42 (43.2 MB/s) - ‘data/macaque1.mp4’ saved [191585627/191585627]\n",
      "\n",
      "--2022-06-30 14:05:42--  https://zihao-openmmlab.obs.cn-east-3.myhuaweicloud.com/20220610-mmpose/videos/zihao_hand.mp4\n",
      "Connecting to 172.16.0.13:5848... connected.\n",
      "Proxy request sent, awaiting response... 200 OK\n",
      "Length: 44345575 (42M) [video/mp4]\n",
      "Saving to: ‘data/zihao_hand.mp4’\n",
      "\n",
      "data/zihao_hand.mp4 100%[===================>]  42.29M  37.7MB/s    in 1.1s    \n",
      "\n",
      "2022-06-30 14:05:43 (37.7 MB/s) - ‘data/zihao_hand.mp4’ saved [44345575/44345575]\n",
      "\n"
     ]
    }
   ],
   "source": [
    "# 同济大学多人舞蹈视频，视频来源：同济大学C4Family舞蹈社\n",
    "!wget https://zihao-download.obs.cn-east-3.myhuaweicloud.com/detectron2/TongjiDancerClub.MOV -O data/TongjiDancerClub.MOV\n",
    "!wget https://zihao-download.obs.cn-east-3.myhuaweicloud.com/detectron2/TongjiDancer.png -O data/TongjiDancer.png\n",
    "\n",
    "# 马\n",
    "!wget https://zihao-openmmlab.obs.cn-east-3.myhuaweicloud.com/20220610-mmpose/videos/horse1.mp4 -O data/horse1.mp4\n",
    "\n",
    "# 猕猴\n",
    "!wget https://zihao-openmmlab.obs.cn-east-3.myhuaweicloud.com/20220610-mmpose/videos/macaque1.mp4 -O data/macaque1.mp4\n",
    "\n",
    "# 手势\n",
    "!wget https://zihao-openmmlab.obs.cn-east-3.myhuaweicloud.com/20220610-mmpose/videos/zihao_hand.mp4 -O data/zihao_hand.mp4\n",
    "\n",
    "# 行人\n",
    "!wget https://zihao-openmmlab.obs.cn-east-3.myhuaweicloud.com/20220418-mmtracking/data/mot_people_short.mp4 -O data/mot_people_short.mp4"
   ]
  },
  {
   "cell_type": "markdown",
   "id": "fa97e1da-f245-4d32-892d-dec07a6b2c16",
   "metadata": {},
   "source": [
    "## 检查是否安装成功"
   ]
  },
  {
   "cell_type": "code",
   "execution_count": 17,
   "id": "6be5098e-e5e7-402b-841a-4006e9e7cd25",
   "metadata": {},
   "outputs": [
    {
     "name": "stdout",
     "output_type": "stream",
     "text": [
      "Pytorch 版本 1.10.0+cu113\n",
      "torchvision版本 0.11.1+cu113\n",
      "CUDA 是否可用 True\n"
     ]
    }
   ],
   "source": [
    "# 检查 Pytorch\n",
    "import torch, torchvision\n",
    "print('Pytorch 版本', torch.__version__)\n",
    "print('torchvision版本', torchvision.__version__)\n",
    "print('CUDA 是否可用',torch.cuda.is_available())"
   ]
  },
  {
   "cell_type": "code",
   "execution_count": 18,
   "id": "e4ffef5d-eb49-4785-8d06-2d8f88298014",
   "metadata": {},
   "outputs": [
    {
     "name": "stdout",
     "output_type": "stream",
     "text": [
      "CUDA版本 11.3\n",
      "编译器版本 GCC 7.3\n"
     ]
    }
   ],
   "source": [
    "# 检查 mmcv\n",
    "from mmcv.ops import get_compiling_cuda_version, get_compiler_version\n",
    "print('CUDA版本', get_compiling_cuda_version())\n",
    "print('编译器版本', get_compiler_version())"
   ]
  },
  {
   "cell_type": "code",
   "execution_count": 19,
   "id": "851aaea2-6bf8-484c-be38-b42feaa3b53c",
   "metadata": {},
   "outputs": [],
   "source": [
    "# 检查 mmtracking\n",
    "import mmtracking"
   ]
  },
  {
   "cell_type": "code",
   "execution_count": 20,
   "id": "fbd8c8dd-07d2-4c32-9a22-2cdb59e79b26",
   "metadata": {},
   "outputs": [
    {
     "name": "stdout",
     "output_type": "stream",
     "text": [
      "mmpose版本 0.27.0\n"
     ]
    }
   ],
   "source": [
    "# 检查 mmpose\n",
    "import mmpose\n",
    "print('mmpose版本', mmpose.__version__)"
   ]
  },
  {
   "cell_type": "markdown",
   "id": "89716d32-b021-40f7-bb8b-72f6b9df6157",
   "metadata": {},
   "source": [
    "## 小试牛刀"
   ]
  },
  {
   "cell_type": "markdown",
   "id": "6ea9b94f-0222-4986-96aa-d0bf3bdfcdd4",
   "metadata": {},
   "source": [
    "使用预训练的“自顶向下“（top down）对`data` 目录下的图像进行预测。"
   ]
  },
  {
   "cell_type": "code",
   "execution_count": 23,
   "id": "b68f4286-542e-4457-aaf9-1d1f9b7cdb11",
   "metadata": {},
   "outputs": [
    {
     "name": "stdout",
     "output_type": "stream",
     "text": [
      "load checkpoint from http path: https://download.openmmlab.com/mmdetection/v2.0/faster_rcnn/faster_rcnn_r50_fpn_1x_coco/faster_rcnn_r50_fpn_1x_coco_20200130-047c8118.pth\n",
      "load checkpoint from http path: https://download.openmmlab.com/mmpose/top_down/hrnet/hrnet_w48_coco_256x192-b9e0b3ab_20200708.pth\n"
     ]
    }
   ],
   "source": [
    "!python demo/top_down_img_demo_with_mmdet.py \\\n",
    "        demo/mmdetection_cfg/faster_rcnn_r50_fpn_coco.py \\\n",
    "        https://download.openmmlab.com/mmdetection/v2.0/faster_rcnn/faster_rcnn_r50_fpn_1x_coco/faster_rcnn_r50_fpn_1x_coco_20200130-047c8118.pth \\\n",
    "        configs/body/2d_kpt_sview_rgb_img/topdown_heatmap/coco/hrnet_w48_coco_256x192.py \\\n",
    "        https://download.openmmlab.com/mmpose/top_down/hrnet/hrnet_w48_coco_256x192-b9e0b3ab_20200708.pth \\\n",
    "        --img data/TongjiDancer.png \\\n",
    "        --out-img-root outputs/A"
   ]
  },
  {
   "cell_type": "code",
   "execution_count": null,
   "id": "bce7e97f-ac23-4878-83d4-38689804090c",
   "metadata": {},
   "outputs": [],
   "source": []
  }
 ],
 "metadata": {
  "kernelspec": {
   "display_name": "Python 3 (ipykernel)",
   "language": "python",
   "name": "python3"
  },
  "language_info": {
   "codemirror_mode": {
    "name": "ipython",
    "version": 3
   },
   "file_extension": ".py",
   "mimetype": "text/x-python",
   "name": "python",
   "nbconvert_exporter": "python",
   "pygments_lexer": "ipython3",
   "version": "3.7.10"
  }
 },
 "nbformat": 4,
 "nbformat_minor": 5
}
