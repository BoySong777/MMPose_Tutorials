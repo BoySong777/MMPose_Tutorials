{
 "cells": [
  {
   "cell_type": "markdown",
   "id": "63f1dd0a-8685-40fd-b5d7-3218f97ac899",
   "metadata": {},
   "source": [
    "# 2D Animal Pose预训练模型预测\n",
    "\n",
    "参考文档：https://github.com/open-mmlab/mmpose/blob/master/demo/docs/2d_animal_demo.md\n",
    "\n",
    "作者：同济子豪兄 2022-06-10\n",
    "\n",
    "如果报错`CUDA out of memory.`则重启前面几个代码的`kernel`即可。"
   ]
  },
  {
   "cell_type": "markdown",
   "id": "4ff424e2-8d49-4f7c-8e81-24a957d1b7b9",
   "metadata": {},
   "source": [
    "## 进入 MMPose 主目录"
   ]
  },
  {
   "cell_type": "code",
   "execution_count": 1,
   "id": "c24d56aa-5528-4561-bb1c-33bcffe2c852",
   "metadata": {},
   "outputs": [],
   "source": [
    "import os\n",
    "os.chdir('mmpose')"
   ]
  },
  {
   "cell_type": "markdown",
   "id": "785ad5e4-c80c-4b7c-8bdb-6ee1688f9e92",
   "metadata": {},
   "source": [
    "## 用目标检测预测框作为`top_down`算法的输入框输入"
   ]
  },
  {
   "cell_type": "code",
   "execution_count": null,
   "id": "16181058-1f53-40d2-a1fd-6d9c9ecc05ac",
   "metadata": {},
   "outputs": [],
   "source": []
  },
  {
   "cell_type": "code",
   "execution_count": null,
   "id": "25053b03-059a-458c-8750-136e6f24c015",
   "metadata": {},
   "outputs": [],
   "source": []
  },
  {
   "cell_type": "code",
   "execution_count": null,
   "id": "484e7901-ce1e-4ea9-8523-adf03818c910",
   "metadata": {},
   "outputs": [],
   "source": []
  },
  {
   "cell_type": "code",
   "execution_count": null,
   "id": "d0ce0ac7-26e5-4ea3-adc5-6b6791bffca4",
   "metadata": {},
   "outputs": [],
   "source": []
  },
  {
   "cell_type": "markdown",
   "id": "dc37c003-6a05-452b-82da-45f45fcba04d",
   "metadata": {},
   "source": [
    "## 用标注框作为`top_down`算法的输入框输入"
   ]
  },
  {
   "cell_type": "code",
   "execution_count": 2,
   "id": "22c1623b-6d6f-465f-8b03-382fd9317c5e",
   "metadata": {},
   "outputs": [
    {
     "name": "stdout",
     "output_type": "stream",
     "text": [
      "loading annotations into memory...\n",
      "Done (t=0.00s)\n",
      "creating index...\n",
      "index created!\n",
      "load checkpoint from http path: https://download.openmmlab.com/mmpose/animal/resnet/res50_macaque_256x192-98f1dd3a_20210407.pth\n",
      "Downloading: \"https://download.openmmlab.com/mmpose/animal/resnet/res50_macaque_256x192-98f1dd3a_20210407.pth\" to /home/featurize/.cache/torch/hub/checkpoints/res50_macaque_256x192-98f1dd3a_20210407.pth\n",
      "100%|█████████████████████████████████████████| 130M/130M [00:01<00:00, 108MB/s]\n"
     ]
    }
   ],
   "source": [
    "!python demo/top_down_img_demo.py \\\n",
    "        configs/animal/2d_kpt_sview_rgb_img/topdown_heatmap/macaque/res50_macaque_256x192.py \\\n",
    "        https://download.openmmlab.com/mmpose/animal/resnet/res50_macaque_256x192-98f1dd3a_20210407.pth \\\n",
    "        --img-root tests/data/macaque/ \\\n",
    "        --json-file tests/data/macaque/test_macaque.json \\\n",
    "        --out-img-root outputs/D2/D2_1"
   ]
  },
  {
   "cell_type": "markdown",
   "id": "70374980-1f64-4b3b-9805-690b489de44f",
   "metadata": {},
   "source": [
    "## 视频预测"
   ]
  },
  {
   "cell_type": "markdown",
   "id": "3fc842f0-a879-4336-8092-4d57993b362d",
   "metadata": {},
   "source": [
    "使用全图作为输入"
   ]
  },
  {
   "cell_type": "code",
   "execution_count": 3,
   "id": "5badef9b-a40c-4aee-b61b-7284c2c36a5f",
   "metadata": {},
   "outputs": [
    {
     "name": "stdout",
     "output_type": "stream",
     "text": [
      "Initializing model...\n",
      "load checkpoint from http path: https://download.openmmlab.com/mmpose/animal/resnet/res152_fly_192x192-fcafbd5a_20210407.pth\n",
      "Downloading: \"https://download.openmmlab.com/mmpose/animal/resnet/res152_fly_192x192-fcafbd5a_20210407.pth\" to /home/featurize/.cache/torch/hub/checkpoints/res152_fly_192x192-fcafbd5a_20210407.pth\n",
      "100%|█████████████████████████████████████████| 263M/263M [00:02<00:00, 110MB/s]\n",
      "Running inference...\n",
      "[>>>>>>>>>>>>>>>>>>>>>>>>>>>>>>] 120/120, 13.6 task/s, elapsed: 9s, ETA:     0s\n"
     ]
    }
   ],
   "source": [
    "!python demo/top_down_video_demo_full_frame_without_det.py \\\n",
    "    configs/animal/2d_kpt_sview_rgb_img/topdown_heatmap/fly/res152_fly_192x192.py \\\n",
    "    https://download.openmmlab.com/mmpose/animal/resnet/res152_fly_192x192-fcafbd5a_20210407.pth \\\n",
    "    --video-path https://user-images.githubusercontent.com/87690686/165095600-f68e0d42-830d-4c22-8940-c90c9f3bb817.mp4 \\\n",
    "    --out-video-root outputs/D2/D2_2"
   ]
  },
  {
   "cell_type": "markdown",
   "id": "1bf48470-9106-446d-be77-976f376553f5",
   "metadata": {},
   "source": [
    "## COCO数据集中的动物"
   ]
  },
  {
   "cell_type": "markdown",
   "id": "de2a211e-fb2d-4b2d-bd38-e390f3edcf57",
   "metadata": {},
   "source": [
    "\n",
    "\n",
    "使用目标检测预测框作为输入\n",
    "\n",
    "MS COCO数据集中的80个类别中，包含10类动物\n",
    "\n",
    "15: 'bird', 16: 'cat', 17: 'dog', 18: 'horse', 19: 'sheep', 20: 'cow', 21: 'elephant', 22: 'bear', 23: 'zebra', 24: 'giraffe'"
   ]
  },
  {
   "cell_type": "code",
   "execution_count": 4,
   "id": "e4ed2baf-4880-4dec-8422-bb179c925cc3",
   "metadata": {
    "tags": []
   },
   "outputs": [
    {
     "name": "stdout",
     "output_type": "stream",
     "text": [
      "Initializing model...\n",
      "load checkpoint from http path: https://download.openmmlab.com/mmdetection/v2.0/faster_rcnn/faster_rcnn_r50_fpn_2x_coco/faster_rcnn_r50_fpn_2x_coco_bbox_mAP-0.384_20200504_210434-a5d8aa15.pth\n",
      "load checkpoint from http path: https://download.openmmlab.com/mmpose/animal/resnet/res50_horse10_256x256_split1-3a3dc37e_20210405.pth\n",
      "Running inference...\n",
      "[>>>>>>>>>>>>>>>>>>>>>>>>>>>>>] 602/602, 4.5 task/s, elapsed: 134s, ETA:     0s\n"
     ]
    }
   ],
   "source": [
    "!python demo/top_down_video_demo_with_mmdet.py \\\n",
    "        demo/mmdetection_cfg/faster_rcnn_r50_fpn_coco.py \\\n",
    "        https://download.openmmlab.com/mmdetection/v2.0/faster_rcnn/faster_rcnn_r50_fpn_2x_coco/faster_rcnn_r50_fpn_2x_coco_bbox_mAP-0.384_20200504_210434-a5d8aa15.pth \\\n",
    "        configs/animal/2d_kpt_sview_rgb_img/topdown_heatmap/horse10/res50_horse10_256x256-split1.py \\\n",
    "        https://download.openmmlab.com/mmpose/animal/resnet/res50_horse10_256x256_split1-3a3dc37e_20210405.pth \\\n",
    "        --video-path data/horse1.mp4 \\\n",
    "        --out-video-root outputs/D2/D2_3 \\\n",
    "        --bbox-thr 0.1 \\\n",
    "        --kpt-thr 0.4 \\\n",
    "        --det-cat-id 18 \\\n",
    "        --radius 5 \\\n",
    "        --thickness 3"
   ]
  },
  {
   "cell_type": "markdown",
   "id": "4c7d9383-b0a3-4f88-b06c-e778b6c76a41",
   "metadata": {},
   "source": [
    "## 其它动物\n",
    "\n",
    "目标检测模型：https://github.com/open-mmlab/mmpose/blob/master/demo/docs/mmdet_modelzoo.md\n",
    "\n",
    "关键点检测模型：https://mmpose.readthedocs.io/en/latest/topics/animal.html"
   ]
  },
  {
   "cell_type": "code",
   "execution_count": 6,
   "id": "359328fc-d431-480d-af78-10f364cb41ba",
   "metadata": {},
   "outputs": [
    {
     "name": "stdout",
     "output_type": "stream",
     "text": [
      "Initializing model...\n",
      "load checkpoint from http path: https://openmmlab.oss-cn-hangzhou.aliyuncs.com/mmpose/mmdet_pretrained/cascade_rcnn_x101_64x4d_fpn_20e_macaque-e45e36f5_20210409.pth\n",
      "load checkpoint from http path: https://download.openmmlab.com/mmpose/animal/resnet/res152_macaque_256x192-c42abc02_20210407.pth\n",
      "Downloading: \"https://download.openmmlab.com/mmpose/animal/resnet/res152_macaque_256x192-c42abc02_20210407.pth\" to /home/featurize/.cache/torch/hub/checkpoints/res152_macaque_256x192-c42abc02_20210407.pth\n",
      "100%|█████████████████████████████████████████| 263M/263M [00:02<00:00, 117MB/s]\n",
      "Running inference...\n",
      "[>>>>>>>>>>>>>>>>>>>>>>>>>>>] 1486/1486, 2.8 task/s, elapsed: 539s, ETA:     0s\n"
     ]
    }
   ],
   "source": [
    "!python demo/top_down_video_demo_with_mmdet.py \\\n",
    "        demo/mmdetection_cfg/cascade_rcnn_x101_64x4d_fpn_1class.py \\\n",
    "        https://openmmlab.oss-cn-hangzhou.aliyuncs.com/mmpose/mmdet_pretrained/cascade_rcnn_x101_64x4d_fpn_20e_macaque-e45e36f5_20210409.pth \\\n",
    "        configs/animal/2d_kpt_sview_rgb_img/topdown_heatmap/macaque/res152_macaque_256x192.py \\\n",
    "        https://download.openmmlab.com/mmpose/animal/resnet/res152_macaque_256x192-c42abc02_20210407.pth \\\n",
    "        --video-path data/macaque1.mp4 \\\n",
    "        --out-video-root outputs/D2/D2_4 \\\n",
    "        --bbox-thr 0.5 \\\n",
    "        --kpt-thr 0.3"
   ]
  },
  {
   "cell_type": "code",
   "execution_count": 5,
   "id": "5027a1fe-423f-485a-97d4-48cf71b28266",
   "metadata": {},
   "outputs": [
    {
     "name": "stdout",
     "output_type": "stream",
     "text": [
      "Initializing model...\n",
      "load checkpoint from http path: https://download.openmmlab.com/mmpose/mmdet_pretrained/cascade_rcnn_x101_64x4d_fpn_20e_macaque-e45e36f5_20210409.pth\n",
      "Downloading: \"https://download.openmmlab.com/mmpose/mmdet_pretrained/cascade_rcnn_x101_64x4d_fpn_20e_macaque-e45e36f5_20210409.pth\" to /home/featurize/.cache/torch/hub/checkpoints/cascade_rcnn_x101_64x4d_fpn_20e_macaque-e45e36f5_20210409.pth\n",
      "100%|████████████████████████████████████████| 486M/486M [00:54<00:00, 9.31MB/s]\n",
      "Traceback (most recent call last):\n",
      "  File \"demo/top_down_video_demo_with_mmdet.py\", line 193, in <module>\n",
      "    main()\n",
      "  File \"demo/top_down_video_demo_with_mmdet.py\", line 96, in main\n",
      "    args.pose_config, args.pose_checkpoint, device=args.device.lower())\n",
      "  File \"/home/featurize/work/MMPose教程/mmpose/mmpose/apis/inference.py\", line 38, in init_pose_model\n",
      "    config = mmcv.Config.fromfile(config)\n",
      "  File \"/environment/miniconda3/lib/python3.7/site-packages/mmcv/utils/config.py\", line 341, in fromfile\n",
      "    use_predefined_variables)\n",
      "  File \"/environment/miniconda3/lib/python3.7/site-packages/mmcv/utils/config.py\", line 183, in _file2dict\n",
      "    check_file_exist(filename)\n",
      "  File \"/environment/miniconda3/lib/python3.7/site-packages/mmcv/utils/path.py\", line 23, in check_file_exist\n",
      "    raise FileNotFoundError(msg_tmpl.format(filename))\n",
      "FileNotFoundError: file \"/home/featurize/work/MMPose教程/mmpose/configs/animal/resnet/macaque/res152_macaque_256x192.py\" does not exist\n"
     ]
    }
   ],
   "source": [
    "!python demo/top_down_video_demo_with_mmdet.py \\\n",
    "        demo/mmdetection_cfg/cascade_rcnn_x101_64x4d_fpn_1class.py \\\n",
    "        https://download.openmmlab.com/mmpose/mmdet_pretrained/cascade_rcnn_x101_64x4d_fpn_20e_macaque-e45e36f5_20210409.pth \\\n",
    "        configs/animal/resnet/macaque/res152_macaque_256x192.py \\\n",
    "        https://download.openmmlab.com/mmpose/animal/resnet/res152_macaque_256x192-c42abc02_20210407.pth \\\n",
    "        --video-path data/macaque1.mp4 \\\n",
    "        --out-video-root outputs/D2/D2_5 \\\n",
    "        --bbox-thr 0.5 \\\n",
    "        --kpt-thr 0.3"
   ]
  },
  {
   "cell_type": "code",
   "execution_count": null,
   "id": "4027a834-252d-4018-80f1-40200be4dcd2",
   "metadata": {},
   "outputs": [],
   "source": []
  }
 ],
 "metadata": {
  "kernelspec": {
   "display_name": "Python 3 (ipykernel)",
   "language": "python",
   "name": "python3"
  },
  "language_info": {
   "codemirror_mode": {
    "name": "ipython",
    "version": 3
   },
   "file_extension": ".py",
   "mimetype": "text/x-python",
   "name": "python",
   "nbconvert_exporter": "python",
   "pygments_lexer": "ipython3",
   "version": "3.7.10"
  }
 },
 "nbformat": 4,
 "nbformat_minor": 5
}
