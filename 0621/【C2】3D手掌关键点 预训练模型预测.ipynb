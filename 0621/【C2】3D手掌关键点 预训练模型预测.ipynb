{
 "cells": [
  {
   "cell_type": "markdown",
   "id": "63f1dd0a-8685-40fd-b5d7-3218f97ac899",
   "metadata": {},
   "source": [
    "# 3D手掌关键点 预训练模型预测\n",
    "\n",
    "参考文档：https://github.com/open-mmlab/mmpose/blob/master/demo/docs/3d_hand_demo.md\n",
    "\n",
    "作者：同济子豪兄 2022-06-12\n",
    "\n",
    "如果报错`CUDA out of memory.`则重启前面几个代码的`kernel`即可。"
   ]
  },
  {
   "cell_type": "markdown",
   "id": "cfc3eaf8-9f41-463e-b4d0-b5d9c457e6be",
   "metadata": {},
   "source": [
    "## 问题\n",
    "\n",
    "不需要gt的demo里，为啥仍然有--json-file参数\n",
    "\n",
    "而且这里的gt keypoints如果都被标出出来的话，这个算法做了什么呢\n",
    "\n",
    "缺失了视频预测的"
   ]
  },
  {
   "cell_type": "markdown",
   "id": "4ff424e2-8d49-4f7c-8e81-24a957d1b7b9",
   "metadata": {},
   "source": [
    "## 进入 MMPose 主目录"
   ]
  },
  {
   "cell_type": "code",
   "execution_count": 1,
   "id": "c24d56aa-5528-4561-bb1c-33bcffe2c852",
   "metadata": {},
   "outputs": [],
   "source": [
    "import os\n",
    "os.chdir('mmpose')"
   ]
  },
  {
   "cell_type": "markdown",
   "id": "785ad5e4-c80c-4b7c-8bdb-6ee1688f9e92",
   "metadata": {},
   "source": [
    "## 用目标检测预测框作为`top_down`算法的输入框输入"
   ]
  },
  {
   "cell_type": "code",
   "execution_count": 3,
   "id": "16181058-1f53-40d2-a1fd-6d9c9ecc05ac",
   "metadata": {},
   "outputs": [
    {
     "name": "stdout",
     "output_type": "stream",
     "text": [
      "loading annotations into memory...\n",
      "Done (t=0.00s)\n",
      "creating index...\n",
      "index created!\n",
      "load checkpoint from http path: https://download.openmmlab.com/mmpose/hand3d/internet/res50_intehand3d_all_256x256-b9c1cf4c_20210506.pth\n",
      "[                                                  ] 0/4, elapsed: 0s, ETA:/home/featurize/work/MMPose教程/mmpose/mmpose/datasets/pipelines/top_down_transform.py:40: UserWarning: Use the \"center\" and \"scale\" that already exist in the data sample. The padding will still be applied.\n",
      "  'Use the \"center\" and \"scale\" that already exist in the data '\n",
      "[>>>>>>>>                           ] 1/4, 2.9 task/s, elapsed: 0s, ETA:     1s/home/featurize/work/MMPose教程/mmpose/mmpose/datasets/pipelines/top_down_transform.py:40: UserWarning: Use the \"center\" and \"scale\" that already exist in the data sample. The padding will still be applied.\n",
      "  'Use the \"center\" and \"scale\" that already exist in the data '\n",
      "[>>>>>>>>>>>>>>>>>                  ] 2/4, 3.6 task/s, elapsed: 1s, ETA:     1s/home/featurize/work/MMPose教程/mmpose/mmpose/datasets/pipelines/top_down_transform.py:40: UserWarning: Use the \"center\" and \"scale\" that already exist in the data sample. The padding will still be applied.\n",
      "  'Use the \"center\" and \"scale\" that already exist in the data '\n",
      "[>>>>>>>>>>>>>>>>>>>>>>>>>>         ] 3/4, 4.1 task/s, elapsed: 1s, ETA:     0s/home/featurize/work/MMPose教程/mmpose/mmpose/datasets/pipelines/top_down_transform.py:40: UserWarning: Use the \"center\" and \"scale\" that already exist in the data sample. The padding will still be applied.\n",
      "  'Use the \"center\" and \"scale\" that already exist in the data '\n",
      "[>>>>>>>>>>>>>>>>>>>>>>>>>>>>>>>>>>>] 4/4, 4.3 task/s, elapsed: 1s, ETA:     0s\n"
     ]
    }
   ],
   "source": [
    "!python demo/interhand3d_img_demo.py \\\n",
    "        configs/hand/3d_kpt_sview_rgb_img/internet/interhand3d/res50_interhand3d_all_256x256.py \\\n",
    "        https://download.openmmlab.com/mmpose/hand3d/internet/res50_intehand3d_all_256x256-b9c1cf4c_20210506.pth \\\n",
    "        --json-file tests/data/interhand2.6m/test_interhand2.6m_data.json \\\n",
    "        --img-root tests/data/interhand2.6m \\\n",
    "        --out-img-root outputs/C2/C2_1 \\\n",
    "        --rebase-keypoint-height"
   ]
  },
  {
   "cell_type": "markdown",
   "id": "dc37c003-6a05-452b-82da-45f45fcba04d",
   "metadata": {},
   "source": [
    "## 用标注框作为`top_down`算法的输入框输入"
   ]
  },
  {
   "cell_type": "code",
   "execution_count": 2,
   "id": "22c1623b-6d6f-465f-8b03-382fd9317c5e",
   "metadata": {},
   "outputs": [
    {
     "name": "stdout",
     "output_type": "stream",
     "text": [
      "loading annotations into memory...\n",
      "Done (t=0.02s)\n",
      "creating index...\n",
      "index created!\n",
      "load checkpoint from http path: https://download.openmmlab.com/mmpose/hand3d/internet/res50_intehand3d_all_256x256-b9c1cf4c_20210506.pth\n",
      "Downloading: \"https://download.openmmlab.com/mmpose/hand3d/internet/res50_intehand3d_all_256x256-b9c1cf4c_20210506.pth\" to /home/featurize/.cache/torch/hub/checkpoints/res50_intehand3d_all_256x256-b9c1cf4c_20210506.pth\n",
      "100%|█████████████████████████████████████████| 181M/181M [00:01<00:00, 111MB/s]\n",
      "[                                                  ] 0/4, elapsed: 0s, ETA:/home/featurize/work/MMPose教程/mmpose/mmpose/datasets/pipelines/top_down_transform.py:40: UserWarning: Use the \"center\" and \"scale\" that already exist in the data sample. The padding will still be applied.\n",
      "  'Use the \"center\" and \"scale\" that already exist in the data '\n",
      "[>>>>>>>>                           ] 1/4, 2.0 task/s, elapsed: 0s, ETA:     1s/home/featurize/work/MMPose教程/mmpose/mmpose/datasets/pipelines/top_down_transform.py:40: UserWarning: Use the \"center\" and \"scale\" that already exist in the data sample. The padding will still be applied.\n",
      "  'Use the \"center\" and \"scale\" that already exist in the data '\n",
      "[>>>>>>>>>>>>>>>>>                  ] 2/4, 2.6 task/s, elapsed: 1s, ETA:     1s/home/featurize/work/MMPose教程/mmpose/mmpose/datasets/pipelines/top_down_transform.py:40: UserWarning: Use the \"center\" and \"scale\" that already exist in the data sample. The padding will still be applied.\n",
      "  'Use the \"center\" and \"scale\" that already exist in the data '\n",
      "[>>>>>>>>>>>>>>>>>>>>>>>>>>         ] 3/4, 2.8 task/s, elapsed: 1s, ETA:     0s/home/featurize/work/MMPose教程/mmpose/mmpose/datasets/pipelines/top_down_transform.py:40: UserWarning: Use the \"center\" and \"scale\" that already exist in the data sample. The padding will still be applied.\n",
      "  'Use the \"center\" and \"scale\" that already exist in the data '\n",
      "[>>>>>>>>>>>>>>>>>>>>>>>>>>>>>>>>>>>] 4/4, 3.0 task/s, elapsed: 1s, ETA:     0s\n"
     ]
    }
   ],
   "source": [
    "!python demo/interhand3d_img_demo.py \\\n",
    "        configs/hand/3d_kpt_sview_rgb_img/internet/interhand3d/res50_interhand3d_all_256x256.py \\\n",
    "        https://download.openmmlab.com/mmpose/hand3d/internet/res50_intehand3d_all_256x256-b9c1cf4c_20210506.pth \\\n",
    "        --json-file tests/data/interhand2.6m/test_interhand2.6m_data.json \\\n",
    "        --img-root tests/data/interhand2.6m \\\n",
    "        --camera-param-file tests/data/interhand2.6m/test_interhand2.6m_camera.json \\\n",
    "        --gt-joints-file tests/data/interhand2.6m/test_interhand2.6m_joint_3d.json \\\n",
    "        --out-img-root outputs/C2/C2_2 \\\n",
    "        --rebase-keypoint-height \\\n",
    "        --show-ground-truth"
   ]
  },
  {
   "cell_type": "code",
   "execution_count": null,
   "id": "1161fe02-1763-4868-a90a-2ea22ff21238",
   "metadata": {},
   "outputs": [],
   "source": []
  },
  {
   "cell_type": "markdown",
   "id": "70374980-1f64-4b3b-9805-690b489de44f",
   "metadata": {},
   "source": [
    "## 视频预测"
   ]
  },
  {
   "cell_type": "markdown",
   "id": "3fc842f0-a879-4336-8092-4d57993b362d",
   "metadata": {},
   "source": [
    "使用全图作为输入"
   ]
  },
  {
   "cell_type": "code",
   "execution_count": 3,
   "id": "5badef9b-a40c-4aee-b61b-7284c2c36a5f",
   "metadata": {},
   "outputs": [
    {
     "name": "stdout",
     "output_type": "stream",
     "text": [
      "Initializing model...\n",
      "load checkpoint from http path: https://download.openmmlab.com/mmpose/animal/resnet/res152_fly_192x192-fcafbd5a_20210407.pth\n",
      "Downloading: \"https://download.openmmlab.com/mmpose/animal/resnet/res152_fly_192x192-fcafbd5a_20210407.pth\" to /home/featurize/.cache/torch/hub/checkpoints/res152_fly_192x192-fcafbd5a_20210407.pth\n",
      "100%|█████████████████████████████████████████| 263M/263M [00:02<00:00, 110MB/s]\n",
      "Running inference...\n",
      "[>>>>>>>>>>>>>>>>>>>>>>>>>>>>>>] 120/120, 13.6 task/s, elapsed: 9s, ETA:     0s\n"
     ]
    }
   ],
   "source": []
  },
  {
   "cell_type": "code",
   "execution_count": null,
   "id": "06c1aaa6-f264-4aa3-91c5-4a43601ea2dc",
   "metadata": {},
   "outputs": [],
   "source": []
  }
 ],
 "metadata": {
  "kernelspec": {
   "display_name": "Python 3 (ipykernel)",
   "language": "python",
   "name": "python3"
  },
  "language_info": {
   "codemirror_mode": {
    "name": "ipython",
    "version": 3
   },
   "file_extension": ".py",
   "mimetype": "text/x-python",
   "name": "python",
   "nbconvert_exporter": "python",
   "pygments_lexer": "ipython3",
   "version": "3.7.10"
  }
 },
 "nbformat": 4,
 "nbformat_minor": 5
}
