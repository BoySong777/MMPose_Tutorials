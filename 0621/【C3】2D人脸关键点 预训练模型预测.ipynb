{
 "cells": [
  {
   "cell_type": "markdown",
   "id": "63f1dd0a-8685-40fd-b5d7-3218f97ac899",
   "metadata": {},
   "source": [
    "# 2D人脸关键点 预训练模型预测\n",
    "\n",
    "参考文档：https://github.com/open-mmlab/mmpose/blob/master/demo/docs/2d_face_demo.md\n",
    "\n",
    "作者：[同济子豪兄](https://space.bilibili.com/1900783) 2022-06-06\n",
    "\n",
    "如果报错`CUDA out of memory.`则重启前面几个代码的`kernel`即可。"
   ]
  },
  {
   "cell_type": "markdown",
   "id": "e398145c-bc71-440d-b535-3ff638b8cac2",
   "metadata": {},
   "source": [
    "## 扩展阅读\n",
    "\n",
    "Mediapipe Blaze Face-人脸468个关键点的关键点实时检测：https://www.bilibili.com/video/BV1ei4y1d7zA\n",
    "\n",
    "摄像头实时在线Demo：https://codepen.io/tommyzihao/pen/dyWEjBN"
   ]
  },
  {
   "cell_type": "markdown",
   "id": "4ff424e2-8d49-4f7c-8e81-24a957d1b7b9",
   "metadata": {},
   "source": [
    "## 进入 MMPose 主目录"
   ]
  },
  {
   "cell_type": "code",
   "execution_count": 1,
   "id": "c24d56aa-5528-4561-bb1c-33bcffe2c852",
   "metadata": {},
   "outputs": [],
   "source": [
    "import os\n",
    "os.chdir('mmpose')"
   ]
  },
  {
   "cell_type": "markdown",
   "id": "9eb4b66a-4913-4825-87c1-cef1f5c8004d",
   "metadata": {},
   "source": [
    "## 安装`face_recognition`"
   ]
  },
  {
   "cell_type": "markdown",
   "id": "172a21a6-b967-4668-ad1d-623230673d8f",
   "metadata": {},
   "source": [
    "人脸识别开源库`face_recognition`介绍：https://zhuanlan.zhihu.com/p/45827914"
   ]
  },
  {
   "cell_type": "code",
   "execution_count": 2,
   "id": "4a1861c1-a176-4550-b655-9bb827d76129",
   "metadata": {},
   "outputs": [
    {
     "name": "stdout",
     "output_type": "stream",
     "text": [
      "Looking in indexes: https://pypi.tuna.tsinghua.edu.cn/simple\n",
      "Collecting face_recognition\n",
      "  Downloading https://pypi.tuna.tsinghua.edu.cn/packages/1e/95/f6c9330f54ab07bfa032bf3715c12455a381083125d8880c43cbe76bb3d0/face_recognition-1.3.0-py2.py3-none-any.whl (15 kB)\n",
      "Collecting dlib>=19.7\n",
      "  Downloading https://pypi.tuna.tsinghua.edu.cn/packages/e5/3b/7a8522a5c2ef6ff6252e46b0788b3d2c2280198c49d6ecf3b576b171045f/dlib-19.24.0.tar.gz (3.2 MB)\n",
      "\u001b[K     |████████████████████████████████| 3.2 MB 56.1 MB/s eta 0:00:01\n",
      "\u001b[?25hRequirement already satisfied: Click>=6.0 in /environment/miniconda3/lib/python3.7/site-packages (from face_recognition) (7.1.2)\n",
      "Requirement already satisfied: Pillow in /environment/miniconda3/lib/python3.7/site-packages (from face_recognition) (8.4.0)\n",
      "Collecting face-recognition-models>=0.3.0\n",
      "  Downloading https://pypi.tuna.tsinghua.edu.cn/packages/cf/3b/4fd8c534f6c0d1b80ce0973d01331525538045084c73c153ee6df20224cf/face_recognition_models-0.3.0.tar.gz (100.1 MB)\n",
      "\u001b[K     |████████████████████████████████| 100.1 MB 77.9 MB/s eta 0:00:01\n",
      "\u001b[?25hRequirement already satisfied: numpy in /environment/miniconda3/lib/python3.7/site-packages (from face_recognition) (1.21.4)\n",
      "Building wheels for collected packages: dlib, face-recognition-models\n",
      "  Building wheel for dlib (setup.py) ... \u001b[?25ldone\n",
      "\u001b[?25h  Created wheel for dlib: filename=dlib-19.24.0-cp37-cp37m-linux_x86_64.whl size=4863138 sha256=b22941160ccec6e0866ad64017e2b7cbbc7f8af1b8bd39bd2c7102ef23573cce\n",
      "  Stored in directory: /home/featurize/.cache/pip/wheels/16/6b/c6/39a2204a3b959b25c1d8e34cb2ac651cadf58307a71dbfe9bd\n",
      "  Building wheel for face-recognition-models (setup.py) ... \u001b[?25ldone\n",
      "\u001b[?25h  Created wheel for face-recognition-models: filename=face_recognition_models-0.3.0-py2.py3-none-any.whl size=100566173 sha256=c8fe71170875957ed33ff07aaba585a9437facec8a9239e21e348e71af62a337\n",
      "  Stored in directory: /home/featurize/.cache/pip/wheels/85/e5/4b/ed9642e474ccaecc9f20c5152eeecef59a184b0e93825a4732\n",
      "Successfully built dlib face-recognition-models\n",
      "Installing collected packages: face-recognition-models, dlib, face-recognition\n",
      "Successfully installed dlib-19.24.0 face-recognition-1.3.0 face-recognition-models-0.3.0\n"
     ]
    }
   ],
   "source": [
    "!pip install face_recognition"
   ]
  },
  {
   "cell_type": "markdown",
   "id": "a5c11033-5a43-4b53-9880-df6f847f347d",
   "metadata": {},
   "source": [
    "## 用目标检测预测框作为`top_down`算法的输入框输入"
   ]
  },
  {
   "cell_type": "code",
   "execution_count": 3,
   "id": "e94c8d92-922e-4f88-8589-5d59b6138628",
   "metadata": {},
   "outputs": [
    {
     "name": "stdout",
     "output_type": "stream",
     "text": [
      "load checkpoint from http path: https://download.openmmlab.com/mmpose/face/hrnetv2/hrnetv2_w18_aflw_256x256-f2bbc62b_20210125.pth\n",
      "Downloading: \"https://download.openmmlab.com/mmpose/face/hrnetv2/hrnetv2_w18_aflw_256x256-f2bbc62b_20210125.pth\" to /home/featurize/.cache/torch/hub/checkpoints/hrnetv2_w18_aflw_256x256-f2bbc62b_20210125.pth\n",
      "100%|███████████████████████████████████████| 37.2M/37.2M [00:00<00:00, 106MB/s]\n"
     ]
    }
   ],
   "source": [
    "!python demo/face_img_demo.py \\\n",
    "        configs/face/2d_kpt_sview_rgb_img/topdown_heatmap/aflw/hrnetv2_w18_aflw_256x256.py \\\n",
    "        https://download.openmmlab.com/mmpose/face/hrnetv2/hrnetv2_w18_aflw_256x256-f2bbc62b_20210125.pth \\\n",
    "        --img-root tests/data/aflw/ \\\n",
    "        --img image04476.jpg \\\n",
    "        --out-img-root outputs/C3/C3_1"
   ]
  },
  {
   "cell_type": "markdown",
   "id": "05a6d4a0-493b-4c39-b9fb-7b636ee3774d",
   "metadata": {},
   "source": [
    "## 用标注框作为`top_down`算法的输入框输入"
   ]
  },
  {
   "cell_type": "code",
   "execution_count": 4,
   "id": "7e063f0f-1027-4ecf-a431-884b0ac1144d",
   "metadata": {},
   "outputs": [
    {
     "name": "stdout",
     "output_type": "stream",
     "text": [
      "loading annotations into memory...\n",
      "Done (t=0.00s)\n",
      "creating index...\n",
      "index created!\n",
      "load checkpoint from http path: https://download.openmmlab.com/mmpose/face/hrnetv2/hrnetv2_w18_aflw_256x256-f2bbc62b_20210125.pth\n"
     ]
    }
   ],
   "source": [
    "!python demo/top_down_img_demo.py \\\n",
    "        configs/face/2d_kpt_sview_rgb_img/topdown_heatmap/aflw/hrnetv2_w18_aflw_256x256.py \\\n",
    "        https://download.openmmlab.com/mmpose/face/hrnetv2/hrnetv2_w18_aflw_256x256-f2bbc62b_20210125.pth \\\n",
    "        --img-root tests/data/aflw/ \\\n",
    "        --json-file tests/data/aflw/test_aflw.json \\\n",
    "        --out-img-root outputs/C3/C3_2"
   ]
  },
  {
   "cell_type": "markdown",
   "id": "bcd3a87f-2ab1-4091-94be-298e20215f21",
   "metadata": {},
   "source": [
    "## 视频预测"
   ]
  },
  {
   "cell_type": "code",
   "execution_count": 5,
   "id": "5120a34d-5515-4328-9ab5-ee2fc2091c3b",
   "metadata": {},
   "outputs": [
    {
     "name": "stdout",
     "output_type": "stream",
     "text": [
      "Initializing model...\n",
      "load checkpoint from http path: https://download.openmmlab.com/mmpose/face/hrnetv2/hrnetv2_w18_aflw_256x256-f2bbc62b_20210125.pth\n",
      "\u001b[0;39m[tls @ 0x555878d40200] \u001b[0m\u001b[1;31merror:00000000:lib(0):func(0):reason(0)\n",
      "\u001b[0mRunning inference...\n",
      "[>>>>>>>>>>>>>>>>>>>>>>>>>>>>>>>] 84/84, 0.7 task/s, elapsed: 124s, ETA:     0s\n"
     ]
    }
   ],
   "source": [
    "!python demo/face_video_demo.py \\\n",
    "        configs/face/2d_kpt_sview_rgb_img/topdown_heatmap/aflw/hrnetv2_w18_aflw_256x256.py \\\n",
    "        https://download.openmmlab.com/mmpose/face/hrnetv2/hrnetv2_w18_aflw_256x256-f2bbc62b_20210125.pth \\\n",
    "        --video-path https://user-images.githubusercontent.com/87690686/137441355-ec4da09c-3a8f-421b-bee9-b8b26f8c2dd0.mp4 \\\n",
    "        --out-video-root outputs/C3/C3_3"
   ]
  },
  {
   "cell_type": "code",
   "execution_count": 6,
   "id": "965d90f8-cb77-4210-aab7-3c1d58491f76",
   "metadata": {},
   "outputs": [
    {
     "name": "stdout",
     "output_type": "stream",
     "text": [
      "Initializing model...\n",
      "load checkpoint from http path: https://download.openmmlab.com/mmpose/face/hrnetv2/hrnetv2_w18_aflw_256x256-f2bbc62b_20210125.pth\n",
      "Running inference...\n",
      "[>>>>>>>>>>>>>>>>>>>>>>>>>>>   ] 95/102, 0.7 task/s, elapsed: 141s, ETA:    10s\n"
     ]
    }
   ],
   "source": [
    "!python demo/face_video_demo.py \\\n",
    "        configs/face/2d_kpt_sview_rgb_img/topdown_heatmap/aflw/hrnetv2_w18_aflw_256x256.py \\\n",
    "        https://download.openmmlab.com/mmpose/face/hrnetv2/hrnetv2_w18_aflw_256x256-f2bbc62b_20210125.pth \\\n",
    "        --video-path data/TongjiDancerClub.MOV \\\n",
    "        --out-video-root outputs/C3/C3_4"
   ]
  },
  {
   "cell_type": "code",
   "execution_count": null,
   "id": "21ade942-2e4c-4d12-8a70-6eacc13dc578",
   "metadata": {},
   "outputs": [],
   "source": []
  }
 ],
 "metadata": {
  "kernelspec": {
   "display_name": "Python 3 (ipykernel)",
   "language": "python",
   "name": "python3"
  },
  "language_info": {
   "codemirror_mode": {
    "name": "ipython",
    "version": 3
   },
   "file_extension": ".py",
   "mimetype": "text/x-python",
   "name": "python",
   "nbconvert_exporter": "python",
   "pygments_lexer": "ipython3",
   "version": "3.7.10"
  }
 },
 "nbformat": 4,
 "nbformat_minor": 5
}
