{
 "cells": [
  {
   "cell_type": "markdown",
   "id": "f64a5d48",
   "metadata": {},
   "source": [
    "# 摄像头实时demo\n",
    "\n",
    "同济子豪兄 2022-6-22"
   ]
  },
  {
   "cell_type": "markdown",
   "id": "9ab5ece2",
   "metadata": {},
   "source": [
    "参考文档：https://github.com/open-mmlab/mmpose/blob/master/demo/docs/webcam_demo.md\n",
    "\n",
    "用手机做摄像头：\n",
    "\n",
    "https://reincubate.com/camo/\n",
    "\n",
    "https://www.dev47apps.com/"
   ]
  },
  {
   "cell_type": "markdown",
   "id": "1c8e471f",
   "metadata": {},
   "source": [
    "## 进入 MMPose 主目录"
   ]
  },
  {
   "cell_type": "code",
   "execution_count": 1,
   "id": "e8fda0f7",
   "metadata": {},
   "outputs": [],
   "source": [
    "import os\n",
    "os.chdir('mmpose')"
   ]
  },
  {
   "cell_type": "markdown",
   "id": "08e94c80",
   "metadata": {},
   "source": [
    "## 测试摄像头"
   ]
  },
  {
   "cell_type": "code",
   "execution_count": 2,
   "id": "028683ab",
   "metadata": {},
   "outputs": [
    {
     "name": "stdout",
     "output_type": "stream",
     "text": [
      "Traceback (most recent call last):\r\n",
      "  File \"demo/webcam_demo.py\", line 8, in <module>\r\n",
      "    from mmpose.apis.webcam import WebcamExecutor\r\n",
      "ModuleNotFoundError: No module named 'mmpose.apis'\r\n"
     ]
    }
   ],
   "source": [
    "# 运行后按 q 键退出 \n",
    "!python demo/webcam_demo.py --config demo/webcam_cfg/test_camera.py"
   ]
  },
  {
   "cell_type": "markdown",
   "id": "689d7035",
   "metadata": {},
   "source": [
    "## 修改 config 文件"
   ]
  },
  {
   "cell_type": "markdown",
   "id": "01974791",
   "metadata": {},
   "source": [
    "进入`mmpose/demo/webcam_cfg`目录，\n",
    "\n",
    "打开`pose_estimation.py`，在`type='DetectorNode'`、`type='TopDownPoseEstimatorNode'`、`type='TopDownPoseEstimatorNode'`的dict中添加`device='cpu',`\n",
    "\n",
    "打开`pose_tracking.py`，修改`type='PoseTrackerNode'`中为`device='cpu'`\n",
    "\n",
    "打开`gesture_recognition.py`，在`type='DetectorNode'`、`type='HandGestureRecognizerNode'`的dict中添加`device='cpu',`\n",
    "\n",
    "如果想预测现有的视频文件，将`camera_id`的值修改为视频路径即可。"
   ]
  },
  {
   "cell_type": "markdown",
   "id": "bb290494",
   "metadata": {},
   "source": [
    "## 墨镜、大眼睛特效"
   ]
  },
  {
   "cell_type": "code",
   "execution_count": 3,
   "id": "ff2546df",
   "metadata": {},
   "outputs": [
    {
     "name": "stdout",
     "output_type": "stream",
     "text": [
      "Traceback (most recent call last):\r\n",
      "  File \"demo/webcam_demo.py\", line 8, in <module>\r\n",
      "    from mmpose.apis.webcam import WebcamExecutor\r\n",
      "ModuleNotFoundError: No module named 'mmpose.apis'\r\n"
     ]
    }
   ],
   "source": [
    "!python demo/webcam_demo.py\n",
    "\n",
    "# 或运行\n",
    "# !python demo/webcam_demo.py --config demo/webcam_cfg/pose_estimation.py"
   ]
  },
  {
   "cell_type": "markdown",
   "id": "503d7817",
   "metadata": {},
   "source": [
    "## 人体姿态追踪"
   ]
  },
  {
   "cell_type": "code",
   "execution_count": 4,
   "id": "8642f459",
   "metadata": {},
   "outputs": [
    {
     "name": "stdout",
     "output_type": "stream",
     "text": [
      "load checkpoint from http path: https://download.openmmlab.com/mmdetection/v2.0/ssd/ssdlite_mobilenetv2_scratch_600e_coco/ssdlite_mobilenetv2_scratch_600e_coco_20210629_110627-974d9307.pth\n",
      "load checkpoint from http path: https://download.openmmlab.com/mmpose/top_down/vipnas/vipnas_mbv3_coco_wholebody_256x192_dark-e2158108_20211205.pth\n",
      "2022-06-22 09:52:25.413 python[48207:13746641] WARNING: NSWindow drag regions should only be invalidated on the Main Thread! This will throw an exception in the future. Called from (\n",
      "\t0   AppKit                              0x00007ff8166d4313 -[NSWindow(NSWindow_Theme) _postWindowNeedsToResetDragMarginsUnlessPostingDisabled] + 352\n",
      "\t1   AppKit                              0x00007ff8166c02a4 -[NSWindow _initContent:styleMask:backing:defer:contentView:] + 1288\n",
      "\t2   AppKit                              0x00007ff816868fd1 -[NSPanel _initContent:styleMask:backing:defer:contentView:] + 50\n",
      "\t3   AppKit                              0x00007ff8166bfd96 -[NSWindow initWithContentRect:styleMask:backing:defer:] + 42\n",
      "\t4   AppKit                              0x00007ff816868f8a -[NSPanel initWithContentRect:styleMask:backing:defer:] + 59\n",
      "\t5   AppKit                              0x00007ff8166be4d6 -[NSWindowTemplate nibInstantiate] + 354\n",
      "\t6   AppKit                              0x00007ff81668b3cd -[NSIBObjectData instantiateObject:] + 222\n",
      "\t7   AppKit                              0x00007ff81668ab3c -[NSIBObjectData nibInstantiateWithOwner:options:topLevelObjects:] + 476\n",
      "\t8   AppKit                              0x00007ff81667f76d loadNib + 420\n",
      "\t9   AppKit                              0x00007ff81667ec80 +[NSBundle(NSNibLoading) _loadNibFile:nameTable:options:withZone:ownerBundle:] + 788\n",
      "\t10  AppKit                              0x00007ff81667e877 -[NSBundle(NSNibLoading) loadNibNamed:owner:topLevelObjects:] + 201\n",
      "\t11  AppKit                              0x00007ff8169e5c33 -[NSAlert init] + 137\n",
      "\t12  ReincubateCamoDAL                   0x000000015da9f7c7 $s17ReincubateCamoDAL6StreamC18openStudioIfNeeded33_D313D08B4F6F2D5405564E4D0C906409LLyyFTf4d_n + 1831\n",
      "\t13  ReincubateCamoDAL                   0x000000015da9d932 $s17ReincubateCamoDAL6StreamC5startyyF + 18\n",
      "\t14  ReincubateCamoDAL                   0x000000015da8d95b $s17ReincubateCamoDAL17DeviceStartStream33_A1BDB24F12326934D385418AEFBBF257LL6plugin8deviceID06streamN0s5Int32VSpySpySo27CMIOHardwarePlugInInterfaceVGSgGSg_s6UInt32VAPtFTf4ddn_nTm + 235\n",
      "\t15  ReincubateCamoDAL                   0x000000015da8ccbe $s17ReincubateCamoDAL17DeviceStartStream33_A1BDB24F12326934D385418AEFBBF257LL6plugin8deviceID06streamN0s5Int32VSpySpySo27CMIOHardwarePlugInInterfaceVGSgGSg_s6UInt32VAPtFTo + 30\n",
      "\t16  CoreMediaIO                         0x00007ff8218cb818 _ZN4CMIO3DAL6PlugIn17DeviceStartStreamERKNS0_6ObjectEj + 28\n",
      "\t17  CoreMediaIO                         0x00007ff8218c912a _ZN4CMIO3DAL6Device11StartStreamEj + 270\n",
      "\t18  CoreMediaIO                         0x00007ff82191224e CMIODeviceStartStream + 276\n",
      "\t19  CMIOBaseUnits                       0x000000015e9be4ab CMIOUnitVideoToolboxCompressorEntry + 56171\n",
      "\t20  CMIOBaseUnits                       0x000000015e9bfbbb CMIOUnitVideoToolboxCompressorEntry + 62075\n",
      "\t21  CMIOBaseUnits                       0x000000015e9bf85a CMIOUnitVideoToolboxCompressorEntry + 61210\n",
      "\t22  CMIOBaseUnits                       0x000000015e976959 CMIOUnitInputFromProcsEntry + 3721\n",
      "\t23  CMIOBaseUnits                       0x000000015e957ef9 CMIOUnitFanOutEntry + 4761\n",
      "\t24  CoreMediaIO                         0x00007ff8218e8697 _ZN9CMIOGraph5StartEv + 3411\n",
      "\t25  AVFCapture                          0x00007ff82da32406 -[AVCaptureSession_Tundra _buildAndRunGraph] + 2205\n",
      "\t26  AVFCapture                          0x00007ff82da33913 -[AVCaptureSession_Tundra _setRunning:] + 456\n",
      "\t27  AVFCapture                          0x00007ff82da33460 -[AVCaptureSession_Tundra startRunning] + 180\n",
      "\t28  cv2.cpython-37m-darwin.so           0x0000000133d781d9 _ZN12CvCaptureCAM18startCaptureDeviceEi + 1353\n",
      "\t29  cv2.cpython-37m-darwin.so           0x0000000133d77aae _ZN2cv31create_AVFoundation_capture_camEi + 110\n",
      "\t30  cv2.cpython-37m-darwin.so           0x0000000133d6223d _ZNK2cv13StaticBackend13createCaptureEiRKNS_22VideoCaptureParametersE + 29\n",
      "\t31  cv2.cpython-37m-darwin.so           0x0000000133d4927d _ZN2cv12VideoCapture4openEiiRKNSt3__16vectorIiNS1_9allocatorIiEEEE + 1389\n",
      "\t32  cv2.cpython-37m-darwin.so           0x0000000133d48cd2 _ZN2cv12VideoCapture4openEii + 34\n",
      "\t33  cv2.cpython-37m-darwin.so           0x0000000133d46e53 _ZN2cv12VideoCaptureC2Eii + 99\n",
      "\t34  cv2.cpython-37m-darwin.so           0x00000001330a5522 _ZL37pyopencv_cv_VideoCapture_VideoCaptureP23pyopencv_VideoCapture_tP7_objectS2_ + 1666\n",
      "\t35  python3.7                           0x0000000108cfa976 type_call + 246\n",
      "\t36  python3.7                           0x0000000108c71cdf _PyObject_FastCallKeywords + 175\n",
      "\t37  python3.7                           0x0000000108daa907 call_function + 455\n",
      "\t38  python3.7                           0x0000000108da2344 _PyEval_EvalFrameDefault + 20180\n",
      "\t39  python3.7                           0x0000000108c706ca _PyFunction_FastCallDict + 234\n",
      "\t40  python3.7                           0x0000000108c74d7a method_call + 122\n",
      "\t41  python3.7                           0x0000000108c72b1f PyObject_Call + 127\n",
      "\t42  python3.7                           0x0000000108da2c77 _PyEval_EvalFrameDefault + 22535\n",
      "\t43  python3.7                           0x0000000108c721e2 _PyFunction_FastCallKeywords + 226\n",
      "\t44  python3.7                           0x0000000108daa7f7 call_function + 183\n",
      "\t45  python3.7                           0x0000000108da22bb _PyEval_EvalFrameDefault + 20043\n",
      "\t46  python3.7                           0x0000000108c721e2 _PyFunction_FastCallKeywords + 226\n",
      "\t47  python3.7                           0x0000000108daa7f7 call_function + 183\n",
      "\t48  python3.7                           0x0000000108da22bb _PyEval_EvalFrameDefault + 20043\n",
      "\t49  python3.7                           0x0000000108c706ca _PyFunction_FastCallDict + 234\n",
      "\t50  python3.7                           0x0000000108c74d7a method_call + 122\n",
      "\t51  python3.7                           0x0000000108c72b1f PyObject_Call + 127\n",
      "\t52  python3.7                           0x0000000108e96e2a t_bootstrap + 122\n",
      "\t53  python3.7                           0x0000000108e1b674 pythread_wrapper + 36\n",
      "\t54  libsystem_pthread.dylib             0x00007ff813ba84e1 _pthread_start + 125\n",
      "\t55  libsystem_pthread.dylib             0x00007ff813ba3f6b thread_start + 15\n",
      ")\n",
      "2022-06-22 09:52:25.432 python[48207:13746641] -[NSAlert runModal] may only be invoked from the main thread. Behavior on other threads is undefined. (\n",
      "\t0   AppKit                              0x00007ff8169e6548 -[NSAlert runModal] + 175\n",
      "\t1   ReincubateCamoDAL                   0x000000015da9fa61 $s17ReincubateCamoDAL6StreamC18openStudioIfNeeded33_D313D08B4F6F2D5405564E4D0C906409LLyyFTf4d_n + 2497\n",
      "\t2   ReincubateCamoDAL                   0x000000015da9d932 $s17ReincubateCamoDAL6StreamC5startyyF + 18\n",
      "\t3   ReincubateCamoDAL                   0x000000015da8d95b $s17ReincubateCamoDAL17DeviceStartStream33_A1BDB24F12326934D385418AEFBBF257LL6plugin8deviceID06streamN0s5Int32VSpySpySo27CMIOHardwarePlugInInterfaceVGSgGSg_s6UInt32VAPtFTf4ddn_nTm + 235\n",
      "\t4   ReincubateCamoDAL                   0x000000015da8ccbe $s17ReincubateCamoDAL17DeviceStartStream33_A1BDB24F12326934D385418AEFBBF257LL6plugin8deviceID06streamN0s5Int32VSpySpySo27CMIOHardwarePlugInInterfaceVGSgGSg_s6UInt32VAPtFTo + 30\n",
      "\t5   CoreMediaIO                         0x00007ff8218cb818 _ZN4CMIO3DAL6PlugIn17DeviceStartStreamERKNS0_6ObjectEj + 28\n",
      "\t6   CoreMediaIO                         0x00007ff8218c912a _ZN4CMIO3DAL6Device11StartStreamEj + 270\n",
      "\t7   CoreMediaIO                         0x00007ff82191224e CMIODeviceStartStream + 276\n",
      "\t8   CMIOBaseUnits                       0x000000015e9be4ab CMIOUnitVideoToolboxCompressorEntry + 56171\n",
      "\t9   CMIOBaseUnits                       0x000000015e9bfbbb CMIOUnitVideoToolboxCompressorEntry + 62075\n",
      "\t10  CMIOBaseUnits                       0x000000015e9bf85a CMIOUnitVideoToolboxCompressorEntry + 61210\n",
      "\t11  CMIOBaseUnits                       0x000000015e976959 CMIOUnitInputFromProcsEntry + 3721\n",
      "\t12  CMIOBaseUnits                       0x000000015e957ef9 CMIOUnitFanOutEntry + 4761\n",
      "\t13  CoreMediaIO                         0x00007ff8218e8697 _ZN9CMIOGraph5StartEv + 3411\n",
      "\t14  AVFCapture                          0x00007ff82da32406 -[AVCaptureSession_Tundra _buildAndRunGraph] + 2205\n",
      "\t15  AVFCapture                          0x00007ff82da33913 -[AVCaptureSession_Tundra _setRunning:] + 456\n",
      "\t16  AVFCapture                          0x00007ff82da33460 -[AVCaptureSession_Tundra startRunning] + 180\n",
      "\t17  cv2.cpython-37m-darwin.so           0x0000000133d781d9 _ZN12CvCaptureCAM18startCaptureDeviceEi + 1353\n",
      "\t18  cv2.cpython-37m-darwin.so           0x0000000133d77aae _ZN2cv31create_AVFoundation_capture_camEi + 110\n",
      "\t19  cv2.cpython-37m-darwin.so           0x0000000133d6223d _ZNK2cv13StaticBackend13createCaptureEiRKNS_22VideoCaptureParametersE + 29\n",
      "\t20  cv2.cpython-37m-darwin.so           0x0000000133d4927d _ZN2cv12VideoCapture4openEiiRKNSt3__16vectorIiNS1_9allocatorIiEEEE + 1389\n",
      "\t21  cv2.cpython-37m-darwin.so           0x0000000133d48cd2 _ZN2cv12VideoCapture4openEii + 34\n",
      "\t22  cv2.cpython-37m-darwin.so           0x0000000133d46e53 _ZN2cv12VideoCaptureC2Eii + 99\n",
      "\t23  cv2.cpython-37m-darwin.so           0x00000001330a5522 _ZL37pyopencv_cv_VideoCapture_VideoCaptureP23pyopencv_VideoCapture_tP7_objectS2_ + 1666\n",
      "\t24  python3.7                           0x0000000108cfa976 type_call + 246\n",
      "\t25  python3.7                           0x0000000108c71cdf _PyObject_FastCallKeywords + 175\n",
      "\t26  python3.7                           0x0000000108daa907 call_function + 455\n",
      "\t27  python3.7                           0x0000000108da2344 _PyEval_EvalFrameDefault + 20180\n",
      "\t28  python3.7                           0x0000000108c706ca _PyFunction_FastCallDict + 234\n",
      "\t29  python3.7                           0x0000000108c74d7a method_call + 122\n",
      "\t30  python3.7                           0x0000000108c72b1f PyObject_Call + 127\n",
      "\t31  python3.7                           0x0000000108da2c77 _PyEval_EvalFrameDefault + 22535\n",
      "\t32  python3.7                           0x0000000108c721e2 _PyFunction_FastCallKeywords + 226\n",
      "\t33  python3.7                           0x0000000108daa7f7 call_function + 183\n",
      "\t34  python3.7                           0x0000000108da22bb _PyEval_EvalFrameDefault + 20043\n",
      "\t35  python3.7                           0x0000000108c721e2 _PyFunction_FastCallKeywords + 226\n",
      "\t36  python3.7                           0x0000000108daa7f7 call_function + 183\n",
      "\t37  python3.7                           0x0000000108da22bb _PyEval_EvalFrameDefault + 20043\n",
      "\t38  python3.7                           0x0000000108c706ca _PyFunction_FastCallDict + 234\n",
      "\t39  python3.7                           0x0000000108c74d7a method_call + 122\n",
      "\t40  python3.7                           0x0000000108c72b1f PyObject_Call + 127\n",
      "\t41  python3.7                           0x0000000108e96e2a t_bootstrap + 122\n",
      "\t42  python3.7                           0x0000000108e1b674 pythread_wrapper + 36\n",
      "\t43  libsystem_pthread.dylib             0x00007ff813ba84e1 _pthread_start + 125\n",
      "\t44  libsystem_pthread.dylib             0x00007ff813ba3f6b thread_start + 15\n",
      ")\n",
      "Assertion failed: ([NSThread isMainThread]), function _NSAsynchronousPreparationAssertMainThread, file NSAsynchronousPreparation.m, line 16.\n"
     ]
    }
   ],
   "source": [
    "!python demo/webcam_demo.py --config demo/webcam_cfg/pose_tracking.py"
   ]
  },
  {
   "cell_type": "markdown",
   "id": "ff3072e7",
   "metadata": {},
   "source": [
    "## 手势识别"
   ]
  },
  {
   "cell_type": "markdown",
   "id": "213d698a",
   "metadata": {},
   "source": [
    "NVGesture数据集的 25 类手势"
   ]
  },
  {
   "cell_type": "code",
   "execution_count": 3,
   "id": "e7bc4d3b",
   "metadata": {},
   "outputs": [
    {
     "name": "stdout",
     "output_type": "stream",
     "text": [
      "load checkpoint from http path: https://download.openmmlab.com/mmpose/mmdet_pretrained/ssdlite_mobilenetv2_scratch_600e_onehand-4f9f8686_20220523.pth\n",
      "load checkpoint from http path: https://download.openmmlab.com/mmpose/gesture/mtut/i3d_nvgesture_bbox_112x112_fps15-363b5956_20220530.pth\n",
      "The model and loaded state dict do not match exactly\n",
      "\n",
      "unexpected key in source state_dict: backbone.depth.conv3d_1a_7x7.conv3d.weight, backbone.depth.conv3d_1a_7x7.batch3d.weight, backbone.depth.conv3d_1a_7x7.batch3d.bias, backbone.depth.conv3d_1a_7x7.batch3d.running_mean, backbone.depth.conv3d_1a_7x7.batch3d.running_var, backbone.depth.conv3d_1a_7x7.batch3d.num_batches_tracked, backbone.depth.conv3d_2b_1x1.conv3d.weight, backbone.depth.conv3d_2b_1x1.batch3d.weight, backbone.depth.conv3d_2b_1x1.batch3d.bias, backbone.depth.conv3d_2b_1x1.batch3d.running_mean, backbone.depth.conv3d_2b_1x1.batch3d.running_var, backbone.depth.conv3d_2b_1x1.batch3d.num_batches_tracked, backbone.depth.conv3d_2c_3x3.conv3d.weight, backbone.depth.conv3d_2c_3x3.batch3d.weight, backbone.depth.conv3d_2c_3x3.batch3d.bias, backbone.depth.conv3d_2c_3x3.batch3d.running_mean, backbone.depth.conv3d_2c_3x3.batch3d.running_var, backbone.depth.conv3d_2c_3x3.batch3d.num_batches_tracked, backbone.depth.mixed_3b.branch_0.conv3d.weight, backbone.depth.mixed_3b.branch_0.batch3d.weight, backbone.depth.mixed_3b.branch_0.batch3d.bias, backbone.depth.mixed_3b.branch_0.batch3d.running_mean, backbone.depth.mixed_3b.branch_0.batch3d.running_var, backbone.depth.mixed_3b.branch_0.batch3d.num_batches_tracked, backbone.depth.mixed_3b.branch_1.0.conv3d.weight, backbone.depth.mixed_3b.branch_1.0.batch3d.weight, backbone.depth.mixed_3b.branch_1.0.batch3d.bias, backbone.depth.mixed_3b.branch_1.0.batch3d.running_mean, backbone.depth.mixed_3b.branch_1.0.batch3d.running_var, backbone.depth.mixed_3b.branch_1.0.batch3d.num_batches_tracked, backbone.depth.mixed_3b.branch_1.1.conv3d.weight, backbone.depth.mixed_3b.branch_1.1.batch3d.weight, backbone.depth.mixed_3b.branch_1.1.batch3d.bias, backbone.depth.mixed_3b.branch_1.1.batch3d.running_mean, backbone.depth.mixed_3b.branch_1.1.batch3d.running_var, backbone.depth.mixed_3b.branch_1.1.batch3d.num_batches_tracked, backbone.depth.mixed_3b.branch_2.0.conv3d.weight, backbone.depth.mixed_3b.branch_2.0.batch3d.weight, backbone.depth.mixed_3b.branch_2.0.batch3d.bias, backbone.depth.mixed_3b.branch_2.0.batch3d.running_mean, backbone.depth.mixed_3b.branch_2.0.batch3d.running_var, backbone.depth.mixed_3b.branch_2.0.batch3d.num_batches_tracked, backbone.depth.mixed_3b.branch_2.1.conv3d.weight, backbone.depth.mixed_3b.branch_2.1.batch3d.weight, backbone.depth.mixed_3b.branch_2.1.batch3d.bias, backbone.depth.mixed_3b.branch_2.1.batch3d.running_mean, backbone.depth.mixed_3b.branch_2.1.batch3d.running_var, backbone.depth.mixed_3b.branch_2.1.batch3d.num_batches_tracked, backbone.depth.mixed_3b.branch_3.1.conv3d.weight, backbone.depth.mixed_3b.branch_3.1.batch3d.weight, backbone.depth.mixed_3b.branch_3.1.batch3d.bias, backbone.depth.mixed_3b.branch_3.1.batch3d.running_mean, backbone.depth.mixed_3b.branch_3.1.batch3d.running_var, backbone.depth.mixed_3b.branch_3.1.batch3d.num_batches_tracked, backbone.depth.mixed_3c.branch_0.conv3d.weight, backbone.depth.mixed_3c.branch_0.batch3d.weight, backbone.depth.mixed_3c.branch_0.batch3d.bias, backbone.depth.mixed_3c.branch_0.batch3d.running_mean, backbone.depth.mixed_3c.branch_0.batch3d.running_var, backbone.depth.mixed_3c.branch_0.batch3d.num_batches_tracked, backbone.depth.mixed_3c.branch_1.0.conv3d.weight, backbone.depth.mixed_3c.branch_1.0.batch3d.weight, backbone.depth.mixed_3c.branch_1.0.batch3d.bias, backbone.depth.mixed_3c.branch_1.0.batch3d.running_mean, backbone.depth.mixed_3c.branch_1.0.batch3d.running_var, backbone.depth.mixed_3c.branch_1.0.batch3d.num_batches_tracked, backbone.depth.mixed_3c.branch_1.1.conv3d.weight, backbone.depth.mixed_3c.branch_1.1.batch3d.weight, backbone.depth.mixed_3c.branch_1.1.batch3d.bias, backbone.depth.mixed_3c.branch_1.1.batch3d.running_mean, backbone.depth.mixed_3c.branch_1.1.batch3d.running_var, backbone.depth.mixed_3c.branch_1.1.batch3d.num_batches_tracked, backbone.depth.mixed_3c.branch_2.0.conv3d.weight, backbone.depth.mixed_3c.branch_2.0.batch3d.weight, backbone.depth.mixed_3c.branch_2.0.batch3d.bias, backbone.depth.mixed_3c.branch_2.0.batch3d.running_mean, backbone.depth.mixed_3c.branch_2.0.batch3d.running_var, backbone.depth.mixed_3c.branch_2.0.batch3d.num_batches_tracked, backbone.depth.mixed_3c.branch_2.1.conv3d.weight, backbone.depth.mixed_3c.branch_2.1.batch3d.weight, backbone.depth.mixed_3c.branch_2.1.batch3d.bias, backbone.depth.mixed_3c.branch_2.1.batch3d.running_mean, backbone.depth.mixed_3c.branch_2.1.batch3d.running_var, backbone.depth.mixed_3c.branch_2.1.batch3d.num_batches_tracked, backbone.depth.mixed_3c.branch_3.1.conv3d.weight, backbone.depth.mixed_3c.branch_3.1.batch3d.weight, backbone.depth.mixed_3c.branch_3.1.batch3d.bias, backbone.depth.mixed_3c.branch_3.1.batch3d.running_mean, backbone.depth.mixed_3c.branch_3.1.batch3d.running_var, backbone.depth.mixed_3c.branch_3.1.batch3d.num_batches_tracked, backbone.depth.mixed_4b.branch_0.conv3d.weight, backbone.depth.mixed_4b.branch_0.batch3d.weight, backbone.depth.mixed_4b.branch_0.batch3d.bias, backbone.depth.mixed_4b.branch_0.batch3d.running_mean, backbone.depth.mixed_4b.branch_0.batch3d.running_var, backbone.depth.mixed_4b.branch_0.batch3d.num_batches_tracked, backbone.depth.mixed_4b.branch_1.0.conv3d.weight, backbone.depth.mixed_4b.branch_1.0.batch3d.weight, backbone.depth.mixed_4b.branch_1.0.batch3d.bias, backbone.depth.mixed_4b.branch_1.0.batch3d.running_mean, backbone.depth.mixed_4b.branch_1.0.batch3d.running_var, backbone.depth.mixed_4b.branch_1.0.batch3d.num_batches_tracked, backbone.depth.mixed_4b.branch_1.1.conv3d.weight, backbone.depth.mixed_4b.branch_1.1.batch3d.weight, backbone.depth.mixed_4b.branch_1.1.batch3d.bias, backbone.depth.mixed_4b.branch_1.1.batch3d.running_mean, backbone.depth.mixed_4b.branch_1.1.batch3d.running_var, backbone.depth.mixed_4b.branch_1.1.batch3d.num_batches_tracked, backbone.depth.mixed_4b.branch_2.0.conv3d.weight, backbone.depth.mixed_4b.branch_2.0.batch3d.weight, backbone.depth.mixed_4b.branch_2.0.batch3d.bias, backbone.depth.mixed_4b.branch_2.0.batch3d.running_mean, backbone.depth.mixed_4b.branch_2.0.batch3d.running_var, backbone.depth.mixed_4b.branch_2.0.batch3d.num_batches_tracked, backbone.depth.mixed_4b.branch_2.1.conv3d.weight, backbone.depth.mixed_4b.branch_2.1.batch3d.weight, backbone.depth.mixed_4b.branch_2.1.batch3d.bias, backbone.depth.mixed_4b.branch_2.1.batch3d.running_mean, backbone.depth.mixed_4b.branch_2.1.batch3d.running_var, backbone.depth.mixed_4b.branch_2.1.batch3d.num_batches_tracked, backbone.depth.mixed_4b.branch_3.1.conv3d.weight, backbone.depth.mixed_4b.branch_3.1.batch3d.weight, backbone.depth.mixed_4b.branch_3.1.batch3d.bias, backbone.depth.mixed_4b.branch_3.1.batch3d.running_mean, backbone.depth.mixed_4b.branch_3.1.batch3d.running_var, backbone.depth.mixed_4b.branch_3.1.batch3d.num_batches_tracked, backbone.depth.mixed_4c.branch_0.conv3d.weight, backbone.depth.mixed_4c.branch_0.batch3d.weight, backbone.depth.mixed_4c.branch_0.batch3d.bias, backbone.depth.mixed_4c.branch_0.batch3d.running_mean, backbone.depth.mixed_4c.branch_0.batch3d.running_var, backbone.depth.mixed_4c.branch_0.batch3d.num_batches_tracked, backbone.depth.mixed_4c.branch_1.0.conv3d.weight, backbone.depth.mixed_4c.branch_1.0.batch3d.weight, backbone.depth.mixed_4c.branch_1.0.batch3d.bias, backbone.depth.mixed_4c.branch_1.0.batch3d.running_mean, backbone.depth.mixed_4c.branch_1.0.batch3d.running_var, backbone.depth.mixed_4c.branch_1.0.batch3d.num_batches_tracked, backbone.depth.mixed_4c.branch_1.1.conv3d.weight, backbone.depth.mixed_4c.branch_1.1.batch3d.weight, backbone.depth.mixed_4c.branch_1.1.batch3d.bias, backbone.depth.mixed_4c.branch_1.1.batch3d.running_mean, backbone.depth.mixed_4c.branch_1.1.batch3d.running_var, backbone.depth.mixed_4c.branch_1.1.batch3d.num_batches_tracked, backbone.depth.mixed_4c.branch_2.0.conv3d.weight, backbone.depth.mixed_4c.branch_2.0.batch3d.weight, backbone.depth.mixed_4c.branch_2.0.batch3d.bias, backbone.depth.mixed_4c.branch_2.0.batch3d.running_mean, backbone.depth.mixed_4c.branch_2.0.batch3d.running_var, backbone.depth.mixed_4c.branch_2.0.batch3d.num_batches_tracked, backbone.depth.mixed_4c.branch_2.1.conv3d.weight, backbone.depth.mixed_4c.branch_2.1.batch3d.weight, backbone.depth.mixed_4c.branch_2.1.batch3d.bias, backbone.depth.mixed_4c.branch_2.1.batch3d.running_mean, backbone.depth.mixed_4c.branch_2.1.batch3d.running_var, backbone.depth.mixed_4c.branch_2.1.batch3d.num_batches_tracked, backbone.depth.mixed_4c.branch_3.1.conv3d.weight, backbone.depth.mixed_4c.branch_3.1.batch3d.weight, backbone.depth.mixed_4c.branch_3.1.batch3d.bias, backbone.depth.mixed_4c.branch_3.1.batch3d.running_mean, backbone.depth.mixed_4c.branch_3.1.batch3d.running_var, backbone.depth.mixed_4c.branch_3.1.batch3d.num_batches_tracked, backbone.depth.mixed_4d.branch_0.conv3d.weight, backbone.depth.mixed_4d.branch_0.batch3d.weight, backbone.depth.mixed_4d.branch_0.batch3d.bias, backbone.depth.mixed_4d.branch_0.batch3d.running_mean, backbone.depth.mixed_4d.branch_0.batch3d.running_var, backbone.depth.mixed_4d.branch_0.batch3d.num_batches_tracked, backbone.depth.mixed_4d.branch_1.0.conv3d.weight, backbone.depth.mixed_4d.branch_1.0.batch3d.weight, backbone.depth.mixed_4d.branch_1.0.batch3d.bias, backbone.depth.mixed_4d.branch_1.0.batch3d.running_mean, backbone.depth.mixed_4d.branch_1.0.batch3d.running_var, backbone.depth.mixed_4d.branch_1.0.batch3d.num_batches_tracked, backbone.depth.mixed_4d.branch_1.1.conv3d.weight, backbone.depth.mixed_4d.branch_1.1.batch3d.weight, backbone.depth.mixed_4d.branch_1.1.batch3d.bias, backbone.depth.mixed_4d.branch_1.1.batch3d.running_mean, backbone.depth.mixed_4d.branch_1.1.batch3d.running_var, backbone.depth.mixed_4d.branch_1.1.batch3d.num_batches_tracked, backbone.depth.mixed_4d.branch_2.0.conv3d.weight, backbone.depth.mixed_4d.branch_2.0.batch3d.weight, backbone.depth.mixed_4d.branch_2.0.batch3d.bias, backbone.depth.mixed_4d.branch_2.0.batch3d.running_mean, backbone.depth.mixed_4d.branch_2.0.batch3d.running_var, backbone.depth.mixed_4d.branch_2.0.batch3d.num_batches_tracked, backbone.depth.mixed_4d.branch_2.1.conv3d.weight, backbone.depth.mixed_4d.branch_2.1.batch3d.weight, backbone.depth.mixed_4d.branch_2.1.batch3d.bias, backbone.depth.mixed_4d.branch_2.1.batch3d.running_mean, backbone.depth.mixed_4d.branch_2.1.batch3d.running_var, backbone.depth.mixed_4d.branch_2.1.batch3d.num_batches_tracked, backbone.depth.mixed_4d.branch_3.1.conv3d.weight, backbone.depth.mixed_4d.branch_3.1.batch3d.weight, backbone.depth.mixed_4d.branch_3.1.batch3d.bias, backbone.depth.mixed_4d.branch_3.1.batch3d.running_mean, backbone.depth.mixed_4d.branch_3.1.batch3d.running_var, backbone.depth.mixed_4d.branch_3.1.batch3d.num_batches_tracked, backbone.depth.mixed_4e.branch_0.conv3d.weight, backbone.depth.mixed_4e.branch_0.batch3d.weight, backbone.depth.mixed_4e.branch_0.batch3d.bias, backbone.depth.mixed_4e.branch_0.batch3d.running_mean, backbone.depth.mixed_4e.branch_0.batch3d.running_var, backbone.depth.mixed_4e.branch_0.batch3d.num_batches_tracked, backbone.depth.mixed_4e.branch_1.0.conv3d.weight, backbone.depth.mixed_4e.branch_1.0.batch3d.weight, backbone.depth.mixed_4e.branch_1.0.batch3d.bias, backbone.depth.mixed_4e.branch_1.0.batch3d.running_mean, backbone.depth.mixed_4e.branch_1.0.batch3d.running_var, backbone.depth.mixed_4e.branch_1.0.batch3d.num_batches_tracked, backbone.depth.mixed_4e.branch_1.1.conv3d.weight, backbone.depth.mixed_4e.branch_1.1.batch3d.weight, backbone.depth.mixed_4e.branch_1.1.batch3d.bias, backbone.depth.mixed_4e.branch_1.1.batch3d.running_mean, backbone.depth.mixed_4e.branch_1.1.batch3d.running_var, backbone.depth.mixed_4e.branch_1.1.batch3d.num_batches_tracked, backbone.depth.mixed_4e.branch_2.0.conv3d.weight, backbone.depth.mixed_4e.branch_2.0.batch3d.weight, backbone.depth.mixed_4e.branch_2.0.batch3d.bias, backbone.depth.mixed_4e.branch_2.0.batch3d.running_mean, backbone.depth.mixed_4e.branch_2.0.batch3d.running_var, backbone.depth.mixed_4e.branch_2.0.batch3d.num_batches_tracked, backbone.depth.mixed_4e.branch_2.1.conv3d.weight, backbone.depth.mixed_4e.branch_2.1.batch3d.weight, backbone.depth.mixed_4e.branch_2.1.batch3d.bias, backbone.depth.mixed_4e.branch_2.1.batch3d.running_mean, backbone.depth.mixed_4e.branch_2.1.batch3d.running_var, backbone.depth.mixed_4e.branch_2.1.batch3d.num_batches_tracked, backbone.depth.mixed_4e.branch_3.1.conv3d.weight, backbone.depth.mixed_4e.branch_3.1.batch3d.weight, backbone.depth.mixed_4e.branch_3.1.batch3d.bias, backbone.depth.mixed_4e.branch_3.1.batch3d.running_mean, backbone.depth.mixed_4e.branch_3.1.batch3d.running_var, backbone.depth.mixed_4e.branch_3.1.batch3d.num_batches_tracked, backbone.depth.mixed_4f.branch_0.conv3d.weight, backbone.depth.mixed_4f.branch_0.batch3d.weight, backbone.depth.mixed_4f.branch_0.batch3d.bias, backbone.depth.mixed_4f.branch_0.batch3d.running_mean, backbone.depth.mixed_4f.branch_0.batch3d.running_var, backbone.depth.mixed_4f.branch_0.batch3d.num_batches_tracked, backbone.depth.mixed_4f.branch_1.0.conv3d.weight, backbone.depth.mixed_4f.branch_1.0.batch3d.weight, backbone.depth.mixed_4f.branch_1.0.batch3d.bias, backbone.depth.mixed_4f.branch_1.0.batch3d.running_mean, backbone.depth.mixed_4f.branch_1.0.batch3d.running_var, backbone.depth.mixed_4f.branch_1.0.batch3d.num_batches_tracked, backbone.depth.mixed_4f.branch_1.1.conv3d.weight, backbone.depth.mixed_4f.branch_1.1.batch3d.weight, backbone.depth.mixed_4f.branch_1.1.batch3d.bias, backbone.depth.mixed_4f.branch_1.1.batch3d.running_mean, backbone.depth.mixed_4f.branch_1.1.batch3d.running_var, backbone.depth.mixed_4f.branch_1.1.batch3d.num_batches_tracked, backbone.depth.mixed_4f.branch_2.0.conv3d.weight, backbone.depth.mixed_4f.branch_2.0.batch3d.weight, backbone.depth.mixed_4f.branch_2.0.batch3d.bias, backbone.depth.mixed_4f.branch_2.0.batch3d.running_mean, backbone.depth.mixed_4f.branch_2.0.batch3d.running_var, backbone.depth.mixed_4f.branch_2.0.batch3d.num_batches_tracked, backbone.depth.mixed_4f.branch_2.1.conv3d.weight, backbone.depth.mixed_4f.branch_2.1.batch3d.weight, backbone.depth.mixed_4f.branch_2.1.batch3d.bias, backbone.depth.mixed_4f.branch_2.1.batch3d.running_mean, backbone.depth.mixed_4f.branch_2.1.batch3d.running_var, backbone.depth.mixed_4f.branch_2.1.batch3d.num_batches_tracked, backbone.depth.mixed_4f.branch_3.1.conv3d.weight, backbone.depth.mixed_4f.branch_3.1.batch3d.weight, backbone.depth.mixed_4f.branch_3.1.batch3d.bias, backbone.depth.mixed_4f.branch_3.1.batch3d.running_mean, backbone.depth.mixed_4f.branch_3.1.batch3d.running_var, backbone.depth.mixed_4f.branch_3.1.batch3d.num_batches_tracked, backbone.depth.mixed_5b.branch_0.conv3d.weight, backbone.depth.mixed_5b.branch_0.batch3d.weight, backbone.depth.mixed_5b.branch_0.batch3d.bias, backbone.depth.mixed_5b.branch_0.batch3d.running_mean, backbone.depth.mixed_5b.branch_0.batch3d.running_var, backbone.depth.mixed_5b.branch_0.batch3d.num_batches_tracked, backbone.depth.mixed_5b.branch_1.0.conv3d.weight, backbone.depth.mixed_5b.branch_1.0.batch3d.weight, backbone.depth.mixed_5b.branch_1.0.batch3d.bias, backbone.depth.mixed_5b.branch_1.0.batch3d.running_mean, backbone.depth.mixed_5b.branch_1.0.batch3d.running_var, backbone.depth.mixed_5b.branch_1.0.batch3d.num_batches_tracked, backbone.depth.mixed_5b.branch_1.1.conv3d.weight, backbone.depth.mixed_5b.branch_1.1.batch3d.weight, backbone.depth.mixed_5b.branch_1.1.batch3d.bias, backbone.depth.mixed_5b.branch_1.1.batch3d.running_mean, backbone.depth.mixed_5b.branch_1.1.batch3d.running_var, backbone.depth.mixed_5b.branch_1.1.batch3d.num_batches_tracked, backbone.depth.mixed_5b.branch_2.0.conv3d.weight, backbone.depth.mixed_5b.branch_2.0.batch3d.weight, backbone.depth.mixed_5b.branch_2.0.batch3d.bias, backbone.depth.mixed_5b.branch_2.0.batch3d.running_mean, backbone.depth.mixed_5b.branch_2.0.batch3d.running_var, backbone.depth.mixed_5b.branch_2.0.batch3d.num_batches_tracked, backbone.depth.mixed_5b.branch_2.1.conv3d.weight, backbone.depth.mixed_5b.branch_2.1.batch3d.weight, backbone.depth.mixed_5b.branch_2.1.batch3d.bias, backbone.depth.mixed_5b.branch_2.1.batch3d.running_mean, backbone.depth.mixed_5b.branch_2.1.batch3d.running_var, backbone.depth.mixed_5b.branch_2.1.batch3d.num_batches_tracked, backbone.depth.mixed_5b.branch_3.1.conv3d.weight, backbone.depth.mixed_5b.branch_3.1.batch3d.weight, backbone.depth.mixed_5b.branch_3.1.batch3d.bias, backbone.depth.mixed_5b.branch_3.1.batch3d.running_mean, backbone.depth.mixed_5b.branch_3.1.batch3d.running_var, backbone.depth.mixed_5b.branch_3.1.batch3d.num_batches_tracked, backbone.depth.mixed_5c.branch_0.conv3d.weight, backbone.depth.mixed_5c.branch_0.batch3d.weight, backbone.depth.mixed_5c.branch_0.batch3d.bias, backbone.depth.mixed_5c.branch_0.batch3d.running_mean, backbone.depth.mixed_5c.branch_0.batch3d.running_var, backbone.depth.mixed_5c.branch_0.batch3d.num_batches_tracked, backbone.depth.mixed_5c.branch_1.0.conv3d.weight, backbone.depth.mixed_5c.branch_1.0.batch3d.weight, backbone.depth.mixed_5c.branch_1.0.batch3d.bias, backbone.depth.mixed_5c.branch_1.0.batch3d.running_mean, backbone.depth.mixed_5c.branch_1.0.batch3d.running_var, backbone.depth.mixed_5c.branch_1.0.batch3d.num_batches_tracked, backbone.depth.mixed_5c.branch_1.1.conv3d.weight, backbone.depth.mixed_5c.branch_1.1.batch3d.weight, backbone.depth.mixed_5c.branch_1.1.batch3d.bias, backbone.depth.mixed_5c.branch_1.1.batch3d.running_mean, backbone.depth.mixed_5c.branch_1.1.batch3d.running_var, backbone.depth.mixed_5c.branch_1.1.batch3d.num_batches_tracked, backbone.depth.mixed_5c.branch_2.0.conv3d.weight, backbone.depth.mixed_5c.branch_2.0.batch3d.weight, backbone.depth.mixed_5c.branch_2.0.batch3d.bias, backbone.depth.mixed_5c.branch_2.0.batch3d.running_mean, backbone.depth.mixed_5c.branch_2.0.batch3d.running_var, backbone.depth.mixed_5c.branch_2.0.batch3d.num_batches_tracked, backbone.depth.mixed_5c.branch_2.1.conv3d.weight, backbone.depth.mixed_5c.branch_2.1.batch3d.weight, backbone.depth.mixed_5c.branch_2.1.batch3d.bias, backbone.depth.mixed_5c.branch_2.1.batch3d.running_mean, backbone.depth.mixed_5c.branch_2.1.batch3d.running_var, backbone.depth.mixed_5c.branch_2.1.batch3d.num_batches_tracked, backbone.depth.mixed_5c.branch_3.1.conv3d.weight, backbone.depth.mixed_5c.branch_3.1.batch3d.weight, backbone.depth.mixed_5c.branch_3.1.batch3d.bias, backbone.depth.mixed_5c.branch_3.1.batch3d.running_mean, backbone.depth.mixed_5c.branch_3.1.batch3d.running_var, backbone.depth.mixed_5c.branch_3.1.batch3d.num_batches_tracked, cls_head.output_conv.depth.weight, cls_head.output_conv.depth.bias\n",
      "\n"
     ]
    },
    {
     "name": "stdout",
     "output_type": "stream",
     "text": [
      "2022-06-22 09:51:29.266 python[47825:13745088] WARNING: NSWindow drag regions should only be invalidated on the Main Thread! This will throw an exception in the future. Called from (\n",
      "\t0   AppKit                              0x00007ff8166d4313 -[NSWindow(NSWindow_Theme) _postWindowNeedsToResetDragMarginsUnlessPostingDisabled] + 352\n",
      "\t1   AppKit                              0x00007ff8166c02a4 -[NSWindow _initContent:styleMask:backing:defer:contentView:] + 1288\n",
      "\t2   AppKit                              0x00007ff816868fd1 -[NSPanel _initContent:styleMask:backing:defer:contentView:] + 50\n",
      "\t3   AppKit                              0x00007ff8166bfd96 -[NSWindow initWithContentRect:styleMask:backing:defer:] + 42\n",
      "\t4   AppKit                              0x00007ff816868f8a -[NSPanel initWithContentRect:styleMask:backing:defer:] + 59\n",
      "\t5   AppKit                              0x00007ff8166be4d6 -[NSWindowTemplate nibInstantiate] + 354\n",
      "\t6   AppKit                              0x00007ff81668b3cd -[NSIBObjectData instantiateObject:] + 222\n",
      "\t7   AppKit                              0x00007ff81668ab3c -[NSIBObjectData nibInstantiateWithOwner:options:topLevelObjects:] + 476\n",
      "\t8   AppKit                              0x00007ff81667f76d loadNib + 420\n",
      "\t9   AppKit                              0x00007ff81667ec80 +[NSBundle(NSNibLoading) _loadNibFile:nameTable:options:withZone:ownerBundle:] + 788\n",
      "\t10  AppKit                              0x00007ff81667e877 -[NSBundle(NSNibLoading) loadNibNamed:owner:topLevelObjects:] + 201\n",
      "\t11  AppKit                              0x00007ff8169e5c33 -[NSAlert init] + 137\n",
      "\t12  ReincubateCamoDAL                   0x0000000160b647c7 $s17ReincubateCamoDAL6StreamC18openStudioIfNeeded33_D313D08B4F6F2D5405564E4D0C906409LLyyFTf4d_n + 1831\n",
      "\t13  ReincubateCamoDAL                   0x0000000160b62932 $s17ReincubateCamoDAL6StreamC5startyyF + 18\n",
      "\t14  ReincubateCamoDAL                   0x0000000160b5295b $s17ReincubateCamoDAL17DeviceStartStream33_A1BDB24F12326934D385418AEFBBF257LL6plugin8deviceID06streamN0s5Int32VSpySpySo27CMIOHardwarePlugInInterfaceVGSgGSg_s6UInt32VAPtFTf4ddn_nTm + 235\n",
      "\t15  ReincubateCamoDAL                   0x0000000160b51cbe $s17ReincubateCamoDAL17DeviceStartStream33_A1BDB24F12326934D385418AEFBBF257LL6plugin8deviceID06streamN0s5Int32VSpySpySo27CMIOHardwarePlugInInterfaceVGSgGSg_s6UInt32VAPtFTo + 30\n",
      "\t16  CoreMediaIO                         0x00007ff8218cb818 _ZN4CMIO3DAL6PlugIn17DeviceStartStreamERKNS0_6ObjectEj + 28\n",
      "\t17  CoreMediaIO                         0x00007ff8218c912a _ZN4CMIO3DAL6Device11StartStreamEj + 270\n",
      "\t18  CoreMediaIO                         0x00007ff82191224e CMIODeviceStartStream + 276\n",
      "\t19  CMIOBaseUnits                       0x0000000161c2c4ab CMIOUnitVideoToolboxCompressorEntry + 56171\n",
      "\t20  CMIOBaseUnits                       0x0000000161c2dbbb CMIOUnitVideoToolboxCompressorEntry + 62075\n",
      "\t21  CMIOBaseUnits                       0x0000000161c2d85a CMIOUnitVideoToolboxCompressorEntry + 61210\n",
      "\t22  CMIOBaseUnits                       0x0000000161be4959 CMIOUnitInputFromProcsEntry + 3721\n",
      "\t23  CMIOBaseUnits                       0x0000000161bc5ef9 CMIOUnitFanOutEntry + 4761\n",
      "\t24  CoreMediaIO                         0x00007ff8218e8697 _ZN9CMIOGraph5StartEv + 3411\n",
      "\t25  AVFCapture                          0x00007ff82da32406 -[AVCaptureSession_Tundra _buildAndRunGraph] + 2205\n",
      "\t26  AVFCapture                          0x00007ff82da33913 -[AVCaptureSession_Tundra _setRunning:] + 456\n",
      "\t27  AVFCapture                          0x00007ff82da33460 -[AVCaptureSession_Tundra startRunning] + 180\n",
      "\t28  cv2.cpython-37m-darwin.so           0x0000000136c401d9 _ZN12CvCaptureCAM18startCaptureDeviceEi + 1353\n",
      "\t29  cv2.cpython-37m-darwin.so           0x0000000136c3faae _ZN2cv31create_AVFoundation_capture_camEi + 110\n",
      "\t30  cv2.cpython-37m-darwin.so           0x0000000136c2a23d _ZNK2cv13StaticBackend13createCaptureEiRKNS_22VideoCaptureParametersE + 29\n",
      "\t31  cv2.cpython-37m-darwin.so           0x0000000136c1127d _ZN2cv12VideoCapture4openEiiRKNSt3__16vectorIiNS1_9allocatorIiEEEE + 1389\n",
      "\t32  cv2.cpython-37m-darwin.so           0x0000000136c10cd2 _ZN2cv12VideoCapture4openEii + 34\n",
      "\t33  cv2.cpython-37m-darwin.so           0x0000000136c0ee53 _ZN2cv12VideoCaptureC2Eii + 99\n",
      "\t34  cv2.cpython-37m-darwin.so           0x0000000135f6d522 _ZL37pyopencv_cv_VideoCapture_VideoCaptureP23pyopencv_VideoCapture_tP7_objectS2_ + 1666\n",
      "\t35  python3.7                           0x000000010be0d976 type_call + 246\n",
      "\t36  python3.7                           0x000000010bd84cdf _PyObject_FastCallKeywords + 175\n",
      "\t37  python3.7                           0x000000010bebd907 call_function + 455\n",
      "\t38  python3.7                           0x000000010beb5344 _PyEval_EvalFrameDefault + 20180\n",
      "\t39  python3.7                           0x000000010bd836ca _PyFunction_FastCallDict + 234\n",
      "\t40  python3.7                           0x000000010bd87d7a method_call + 122\n",
      "\t41  python3.7                           0x000000010bd85b1f PyObject_Call + 127\n",
      "\t42  python3.7                           0x000000010beb5c77 _PyEval_EvalFrameDefault + 22535\n",
      "\t43  python3.7                           0x000000010bd851e2 _PyFunction_FastCallKeywords + 226\n",
      "\t44  python3.7                           0x000000010bebd7f7 call_function + 183\n",
      "\t45  python3.7                           0x000000010beb52bb _PyEval_EvalFrameDefault + 20043\n",
      "\t46  python3.7                           0x000000010bd851e2 _PyFunction_FastCallKeywords + 226\n",
      "\t47  python3.7                           0x000000010bebd7f7 call_function + 183\n",
      "\t48  python3.7                           0x000000010beb52bb _PyEval_EvalFrameDefault + 20043\n",
      "\t49  python3.7                           0x000000010bd836ca _PyFunction_FastCallDict + 234\n",
      "\t50  python3.7                           0x000000010bd87d7a method_call + 122\n",
      "\t51  python3.7                           0x000000010bd85b1f PyObject_Call + 127\n",
      "\t52  python3.7                           0x000000010bfa9e2a t_bootstrap + 122\n",
      "\t53  python3.7                           0x000000010bf2e674 pythread_wrapper + 36\n",
      "\t54  libsystem_pthread.dylib             0x00007ff813ba84e1 _pthread_start + 125\n",
      "\t55  libsystem_pthread.dylib             0x00007ff813ba3f6b thread_start + 15\n",
      ")\n",
      "2022-06-22 09:51:29.288 python[47825:13745088] -[NSAlert runModal] may only be invoked from the main thread. Behavior on other threads is undefined. (\n",
      "\t0   AppKit                              0x00007ff8169e6548 -[NSAlert runModal] + 175\n",
      "\t1   ReincubateCamoDAL                   0x0000000160b64a61 $s17ReincubateCamoDAL6StreamC18openStudioIfNeeded33_D313D08B4F6F2D5405564E4D0C906409LLyyFTf4d_n + 2497\n",
      "\t2   ReincubateCamoDAL                   0x0000000160b62932 $s17ReincubateCamoDAL6StreamC5startyyF + 18\n",
      "\t3   ReincubateCamoDAL                   0x0000000160b5295b $s17ReincubateCamoDAL17DeviceStartStream33_A1BDB24F12326934D385418AEFBBF257LL6plugin8deviceID06streamN0s5Int32VSpySpySo27CMIOHardwarePlugInInterfaceVGSgGSg_s6UInt32VAPtFTf4ddn_nTm + 235\n",
      "\t4   ReincubateCamoDAL                   0x0000000160b51cbe $s17ReincubateCamoDAL17DeviceStartStream33_A1BDB24F12326934D385418AEFBBF257LL6plugin8deviceID06streamN0s5Int32VSpySpySo27CMIOHardwarePlugInInterfaceVGSgGSg_s6UInt32VAPtFTo + 30\n",
      "\t5   CoreMediaIO                         0x00007ff8218cb818 _ZN4CMIO3DAL6PlugIn17DeviceStartStreamERKNS0_6ObjectEj + 28\n",
      "\t6   CoreMediaIO                         0x00007ff8218c912a _ZN4CMIO3DAL6Device11StartStreamEj + 270\n",
      "\t7   CoreMediaIO                         0x00007ff82191224e CMIODeviceStartStream + 276\n",
      "\t8   CMIOBaseUnits                       0x0000000161c2c4ab CMIOUnitVideoToolboxCompressorEntry + 56171\n",
      "\t9   CMIOBaseUnits                       0x0000000161c2dbbb CMIOUnitVideoToolboxCompressorEntry + 62075\n",
      "\t10  CMIOBaseUnits                       0x0000000161c2d85a CMIOUnitVideoToolboxCompressorEntry + 61210\n",
      "\t11  CMIOBaseUnits                       0x0000000161be4959 CMIOUnitInputFromProcsEntry + 3721\n",
      "\t12  CMIOBaseUnits                       0x0000000161bc5ef9 CMIOUnitFanOutEntry + 4761\n",
      "\t13  CoreMediaIO                         0x00007ff8218e8697 _ZN9CMIOGraph5StartEv + 3411\n",
      "\t14  AVFCapture                          0x00007ff82da32406 -[AVCaptureSession_Tundra _buildAndRunGraph] + 2205\n",
      "\t15  AVFCapture                          0x00007ff82da33913 -[AVCaptureSession_Tundra _setRunning:] + 456\n",
      "\t16  AVFCapture                          0x00007ff82da33460 -[AVCaptureSession_Tundra startRunning] + 180\n",
      "\t17  cv2.cpython-37m-darwin.so           0x0000000136c401d9 _ZN12CvCaptureCAM18startCaptureDeviceEi + 1353\n",
      "\t18  cv2.cpython-37m-darwin.so           0x0000000136c3faae _ZN2cv31create_AVFoundation_capture_camEi + 110\n",
      "\t19  cv2.cpython-37m-darwin.so           0x0000000136c2a23d _ZNK2cv13StaticBackend13createCaptureEiRKNS_22VideoCaptureParametersE + 29\n",
      "\t20  cv2.cpython-37m-darwin.so           0x0000000136c1127d _ZN2cv12VideoCapture4openEiiRKNSt3__16vectorIiNS1_9allocatorIiEEEE + 1389\n",
      "\t21  cv2.cpython-37m-darwin.so           0x0000000136c10cd2 _ZN2cv12VideoCapture4openEii + 34\n",
      "\t22  cv2.cpython-37m-darwin.so           0x0000000136c0ee53 _ZN2cv12VideoCaptureC2Eii + 99\n",
      "\t23  cv2.cpython-37m-darwin.so           0x0000000135f6d522 _ZL37pyopencv_cv_VideoCapture_VideoCaptureP23pyopencv_VideoCapture_tP7_objectS2_ + 1666\n",
      "\t24  python3.7                           0x000000010be0d976 type_call + 246\n",
      "\t25  python3.7                           0x000000010bd84cdf _PyObject_FastCallKeywords + 175\n",
      "\t26  python3.7                           0x000000010bebd907 call_function + 455\n",
      "\t27  python3.7                           0x000000010beb5344 _PyEval_EvalFrameDefault + 20180\n",
      "\t28  python3.7                           0x000000010bd836ca _PyFunction_FastCallDict + 234\n",
      "\t29  python3.7                           0x000000010bd87d7a method_call + 122\n",
      "\t30  python3.7                           0x000000010bd85b1f PyObject_Call + 127\n",
      "\t31  python3.7                           0x000000010beb5c77 _PyEval_EvalFrameDefault + 22535\n",
      "\t32  python3.7                           0x000000010bd851e2 _PyFunction_FastCallKeywords + 226\n",
      "\t33  python3.7                           0x000000010bebd7f7 call_function + 183\n",
      "\t34  python3.7                           0x000000010beb52bb _PyEval_EvalFrameDefault + 20043\n",
      "\t35  python3.7                           0x000000010bd851e2 _PyFunction_FastCallKeywords + 226\n",
      "\t36  python3.7                           0x000000010bebd7f7 call_function + 183\n",
      "\t37  python3.7                           0x000000010beb52bb _PyEval_EvalFrameDefault + 20043\n",
      "\t38  python3.7                           0x000000010bd836ca _PyFunction_FastCallDict + 234\n",
      "\t39  python3.7                           0x000000010bd87d7a method_call + 122\n",
      "\t40  python3.7                           0x000000010bd85b1f PyObject_Call + 127\n",
      "\t41  python3.7                           0x000000010bfa9e2a t_bootstrap + 122\n",
      "\t42  python3.7                           0x000000010bf2e674 pythread_wrapper + 36\n",
      "\t43  libsystem_pthread.dylib             0x00007ff813ba84e1 _pthread_start + 125\n",
      "\t44  libsystem_pthread.dylib             0x00007ff813ba3f6b thread_start + 15\n",
      ")\n",
      "Assertion failed: ([NSThread isMainThread]), function _NSAsynchronousPreparationAssertMainThread, file NSAsynchronousPreparation.m, line 16.\n"
     ]
    }
   ],
   "source": [
    "!python demo/webcam_demo.py --config demo/webcam_cfg/gesture_recognition.py"
   ]
  },
  {
   "cell_type": "code",
   "execution_count": null,
   "id": "39ee5de9",
   "metadata": {},
   "outputs": [],
   "source": []
  }
 ],
 "metadata": {
  "kernelspec": {
   "display_name": "Python 3 (ipykernel)",
   "language": "python",
   "name": "python3"
  },
  "language_info": {
   "codemirror_mode": {
    "name": "ipython",
    "version": 3
   },
   "file_extension": ".py",
   "mimetype": "text/x-python",
   "name": "python",
   "nbconvert_exporter": "python",
   "pygments_lexer": "ipython3",
   "version": "3.7.12"
  }
 },
 "nbformat": 4,
 "nbformat_minor": 5
}
