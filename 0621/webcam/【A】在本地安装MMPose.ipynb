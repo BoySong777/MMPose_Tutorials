{
 "cells": [
  {
   "cell_type": "markdown",
   "id": "a1cae7fa",
   "metadata": {},
   "source": [
    "# 在本地安装 MMPose 环境\n",
    "\n",
    "本教程以 Macbook Pro 为例\n",
    "\n",
    "同济子豪兄 2022-6-21"
   ]
  },
  {
   "cell_type": "markdown",
   "id": "681f110d",
   "metadata": {},
   "source": [
    "## 安装 mmcv"
   ]
  },
  {
   "cell_type": "markdown",
   "id": "6efe947e",
   "metadata": {},
   "source": [
    "在 mac 上安装 mmcv -full：https://openmmlab.feishu.cn/docs/doccnJd89XfYFB9Q3x8oJFGYG2b"
   ]
  },
  {
   "cell_type": "markdown",
   "id": "1d7679a1",
   "metadata": {},
   "source": [
    "## 进入openmmlab虚拟环境（如有）"
   ]
  },
  {
   "cell_type": "code",
   "execution_count": null,
   "id": "96fca4b9",
   "metadata": {},
   "outputs": [],
   "source": [
    "!conda activate open-mmlab"
   ]
  },
  {
   "cell_type": "markdown",
   "id": "b770e0f3",
   "metadata": {},
   "source": [
    "## 安装mmpose"
   ]
  },
  {
   "cell_type": "code",
   "execution_count": 2,
   "id": "960f9f32",
   "metadata": {},
   "outputs": [
    {
     "name": "stderr",
     "output_type": "stream",
     "text": [
      "/Users/tommy/opt/anaconda3/envs/open-mmlab/lib/python3.7/site-packages/tqdm/auto.py:22: TqdmWarning: IProgress not found. Please update jupyter and ipywidgets. See https://ipywidgets.readthedocs.io/en/stable/user_install.html\n",
      "  from .autonotebook import tqdm as notebook_tqdm\n"
     ]
    }
   ],
   "source": [
    "import os\n",
    "import mmcv"
   ]
  },
  {
   "cell_type": "markdown",
   "id": "9a2d97ba",
   "metadata": {},
   "source": [
    "## 从Github下载最新版 mmpose"
   ]
  },
  {
   "cell_type": "code",
   "execution_count": 4,
   "id": "49c29691",
   "metadata": {},
   "outputs": [
    {
     "name": "stdout",
     "output_type": "stream",
     "text": [
      "Cloning into 'mmpose'...\n",
      "remote: Enumerating objects: 19101, done.\u001b[K\n",
      "remote: Counting objects: 100% (177/177), done.\u001b[K\n",
      "remote: Compressing objects: 100% (129/129), done.\u001b[K\n",
      "remote: Total 19101 (delta 71), reused 133 (delta 48), pack-reused 18924\u001b[K\n",
      "Receiving objects: 100% (19101/19101), 24.81 MiB | 11.24 MiB/s, done.\n",
      "Resolving deltas: 100% (13539/13539), done.\n"
     ]
    }
   ],
   "source": [
    "!git clone https://github.com/open-mmlab/mmpose.git"
   ]
  },
  {
   "cell_type": "code",
   "execution_count": 3,
   "id": "2059e6ed",
   "metadata": {},
   "outputs": [],
   "source": [
    "# 进入 mmpose 目录\n",
    "os.chdir('mmpose')"
   ]
  },
  {
   "cell_type": "code",
   "execution_count": 4,
   "id": "ff0dc2f7",
   "metadata": {},
   "outputs": [
    {
     "name": "stdout",
     "output_type": "stream",
     "text": [
      "Looking in indexes: https://mirrors.aliyun.com/pypi/simple/\n",
      "Ignoring dataclasses: markers 'python_version == \"3.6\"' don't match your environment\n",
      "Collecting poseval@ git+https://github.com/svenkreiss/poseval.git\n",
      "  Cloning https://github.com/svenkreiss/poseval.git to /private/var/folders/ly/mdyk3b_d1r39hm00y4s1yk1m0000gn/T/pip-install-nm9ac303/poseval_df1b78d4557e48eab6e301238b0884c7\n",
      "  Running command git clone --filter=blob:none -q https://github.com/svenkreiss/poseval.git /private/var/folders/ly/mdyk3b_d1r39hm00y4s1yk1m0000gn/T/pip-install-nm9ac303/poseval_df1b78d4557e48eab6e301238b0884c7\n",
      "  fatal: unable to access 'https://github.com/svenkreiss/poseval.git/': Failed to connect to github.com port 443 after 75021 ms: Operation timed out\n",
      "\u001b[33mWARNING: Discarding git+https://github.com/svenkreiss/poseval.git. Command errored out with exit status 128: git clone --filter=blob:none -q https://github.com/svenkreiss/poseval.git /private/var/folders/ly/mdyk3b_d1r39hm00y4s1yk1m0000gn/T/pip-install-nm9ac303/poseval_df1b78d4557e48eab6e301238b0884c7 Check the logs for full command output.\u001b[0m\n",
      "Requirement already satisfied: numpy in /Users/tommy/opt/anaconda3/envs/open-mmlab/lib/python3.7/site-packages (from -r requirements/build.txt (line 2)) (1.21.6)\n",
      "Requirement already satisfied: torch>=1.3 in /Users/tommy/opt/anaconda3/envs/open-mmlab/lib/python3.7/site-packages (from -r requirements/build.txt (line 3)) (1.10.0)\n",
      "Requirement already satisfied: chumpy in /Users/tommy/opt/anaconda3/envs/open-mmlab/lib/python3.7/site-packages (from -r requirements/runtime.txt (line 1)) (0.70)\n",
      "Requirement already satisfied: json_tricks in /Users/tommy/opt/anaconda3/envs/open-mmlab/lib/python3.7/site-packages (from -r requirements/runtime.txt (line 3)) (3.15.5)\n",
      "Requirement already satisfied: matplotlib in /Users/tommy/opt/anaconda3/envs/open-mmlab/lib/python3.7/site-packages (from -r requirements/runtime.txt (line 4)) (3.5.0)\n",
      "Requirement already satisfied: munkres in /Users/tommy/opt/anaconda3/envs/open-mmlab/lib/python3.7/site-packages (from -r requirements/runtime.txt (line 5)) (1.1.4)\n",
      "Requirement already satisfied: opencv-python in /Users/tommy/opt/anaconda3/envs/open-mmlab/lib/python3.7/site-packages (from -r requirements/runtime.txt (line 7)) (4.5.4.60)\n",
      "Requirement already satisfied: pillow in /Users/tommy/opt/anaconda3/envs/open-mmlab/lib/python3.7/site-packages (from -r requirements/runtime.txt (line 8)) (8.4.0)\n",
      "Requirement already satisfied: scipy in /Users/tommy/opt/anaconda3/envs/open-mmlab/lib/python3.7/site-packages (from -r requirements/runtime.txt (line 9)) (1.7.3)\n",
      "Requirement already satisfied: torchvision in /Users/tommy/opt/anaconda3/envs/open-mmlab/lib/python3.7/site-packages (from -r requirements/runtime.txt (line 10)) (0.11.1)\n",
      "Requirement already satisfied: xtcocotools>=1.12 in /Users/tommy/opt/anaconda3/envs/open-mmlab/lib/python3.7/site-packages (from -r requirements/runtime.txt (line 11)) (1.12)\n",
      "Requirement already satisfied: coverage in /Users/tommy/opt/anaconda3/envs/open-mmlab/lib/python3.7/site-packages (from -r requirements/tests.txt (line 1)) (6.2)\n",
      "Requirement already satisfied: flake8 in /Users/tommy/opt/anaconda3/envs/open-mmlab/lib/python3.7/site-packages (from -r requirements/tests.txt (line 2)) (4.0.1)\n",
      "Requirement already satisfied: interrogate in /Users/tommy/opt/anaconda3/envs/open-mmlab/lib/python3.7/site-packages (from -r requirements/tests.txt (line 3)) (1.5.0)\n",
      "Requirement already satisfied: isort==4.3.21 in /Users/tommy/opt/anaconda3/envs/open-mmlab/lib/python3.7/site-packages (from -r requirements/tests.txt (line 4)) (4.3.21)\n",
      "Requirement already satisfied: pytest in /Users/tommy/opt/anaconda3/envs/open-mmlab/lib/python3.7/site-packages (from -r requirements/tests.txt (line 5)) (6.2.5)\n",
      "Requirement already satisfied: pytest-runner in /Users/tommy/opt/anaconda3/envs/open-mmlab/lib/python3.7/site-packages (from -r requirements/tests.txt (line 6)) (5.3.1)\n",
      "Requirement already satisfied: smplx>=0.1.28 in /Users/tommy/opt/anaconda3/envs/open-mmlab/lib/python3.7/site-packages (from -r requirements/tests.txt (line 7)) (0.1.28)\n",
      "Requirement already satisfied: xdoctest>=0.10.0 in /Users/tommy/opt/anaconda3/envs/open-mmlab/lib/python3.7/site-packages (from -r requirements/tests.txt (line 8)) (0.15.10)\n",
      "Requirement already satisfied: yapf in /Users/tommy/opt/anaconda3/envs/open-mmlab/lib/python3.7/site-packages (from -r requirements/tests.txt (line 9)) (0.31.0)\n",
      "Requirement already satisfied: albumentations>=0.3.2 in /Users/tommy/opt/anaconda3/envs/open-mmlab/lib/python3.7/site-packages (from -r requirements/optional.txt (line 1)) (1.1.0)\n",
      "Requirement already satisfied: onnx in /Users/tommy/opt/anaconda3/envs/open-mmlab/lib/python3.7/site-packages (from -r requirements/optional.txt (line 2)) (1.11.0)\n",
      "Requirement already satisfied: onnxruntime in /Users/tommy/opt/anaconda3/envs/open-mmlab/lib/python3.7/site-packages (from -r requirements/optional.txt (line 3)) (1.11.1)\n",
      "\u001b[31mERROR: Could not find a version that satisfies the requirement poseval (unavailable) (from versions: none)\u001b[0m\n",
      "\u001b[31mERROR: No matching distribution found for poseval (unavailable)\u001b[0m\n"
     ]
    }
   ],
   "source": [
    "!pip install -r requirements.txt"
   ]
  },
  {
   "cell_type": "code",
   "execution_count": 9,
   "id": "f92cdc54",
   "metadata": {},
   "outputs": [
    {
     "name": "stdout",
     "output_type": "stream",
     "text": [
      "Looking in indexes: https://mirrors.aliyun.com/pypi/simple/\n",
      "Obtaining file:///Users/tommy/Desktop/%E4%B8%8A%E6%B5%B7%E4%BA%BA%E5%B7%A5%E6%99%BA%E8%83%BD%E5%AE%9E%E9%AA%8C%E5%AE%A4/mmpose/mmpose\n",
      "  Preparing metadata (setup.py) ... \u001b[?25ldone\n",
      "\u001b[?25hRequirement already satisfied: chumpy in /Users/tommy/opt/anaconda3/envs/open-mmlab/lib/python3.7/site-packages (from mmpose==0.27.0) (0.70)\n",
      "Requirement already satisfied: json_tricks in /Users/tommy/opt/anaconda3/envs/open-mmlab/lib/python3.7/site-packages (from mmpose==0.27.0) (3.15.5)\n",
      "Requirement already satisfied: matplotlib in /Users/tommy/opt/anaconda3/envs/open-mmlab/lib/python3.7/site-packages (from mmpose==0.27.0) (3.5.0)\n",
      "Requirement already satisfied: munkres in /Users/tommy/opt/anaconda3/envs/open-mmlab/lib/python3.7/site-packages (from mmpose==0.27.0) (1.1.4)\n",
      "Requirement already satisfied: numpy in /Users/tommy/opt/anaconda3/envs/open-mmlab/lib/python3.7/site-packages (from mmpose==0.27.0) (1.21.6)\n",
      "Requirement already satisfied: opencv-python in /Users/tommy/opt/anaconda3/envs/open-mmlab/lib/python3.7/site-packages (from mmpose==0.27.0) (4.5.4.60)\n",
      "Requirement already satisfied: pillow in /Users/tommy/opt/anaconda3/envs/open-mmlab/lib/python3.7/site-packages (from mmpose==0.27.0) (8.4.0)\n",
      "Requirement already satisfied: scipy in /Users/tommy/opt/anaconda3/envs/open-mmlab/lib/python3.7/site-packages (from mmpose==0.27.0) (1.7.3)\n",
      "Requirement already satisfied: torchvision in /Users/tommy/opt/anaconda3/envs/open-mmlab/lib/python3.7/site-packages (from mmpose==0.27.0) (0.11.1)\n",
      "Requirement already satisfied: xtcocotools>=1.12 in /Users/tommy/opt/anaconda3/envs/open-mmlab/lib/python3.7/site-packages (from mmpose==0.27.0) (1.12)\n",
      "Requirement already satisfied: cython>=0.27.3 in /Users/tommy/opt/anaconda3/envs/open-mmlab/lib/python3.7/site-packages (from xtcocotools>=1.12->mmpose==0.27.0) (0.29.25)\n",
      "Requirement already satisfied: setuptools>=18.0 in /Users/tommy/opt/anaconda3/envs/open-mmlab/lib/python3.7/site-packages (from xtcocotools>=1.12->mmpose==0.27.0) (59.4.0)\n",
      "Requirement already satisfied: packaging>=20.0 in /Users/tommy/opt/anaconda3/envs/open-mmlab/lib/python3.7/site-packages (from matplotlib->mmpose==0.27.0) (21.3)\n",
      "Requirement already satisfied: setuptools-scm>=4 in /Users/tommy/opt/anaconda3/envs/open-mmlab/lib/python3.7/site-packages (from matplotlib->mmpose==0.27.0) (6.3.2)\n",
      "Requirement already satisfied: pyparsing>=2.2.1 in /Users/tommy/opt/anaconda3/envs/open-mmlab/lib/python3.7/site-packages (from matplotlib->mmpose==0.27.0) (3.0.6)\n",
      "Requirement already satisfied: fonttools>=4.22.0 in /Users/tommy/opt/anaconda3/envs/open-mmlab/lib/python3.7/site-packages (from matplotlib->mmpose==0.27.0) (4.28.3)\n",
      "Requirement already satisfied: kiwisolver>=1.0.1 in /Users/tommy/opt/anaconda3/envs/open-mmlab/lib/python3.7/site-packages (from matplotlib->mmpose==0.27.0) (1.3.2)\n",
      "Requirement already satisfied: python-dateutil>=2.7 in /Users/tommy/opt/anaconda3/envs/open-mmlab/lib/python3.7/site-packages (from matplotlib->mmpose==0.27.0) (2.8.2)\n",
      "Requirement already satisfied: cycler>=0.10 in /Users/tommy/opt/anaconda3/envs/open-mmlab/lib/python3.7/site-packages (from matplotlib->mmpose==0.27.0) (0.11.0)\n",
      "Requirement already satisfied: six>=1.11.0 in /Users/tommy/opt/anaconda3/envs/open-mmlab/lib/python3.7/site-packages (from chumpy->mmpose==0.27.0) (1.16.0)\n",
      "Requirement already satisfied: torch in /Users/tommy/opt/anaconda3/envs/open-mmlab/lib/python3.7/site-packages (from torchvision->mmpose==0.27.0) (1.10.0)\n",
      "Requirement already satisfied: tomli>=1.0.0 in /Users/tommy/opt/anaconda3/envs/open-mmlab/lib/python3.7/site-packages (from setuptools-scm>=4->matplotlib->mmpose==0.27.0) (1.2.2)\n",
      "Requirement already satisfied: typing_extensions in /Users/tommy/opt/anaconda3/envs/open-mmlab/lib/python3.7/site-packages (from torch->torchvision->mmpose==0.27.0) (4.0.1)\n",
      "Installing collected packages: mmpose\n",
      "  Attempting uninstall: mmpose\n",
      "    Found existing installation: mmpose 0.27.0\n",
      "    Uninstalling mmpose-0.27.0:\n",
      "      Successfully uninstalled mmpose-0.27.0\n",
      "  Running setup.py develop for mmpose\n",
      "Successfully installed mmpose-0.27.0\n"
     ]
    }
   ],
   "source": [
    "# Mac电脑\n",
    "!CC=clang CXX=clang++ CFLAGS='-stdlib=libc++' pip install -e ."
   ]
  },
  {
   "cell_type": "code",
   "execution_count": 10,
   "id": "b26657f6",
   "metadata": {},
   "outputs": [
    {
     "name": "stdout",
     "output_type": "stream",
     "text": [
      "Using pip 21.3.1 from /Users/tommy/opt/anaconda3/envs/open-mmlab/lib/python3.7/site-packages/pip (python 3.7)\n",
      "Looking in indexes: https://mirrors.aliyun.com/pypi/simple/\n",
      "Obtaining file:///Users/tommy/Desktop/%E4%B8%8A%E6%B5%B7%E4%BA%BA%E5%B7%A5%E6%99%BA%E8%83%BD%E5%AE%9E%E9%AA%8C%E5%AE%A4/mmpose/mmpose\n",
      "  Running command python setup.py egg_info\n",
      "  running egg_info\n",
      "  creating /private/var/folders/ly/mdyk3b_d1r39hm00y4s1yk1m0000gn/T/pip-pip-egg-info-qmikym6r/mmpose.egg-info\n",
      "  writing /private/var/folders/ly/mdyk3b_d1r39hm00y4s1yk1m0000gn/T/pip-pip-egg-info-qmikym6r/mmpose.egg-info/PKG-INFO\n",
      "  writing dependency_links to /private/var/folders/ly/mdyk3b_d1r39hm00y4s1yk1m0000gn/T/pip-pip-egg-info-qmikym6r/mmpose.egg-info/dependency_links.txt\n",
      "  writing requirements to /private/var/folders/ly/mdyk3b_d1r39hm00y4s1yk1m0000gn/T/pip-pip-egg-info-qmikym6r/mmpose.egg-info/requires.txt\n",
      "  writing top-level names to /private/var/folders/ly/mdyk3b_d1r39hm00y4s1yk1m0000gn/T/pip-pip-egg-info-qmikym6r/mmpose.egg-info/top_level.txt\n",
      "  writing manifest file '/private/var/folders/ly/mdyk3b_d1r39hm00y4s1yk1m0000gn/T/pip-pip-egg-info-qmikym6r/mmpose.egg-info/SOURCES.txt'\n",
      "  listing git files failed - pretending there aren't any\n",
      "  reading manifest file '/private/var/folders/ly/mdyk3b_d1r39hm00y4s1yk1m0000gn/T/pip-pip-egg-info-qmikym6r/mmpose.egg-info/SOURCES.txt'\n",
      "  reading manifest template 'MANIFEST.in'\n",
      "  adding license file 'LICENSE'\n",
      "  writing manifest file '/private/var/folders/ly/mdyk3b_d1r39hm00y4s1yk1m0000gn/T/pip-pip-egg-info-qmikym6r/mmpose.egg-info/SOURCES.txt'\n",
      "  Preparing metadata (setup.py) ... \u001b[?25l\u001b[?25hdone\n",
      "Requirement already satisfied: chumpy in /Users/tommy/opt/anaconda3/envs/open-mmlab/lib/python3.7/site-packages (from mmpose==0.27.0) (0.70)\n",
      "Requirement already satisfied: json_tricks in /Users/tommy/opt/anaconda3/envs/open-mmlab/lib/python3.7/site-packages (from mmpose==0.27.0) (3.15.5)\n",
      "Requirement already satisfied: matplotlib in /Users/tommy/opt/anaconda3/envs/open-mmlab/lib/python3.7/site-packages (from mmpose==0.27.0) (3.5.0)\n",
      "Requirement already satisfied: munkres in /Users/tommy/opt/anaconda3/envs/open-mmlab/lib/python3.7/site-packages (from mmpose==0.27.0) (1.1.4)\n",
      "Requirement already satisfied: numpy in /Users/tommy/opt/anaconda3/envs/open-mmlab/lib/python3.7/site-packages (from mmpose==0.27.0) (1.21.6)\n",
      "Requirement already satisfied: opencv-python in /Users/tommy/opt/anaconda3/envs/open-mmlab/lib/python3.7/site-packages (from mmpose==0.27.0) (4.5.4.60)\n",
      "Requirement already satisfied: pillow in /Users/tommy/opt/anaconda3/envs/open-mmlab/lib/python3.7/site-packages (from mmpose==0.27.0) (8.4.0)\n",
      "Requirement already satisfied: scipy in /Users/tommy/opt/anaconda3/envs/open-mmlab/lib/python3.7/site-packages (from mmpose==0.27.0) (1.7.3)\n",
      "Requirement already satisfied: torchvision in /Users/tommy/opt/anaconda3/envs/open-mmlab/lib/python3.7/site-packages (from mmpose==0.27.0) (0.11.1)\n",
      "Requirement already satisfied: xtcocotools>=1.12 in /Users/tommy/opt/anaconda3/envs/open-mmlab/lib/python3.7/site-packages (from mmpose==0.27.0) (1.12)\n",
      "Requirement already satisfied: setuptools>=18.0 in /Users/tommy/opt/anaconda3/envs/open-mmlab/lib/python3.7/site-packages (from xtcocotools>=1.12->mmpose==0.27.0) (59.4.0)\n",
      "Requirement already satisfied: cython>=0.27.3 in /Users/tommy/opt/anaconda3/envs/open-mmlab/lib/python3.7/site-packages (from xtcocotools>=1.12->mmpose==0.27.0) (0.29.25)\n",
      "Requirement already satisfied: fonttools>=4.22.0 in /Users/tommy/opt/anaconda3/envs/open-mmlab/lib/python3.7/site-packages (from matplotlib->mmpose==0.27.0) (4.28.3)\n",
      "Requirement already satisfied: packaging>=20.0 in /Users/tommy/opt/anaconda3/envs/open-mmlab/lib/python3.7/site-packages (from matplotlib->mmpose==0.27.0) (21.3)\n",
      "Requirement already satisfied: kiwisolver>=1.0.1 in /Users/tommy/opt/anaconda3/envs/open-mmlab/lib/python3.7/site-packages (from matplotlib->mmpose==0.27.0) (1.3.2)\n",
      "Requirement already satisfied: pyparsing>=2.2.1 in /Users/tommy/opt/anaconda3/envs/open-mmlab/lib/python3.7/site-packages (from matplotlib->mmpose==0.27.0) (3.0.6)\n",
      "Requirement already satisfied: python-dateutil>=2.7 in /Users/tommy/opt/anaconda3/envs/open-mmlab/lib/python3.7/site-packages (from matplotlib->mmpose==0.27.0) (2.8.2)\n",
      "Requirement already satisfied: setuptools-scm>=4 in /Users/tommy/opt/anaconda3/envs/open-mmlab/lib/python3.7/site-packages (from matplotlib->mmpose==0.27.0) (6.3.2)\n",
      "Requirement already satisfied: cycler>=0.10 in /Users/tommy/opt/anaconda3/envs/open-mmlab/lib/python3.7/site-packages (from matplotlib->mmpose==0.27.0) (0.11.0)\n",
      "Requirement already satisfied: six>=1.11.0 in /Users/tommy/opt/anaconda3/envs/open-mmlab/lib/python3.7/site-packages (from chumpy->mmpose==0.27.0) (1.16.0)\n",
      "Requirement already satisfied: torch in /Users/tommy/opt/anaconda3/envs/open-mmlab/lib/python3.7/site-packages (from torchvision->mmpose==0.27.0) (1.10.0)\n",
      "Requirement already satisfied: tomli>=1.0.0 in /Users/tommy/opt/anaconda3/envs/open-mmlab/lib/python3.7/site-packages (from setuptools-scm>=4->matplotlib->mmpose==0.27.0) (1.2.2)\n",
      "Requirement already satisfied: typing_extensions in /Users/tommy/opt/anaconda3/envs/open-mmlab/lib/python3.7/site-packages (from torch->torchvision->mmpose==0.27.0) (4.0.1)\n",
      "Installing collected packages: mmpose\n",
      "  Attempting uninstall: mmpose\n",
      "    Found existing installation: mmpose 0.27.0\n",
      "    Uninstalling mmpose-0.27.0:\n",
      "      Removing file or directory /Users/tommy/opt/anaconda3/envs/open-mmlab/lib/python3.7/site-packages/mmpose.egg-link\n",
      "      Removing pth entries from /Users/tommy/opt/anaconda3/envs/open-mmlab/lib/python3.7/site-packages/easy-install.pth:\n",
      "      Removing entry: /Users/tommy/Desktop/上海人工智能实验室/mmpose/mmpose\n",
      "      Successfully uninstalled mmpose-0.27.0\n",
      "  Running setup.py develop for mmpose\n",
      "    Running command /Users/tommy/opt/anaconda3/envs/open-mmlab/bin/python3.7 -c 'import io, os, sys, setuptools, tokenize; sys.argv[0] = '\"'\"'/Users/tommy/Desktop/上海人工智能实验室/mmpose/mmpose/setup.py'\"'\"'; __file__='\"'\"'/Users/tommy/Desktop/上海人工智能实验室/mmpose/mmpose/setup.py'\"'\"';f = getattr(tokenize, '\"'\"'open'\"'\"', open)(__file__) if os.path.exists(__file__) else io.StringIO('\"'\"'from setuptools import setup; setup()'\"'\"');code = f.read().replace('\"'\"'\\r\\n'\"'\"', '\"'\"'\\n'\"'\"');f.close();exec(compile(code, __file__, '\"'\"'exec'\"'\"'))' develop --no-deps\n",
      "    running develop\n",
      "    running egg_info\n",
      "    writing mmpose.egg-info/PKG-INFO\n",
      "    writing dependency_links to mmpose.egg-info/dependency_links.txt\n",
      "    writing requirements to mmpose.egg-info/requires.txt\n",
      "    writing top-level names to mmpose.egg-info/top_level.txt\n",
      "    /Users/tommy/opt/anaconda3/envs/open-mmlab/lib/python3.7/site-packages/setuptools/command/easy_install.py:159: EasyInstallDeprecationWarning: easy_install command is deprecated. Use build and pip and other standards-based tools.\n",
      "      EasyInstallDeprecationWarning,\n",
      "    /Users/tommy/opt/anaconda3/envs/open-mmlab/lib/python3.7/site-packages/setuptools/command/install.py:37: SetuptoolsDeprecationWarning: setup.py install is deprecated. Use build and pip and other standards-based tools.\n",
      "      setuptools.SetuptoolsDeprecationWarning,\n",
      "    listing git files failed - pretending there aren't any\n",
      "    reading manifest file 'mmpose.egg-info/SOURCES.txt'\n",
      "    reading manifest template 'MANIFEST.in'\n",
      "    adding license file 'LICENSE'\n",
      "    writing manifest file 'mmpose.egg-info/SOURCES.txt'\n",
      "    running build_ext\n",
      "    Creating /Users/tommy/opt/anaconda3/envs/open-mmlab/lib/python3.7/site-packages/mmpose.egg-link (link to .)\n",
      "    Adding mmpose 0.27.0 to easy-install.pth file\n",
      "\n",
      "    Installed /Users/tommy/Desktop/上海人工智能实验室/mmpose/mmpose\n",
      "Successfully installed mmpose-0.27.0\n"
     ]
    }
   ],
   "source": [
    "!pip install -v -e ."
   ]
  },
  {
   "cell_type": "markdown",
   "id": "ccadb0d3",
   "metadata": {},
   "source": [
    "## 验证安装成功"
   ]
  },
  {
   "cell_type": "code",
   "execution_count": 14,
   "id": "f8960c9c",
   "metadata": {},
   "outputs": [],
   "source": [
    "import mmpose"
   ]
  },
  {
   "cell_type": "code",
   "execution_count": 15,
   "id": "06ea0b77",
   "metadata": {},
   "outputs": [
    {
     "ename": "AttributeError",
     "evalue": "module 'mmpose' has no attribute '__version__'",
     "output_type": "error",
     "traceback": [
      "\u001b[0;31m---------------------------------------------------------------------------\u001b[0m",
      "\u001b[0;31mAttributeError\u001b[0m                            Traceback (most recent call last)",
      "\u001b[0;32m/var/folders/ly/mdyk3b_d1r39hm00y4s1yk1m0000gn/T/ipykernel_2509/3076476256.py\u001b[0m in \u001b[0;36m<module>\u001b[0;34m\u001b[0m\n\u001b[0;32m----> 1\u001b[0;31m \u001b[0mmmpose\u001b[0m\u001b[0;34m.\u001b[0m\u001b[0m__version__\u001b[0m\u001b[0;34m\u001b[0m\u001b[0;34m\u001b[0m\u001b[0m\n\u001b[0m",
      "\u001b[0;31mAttributeError\u001b[0m: module 'mmpose' has no attribute '__version__'"
     ]
    }
   ],
   "source": [
    "mmpose.__version__"
   ]
  },
  {
   "cell_type": "code",
   "execution_count": null,
   "id": "a764e3db",
   "metadata": {},
   "outputs": [],
   "source": []
  }
 ],
 "metadata": {
  "kernelspec": {
   "display_name": "Python 3 (ipykernel)",
   "language": "python",
   "name": "python3"
  },
  "language_info": {
   "codemirror_mode": {
    "name": "ipython",
    "version": 3
   },
   "file_extension": ".py",
   "mimetype": "text/x-python",
   "name": "python",
   "nbconvert_exporter": "python",
   "pygments_lexer": "ipython3",
   "version": "3.7.12"
  }
 },
 "nbformat": 4,
 "nbformat_minor": 5
}
